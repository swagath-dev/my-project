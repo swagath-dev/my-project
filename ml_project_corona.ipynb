{
  "nbformat": 4,
  "nbformat_minor": 0,
  "metadata": {
    "colab": {
      "provenance": []
    },
    "kernelspec": {
      "name": "python3",
      "display_name": "Python 3"
    },
    "language_info": {
      "name": "python"
    }
  },
  "cells": [
    {
      "cell_type": "markdown",
      "metadata": {
        "id": "7hrsNHxCU3j8"
      },
      "source": [
        "#**Capstone Project 2**\n"
      ]
    },
    {
      "cell_type": "markdown",
      "metadata": {
        "id": "KrtOMiHQVafH"
      },
      "source": [
        "**<h2>Machine learning-based prediction of COVID-19 diagnosis based on symptom**"
      ]
    },
    {
      "cell_type": "markdown",
      "metadata": {
        "id": "yz9g49Vo2FJI"
      },
      "source": [
        "**Problem Statement:**<br>\n",
        "In the context of the ongoing COVID-19 pandemic, there is a critical need for accurate and timely identification of individuals likely to test positive for COVID-19 based on their symptoms and demographic information. This study aims to develop a predictive model using machine learning algorithms to enhance the understanding of factors influencing COVID-19 diagnosis."
      ]
    },
    {
      "cell_type": "markdown",
      "metadata": {
        "id": "0XNbROp6VGU5"
      },
      "source": [
        "1. **Why is your proposal important in today’s world? How predicting a disease accurately can improve medical treatment?**\n",
        "   - In today's world, predicting diseases accurately is crucial because it helps doctors provide better treatment. If we know early on who might have a disease, we can take care of them sooner and improve their chances of getting better.\n",
        "\n",
        "2. **How is it going to impact the medical field when it comes to effective screening and reducing health care burden?**\n",
        "   - It will make a big difference in medicine. By predicting diseases accurately, we can screen people more effectively. This means we can find out who might be sick and help them sooner. This not only helps the person but also makes it easier for hospitals and doctors because they can plan better for the number of sick people.\n",
        "\n",
        "3. **If any, what is the gap in the knowledge or how your proposed method can be helpful if required in the future for any other disease?**\n",
        "   - I think right now, there are things we don't fully understand about predicting diseases and the data which i provided was good enough to predict the corona through disease with maximum accuracy. Our proposed method aims to fill these gaps in knowledge. If successful, it can be a useful way not just for predicting COVID-19 but also for other diseases that might come up in the future. It's like having a tool that can be adapted to help with different health challenges."
      ]
    },
    {
      "cell_type": "markdown",
      "metadata": {
        "id": "aM9ICuFCZmuN"
      },
      "source": [
        "<H1>Data Undersatnding and Data Exploration"
      ]
    },
    {
      "cell_type": "markdown",
      "metadata": {
        "id": "nA2f0fS0YMDn"
      },
      "source": [
        "### Data Analysis Approach:\n",
        "\n",
        "#### Approach to Prove or Disprove Hypothesis:\n",
        "To validate the hypothesis related to COVID-19 diagnosis, I will adopt the following steps:\n",
        "\n",
        "1. **Exploratory Data Analysis (EDA):**\n",
        "   - Thoroughly explore the dataset to grasp its structure\n",
        "   - Visualize feature distributions to identify potential patterns and variations.\n",
        "\n",
        "2. **Statistical Analysis:**\n",
        "   - Conduct statistical tests (e.g., chi-square for categorical variables, correlation for numerical variables) to assess feature significance.\n",
        "\n",
        "3. **Feature Importance Analysis:**\n",
        "   - Utilize machine learning models to determine feature importance.\n",
        "   - Identify key features contributing to COVID-19 diagnosis prediction.\n",
        "\n",
        "4. **Data Visualization:**\n",
        "   - Create visualizations (bar charts, histograms, heatmaps) to illustrate feature relationships.\n",
        "   "
      ]
    },
    {
      "cell_type": "markdown",
      "metadata": {
        "id": "T-1j5oEhfbic"
      },
      "source": [
        "### Feature Engineering Techniques:\n",
        "\n",
        "**1. Data Cleaning:**\n",
        "   - **Wrong Data:** Replace incorrect values.\n",
        "   - **Wrong Data Type:** Convert to the correct data type.\n",
        "   - **Duplicates:** Remove duplicate entries.\n",
        "   - **Missing Values:**\n",
        "     - **Remove:** If a variable has over 30% missing data, consider removing it.\n",
        "     - **Replace:**\n",
        "       - Statistically replace with Mean, Median, or Mode based on variable type.\n",
        "\n",
        "**2. Encoding Categorical Variables:**\n",
        "   - Convert categorical variables to numerical representations using techniques like one-hot encoding or label encoding.\n",
        "\n",
        "**3. Handling Missing Data:**\n",
        "   - Impute missing values using statistical methods:\n",
        "     - Research and confirm with the team before deciding to remove or replace.\n",
        "     - Replace statistically with Mean, Median, or Mode based on the variable type.\n",
        "\n",
        "**4. Feature Importance Analysis:**\n",
        "   - Utilize machine learning models to identify and focus on key features contributing to COVID-19 diagnosis prediction.\n"
      ]
    },
    {
      "cell_type": "code",
      "execution_count": 3,
      "metadata": {
        "id": "6jXHBB9MU2mr"
      },
      "outputs": [],
      "source": [
        "#importing fils from desktop to google colab using inbuilt function\n",
        "from google.colab import files\n",
        "#uploaded = files.upload()"
      ]
    },
    {
      "cell_type": "code",
      "execution_count": 4,
      "metadata": {
        "colab": {
          "base_uri": "https://localhost:8080/"
        },
        "id": "i5orQjzlM0hp",
        "outputId": "56f04eb3-23df-45cf-bfae-2e38e45d4c86"
      },
      "outputs": [
        {
          "output_type": "stream",
          "name": "stderr",
          "text": [
            "<ipython-input-4-6f9a55d14b40>:4: DtypeWarning: Columns (2,3,4,5,6) have mixed types. Specify dtype option on import or set low_memory=False.\n",
            "  df=pd.read_csv(\"/content/corona_tested_006.csv\")\n"
          ]
        }
      ],
      "source": [
        "#reading the files to DataFrame object 'DF'\n",
        "#creating a dataframe\n",
        "import pandas as pd\n",
        "df=pd.read_csv(\"/content/corona_tested_006.csv\")"
      ]
    },
    {
      "cell_type": "code",
      "execution_count": 5,
      "metadata": {
        "colab": {
          "base_uri": "https://localhost:8080/",
          "height": 313
        },
        "id": "ZVcWVXvAPh5L",
        "outputId": "1746380f-410c-4f0e-c24c-1c54fd3c98e9"
      },
      "outputs": [
        {
          "output_type": "execute_result",
          "data": {
            "text/plain": [
              "   Ind_ID   Test_date Cough_symptoms  Fever Sore_throat Shortness_of_breath  \\\n",
              "0       1  11-03-2020           TRUE  FALSE        TRUE               FALSE   \n",
              "1       2  11-03-2020          FALSE   TRUE       FALSE               FALSE   \n",
              "2       3  11-03-2020          FALSE   TRUE       FALSE               FALSE   \n",
              "3       4  11-03-2020           TRUE  FALSE       FALSE               FALSE   \n",
              "4       5  11-03-2020           TRUE  FALSE       FALSE               FALSE   \n",
              "\n",
              "  Headache    Corona Age_60_above   Sex           Known_contact  \n",
              "0    FALSE  negative         None  None                  Abroad  \n",
              "1    FALSE  positive         None  None                  Abroad  \n",
              "2    FALSE  positive         None  None                  Abroad  \n",
              "3    FALSE  negative         None  None                  Abroad  \n",
              "4    FALSE  negative         None  None  Contact with confirmed  "
            ],
            "text/html": [
              "\n",
              "  <div id=\"df-ce5cefa5-c7e9-4eb1-9086-abb06d33ec55\" class=\"colab-df-container\">\n",
              "    <div>\n",
              "<style scoped>\n",
              "    .dataframe tbody tr th:only-of-type {\n",
              "        vertical-align: middle;\n",
              "    }\n",
              "\n",
              "    .dataframe tbody tr th {\n",
              "        vertical-align: top;\n",
              "    }\n",
              "\n",
              "    .dataframe thead th {\n",
              "        text-align: right;\n",
              "    }\n",
              "</style>\n",
              "<table border=\"1\" class=\"dataframe\">\n",
              "  <thead>\n",
              "    <tr style=\"text-align: right;\">\n",
              "      <th></th>\n",
              "      <th>Ind_ID</th>\n",
              "      <th>Test_date</th>\n",
              "      <th>Cough_symptoms</th>\n",
              "      <th>Fever</th>\n",
              "      <th>Sore_throat</th>\n",
              "      <th>Shortness_of_breath</th>\n",
              "      <th>Headache</th>\n",
              "      <th>Corona</th>\n",
              "      <th>Age_60_above</th>\n",
              "      <th>Sex</th>\n",
              "      <th>Known_contact</th>\n",
              "    </tr>\n",
              "  </thead>\n",
              "  <tbody>\n",
              "    <tr>\n",
              "      <th>0</th>\n",
              "      <td>1</td>\n",
              "      <td>11-03-2020</td>\n",
              "      <td>TRUE</td>\n",
              "      <td>FALSE</td>\n",
              "      <td>TRUE</td>\n",
              "      <td>FALSE</td>\n",
              "      <td>FALSE</td>\n",
              "      <td>negative</td>\n",
              "      <td>None</td>\n",
              "      <td>None</td>\n",
              "      <td>Abroad</td>\n",
              "    </tr>\n",
              "    <tr>\n",
              "      <th>1</th>\n",
              "      <td>2</td>\n",
              "      <td>11-03-2020</td>\n",
              "      <td>FALSE</td>\n",
              "      <td>TRUE</td>\n",
              "      <td>FALSE</td>\n",
              "      <td>FALSE</td>\n",
              "      <td>FALSE</td>\n",
              "      <td>positive</td>\n",
              "      <td>None</td>\n",
              "      <td>None</td>\n",
              "      <td>Abroad</td>\n",
              "    </tr>\n",
              "    <tr>\n",
              "      <th>2</th>\n",
              "      <td>3</td>\n",
              "      <td>11-03-2020</td>\n",
              "      <td>FALSE</td>\n",
              "      <td>TRUE</td>\n",
              "      <td>FALSE</td>\n",
              "      <td>FALSE</td>\n",
              "      <td>FALSE</td>\n",
              "      <td>positive</td>\n",
              "      <td>None</td>\n",
              "      <td>None</td>\n",
              "      <td>Abroad</td>\n",
              "    </tr>\n",
              "    <tr>\n",
              "      <th>3</th>\n",
              "      <td>4</td>\n",
              "      <td>11-03-2020</td>\n",
              "      <td>TRUE</td>\n",
              "      <td>FALSE</td>\n",
              "      <td>FALSE</td>\n",
              "      <td>FALSE</td>\n",
              "      <td>FALSE</td>\n",
              "      <td>negative</td>\n",
              "      <td>None</td>\n",
              "      <td>None</td>\n",
              "      <td>Abroad</td>\n",
              "    </tr>\n",
              "    <tr>\n",
              "      <th>4</th>\n",
              "      <td>5</td>\n",
              "      <td>11-03-2020</td>\n",
              "      <td>TRUE</td>\n",
              "      <td>FALSE</td>\n",
              "      <td>FALSE</td>\n",
              "      <td>FALSE</td>\n",
              "      <td>FALSE</td>\n",
              "      <td>negative</td>\n",
              "      <td>None</td>\n",
              "      <td>None</td>\n",
              "      <td>Contact with confirmed</td>\n",
              "    </tr>\n",
              "  </tbody>\n",
              "</table>\n",
              "</div>\n",
              "    <div class=\"colab-df-buttons\">\n",
              "\n",
              "  <div class=\"colab-df-container\">\n",
              "    <button class=\"colab-df-convert\" onclick=\"convertToInteractive('df-ce5cefa5-c7e9-4eb1-9086-abb06d33ec55')\"\n",
              "            title=\"Convert this dataframe to an interactive table.\"\n",
              "            style=\"display:none;\">\n",
              "\n",
              "  <svg xmlns=\"http://www.w3.org/2000/svg\" height=\"24px\" viewBox=\"0 -960 960 960\">\n",
              "    <path d=\"M120-120v-720h720v720H120Zm60-500h600v-160H180v160Zm220 220h160v-160H400v160Zm0 220h160v-160H400v160ZM180-400h160v-160H180v160Zm440 0h160v-160H620v160ZM180-180h160v-160H180v160Zm440 0h160v-160H620v160Z\"/>\n",
              "  </svg>\n",
              "    </button>\n",
              "\n",
              "  <style>\n",
              "    .colab-df-container {\n",
              "      display:flex;\n",
              "      gap: 12px;\n",
              "    }\n",
              "\n",
              "    .colab-df-convert {\n",
              "      background-color: #E8F0FE;\n",
              "      border: none;\n",
              "      border-radius: 50%;\n",
              "      cursor: pointer;\n",
              "      display: none;\n",
              "      fill: #1967D2;\n",
              "      height: 32px;\n",
              "      padding: 0 0 0 0;\n",
              "      width: 32px;\n",
              "    }\n",
              "\n",
              "    .colab-df-convert:hover {\n",
              "      background-color: #E2EBFA;\n",
              "      box-shadow: 0px 1px 2px rgba(60, 64, 67, 0.3), 0px 1px 3px 1px rgba(60, 64, 67, 0.15);\n",
              "      fill: #174EA6;\n",
              "    }\n",
              "\n",
              "    .colab-df-buttons div {\n",
              "      margin-bottom: 4px;\n",
              "    }\n",
              "\n",
              "    [theme=dark] .colab-df-convert {\n",
              "      background-color: #3B4455;\n",
              "      fill: #D2E3FC;\n",
              "    }\n",
              "\n",
              "    [theme=dark] .colab-df-convert:hover {\n",
              "      background-color: #434B5C;\n",
              "      box-shadow: 0px 1px 3px 1px rgba(0, 0, 0, 0.15);\n",
              "      filter: drop-shadow(0px 1px 2px rgba(0, 0, 0, 0.3));\n",
              "      fill: #FFFFFF;\n",
              "    }\n",
              "  </style>\n",
              "\n",
              "    <script>\n",
              "      const buttonEl =\n",
              "        document.querySelector('#df-ce5cefa5-c7e9-4eb1-9086-abb06d33ec55 button.colab-df-convert');\n",
              "      buttonEl.style.display =\n",
              "        google.colab.kernel.accessAllowed ? 'block' : 'none';\n",
              "\n",
              "      async function convertToInteractive(key) {\n",
              "        const element = document.querySelector('#df-ce5cefa5-c7e9-4eb1-9086-abb06d33ec55');\n",
              "        const dataTable =\n",
              "          await google.colab.kernel.invokeFunction('convertToInteractive',\n",
              "                                                    [key], {});\n",
              "        if (!dataTable) return;\n",
              "\n",
              "        const docLinkHtml = 'Like what you see? Visit the ' +\n",
              "          '<a target=\"_blank\" href=https://colab.research.google.com/notebooks/data_table.ipynb>data table notebook</a>'\n",
              "          + ' to learn more about interactive tables.';\n",
              "        element.innerHTML = '';\n",
              "        dataTable['output_type'] = 'display_data';\n",
              "        await google.colab.output.renderOutput(dataTable, element);\n",
              "        const docLink = document.createElement('div');\n",
              "        docLink.innerHTML = docLinkHtml;\n",
              "        element.appendChild(docLink);\n",
              "      }\n",
              "    </script>\n",
              "  </div>\n",
              "\n",
              "\n",
              "<div id=\"df-cd39b367-e9b0-4aab-991a-47c8f6e54e78\">\n",
              "  <button class=\"colab-df-quickchart\" onclick=\"quickchart('df-cd39b367-e9b0-4aab-991a-47c8f6e54e78')\"\n",
              "            title=\"Suggest charts\"\n",
              "            style=\"display:none;\">\n",
              "\n",
              "<svg xmlns=\"http://www.w3.org/2000/svg\" height=\"24px\"viewBox=\"0 0 24 24\"\n",
              "     width=\"24px\">\n",
              "    <g>\n",
              "        <path d=\"M19 3H5c-1.1 0-2 .9-2 2v14c0 1.1.9 2 2 2h14c1.1 0 2-.9 2-2V5c0-1.1-.9-2-2-2zM9 17H7v-7h2v7zm4 0h-2V7h2v10zm4 0h-2v-4h2v4z\"/>\n",
              "    </g>\n",
              "</svg>\n",
              "  </button>\n",
              "\n",
              "<style>\n",
              "  .colab-df-quickchart {\n",
              "      --bg-color: #E8F0FE;\n",
              "      --fill-color: #1967D2;\n",
              "      --hover-bg-color: #E2EBFA;\n",
              "      --hover-fill-color: #174EA6;\n",
              "      --disabled-fill-color: #AAA;\n",
              "      --disabled-bg-color: #DDD;\n",
              "  }\n",
              "\n",
              "  [theme=dark] .colab-df-quickchart {\n",
              "      --bg-color: #3B4455;\n",
              "      --fill-color: #D2E3FC;\n",
              "      --hover-bg-color: #434B5C;\n",
              "      --hover-fill-color: #FFFFFF;\n",
              "      --disabled-bg-color: #3B4455;\n",
              "      --disabled-fill-color: #666;\n",
              "  }\n",
              "\n",
              "  .colab-df-quickchart {\n",
              "    background-color: var(--bg-color);\n",
              "    border: none;\n",
              "    border-radius: 50%;\n",
              "    cursor: pointer;\n",
              "    display: none;\n",
              "    fill: var(--fill-color);\n",
              "    height: 32px;\n",
              "    padding: 0;\n",
              "    width: 32px;\n",
              "  }\n",
              "\n",
              "  .colab-df-quickchart:hover {\n",
              "    background-color: var(--hover-bg-color);\n",
              "    box-shadow: 0 1px 2px rgba(60, 64, 67, 0.3), 0 1px 3px 1px rgba(60, 64, 67, 0.15);\n",
              "    fill: var(--button-hover-fill-color);\n",
              "  }\n",
              "\n",
              "  .colab-df-quickchart-complete:disabled,\n",
              "  .colab-df-quickchart-complete:disabled:hover {\n",
              "    background-color: var(--disabled-bg-color);\n",
              "    fill: var(--disabled-fill-color);\n",
              "    box-shadow: none;\n",
              "  }\n",
              "\n",
              "  .colab-df-spinner {\n",
              "    border: 2px solid var(--fill-color);\n",
              "    border-color: transparent;\n",
              "    border-bottom-color: var(--fill-color);\n",
              "    animation:\n",
              "      spin 1s steps(1) infinite;\n",
              "  }\n",
              "\n",
              "  @keyframes spin {\n",
              "    0% {\n",
              "      border-color: transparent;\n",
              "      border-bottom-color: var(--fill-color);\n",
              "      border-left-color: var(--fill-color);\n",
              "    }\n",
              "    20% {\n",
              "      border-color: transparent;\n",
              "      border-left-color: var(--fill-color);\n",
              "      border-top-color: var(--fill-color);\n",
              "    }\n",
              "    30% {\n",
              "      border-color: transparent;\n",
              "      border-left-color: var(--fill-color);\n",
              "      border-top-color: var(--fill-color);\n",
              "      border-right-color: var(--fill-color);\n",
              "    }\n",
              "    40% {\n",
              "      border-color: transparent;\n",
              "      border-right-color: var(--fill-color);\n",
              "      border-top-color: var(--fill-color);\n",
              "    }\n",
              "    60% {\n",
              "      border-color: transparent;\n",
              "      border-right-color: var(--fill-color);\n",
              "    }\n",
              "    80% {\n",
              "      border-color: transparent;\n",
              "      border-right-color: var(--fill-color);\n",
              "      border-bottom-color: var(--fill-color);\n",
              "    }\n",
              "    90% {\n",
              "      border-color: transparent;\n",
              "      border-bottom-color: var(--fill-color);\n",
              "    }\n",
              "  }\n",
              "</style>\n",
              "\n",
              "  <script>\n",
              "    async function quickchart(key) {\n",
              "      const quickchartButtonEl =\n",
              "        document.querySelector('#' + key + ' button');\n",
              "      quickchartButtonEl.disabled = true;  // To prevent multiple clicks.\n",
              "      quickchartButtonEl.classList.add('colab-df-spinner');\n",
              "      try {\n",
              "        const charts = await google.colab.kernel.invokeFunction(\n",
              "            'suggestCharts', [key], {});\n",
              "      } catch (error) {\n",
              "        console.error('Error during call to suggestCharts:', error);\n",
              "      }\n",
              "      quickchartButtonEl.classList.remove('colab-df-spinner');\n",
              "      quickchartButtonEl.classList.add('colab-df-quickchart-complete');\n",
              "    }\n",
              "    (() => {\n",
              "      let quickchartButtonEl =\n",
              "        document.querySelector('#df-cd39b367-e9b0-4aab-991a-47c8f6e54e78 button');\n",
              "      quickchartButtonEl.style.display =\n",
              "        google.colab.kernel.accessAllowed ? 'block' : 'none';\n",
              "    })();\n",
              "  </script>\n",
              "</div>\n",
              "\n",
              "    </div>\n",
              "  </div>\n"
            ]
          },
          "metadata": {},
          "execution_count": 5
        }
      ],
      "source": [
        "#exploring the first 5 columns of the DataFrame\n",
        "df.head()"
      ]
    },
    {
      "cell_type": "code",
      "execution_count": 6,
      "metadata": {
        "colab": {
          "base_uri": "https://localhost:8080/"
        },
        "id": "QgQ6xd-QQrS4",
        "outputId": "4d154cfe-13d8-4ab4-bd89-53e597af91f3"
      },
      "outputs": [
        {
          "output_type": "stream",
          "name": "stdout",
          "text": [
            "(278848, 11)\n",
            "['Ind_ID', 'Test_date', 'Cough_symptoms', 'Fever', 'Sore_throat', 'Shortness_of_breath', 'Headache', 'Corona', 'Age_60_above', 'Sex', 'Known_contact']\n"
          ]
        }
      ],
      "source": [
        "print(df.shape)                     #shape of the DataFrame\n",
        "print(list(df.columns))             #name of all columns printed as list for easy identification\n"
      ]
    },
    {
      "cell_type": "code",
      "execution_count": 7,
      "metadata": {
        "colab": {
          "base_uri": "https://localhost:8080/"
        },
        "id": "q91rKiSpTvL3",
        "outputId": "6b2ff811-6a6a-49ef-aae6-59e42cab460c"
      },
      "outputs": [
        {
          "output_type": "stream",
          "name": "stdout",
          "text": [
            "<class 'pandas.core.frame.DataFrame'>\n",
            "RangeIndex: 278848 entries, 0 to 278847\n",
            "Data columns (total 11 columns):\n",
            " #   Column               Non-Null Count   Dtype \n",
            "---  ------               --------------   ----- \n",
            " 0   Ind_ID               278848 non-null  int64 \n",
            " 1   Test_date            278848 non-null  object\n",
            " 2   Cough_symptoms       278848 non-null  object\n",
            " 3   Fever                278848 non-null  object\n",
            " 4   Sore_throat          278848 non-null  object\n",
            " 5   Shortness_of_breath  278848 non-null  object\n",
            " 6   Headache             278848 non-null  object\n",
            " 7   Corona               278848 non-null  object\n",
            " 8   Age_60_above         278848 non-null  object\n",
            " 9   Sex                  278848 non-null  object\n",
            " 10  Known_contact        278848 non-null  object\n",
            "dtypes: int64(1), object(10)\n",
            "memory usage: 23.4+ MB\n"
          ]
        }
      ],
      "source": [
        "df.info()                            #detecting non-null values & Dtype of all the cloumns in DataFrame"
      ]
    },
    {
      "cell_type": "code",
      "execution_count": 8,
      "metadata": {
        "colab": {
          "base_uri": "https://localhost:8080/"
        },
        "id": "t2ehSkwtWmPt",
        "outputId": "4fa2523d-b727-41b7-8fe2-b8fd66b72426"
      },
      "outputs": [
        {
          "output_type": "execute_result",
          "data": {
            "text/plain": [
              "pandas.core.frame.DataFrame"
            ]
          },
          "metadata": {},
          "execution_count": 8
        }
      ],
      "source": [
        "type(df)              # checking the type of DataFrame"
      ]
    },
    {
      "cell_type": "code",
      "execution_count": 9,
      "metadata": {
        "colab": {
          "base_uri": "https://localhost:8080/"
        },
        "id": "H_K7jnyB2q2s",
        "outputId": "72bcdebc-c838-49ca-a341-08858c5c5c97"
      },
      "outputs": [
        {
          "output_type": "execute_result",
          "data": {
            "text/plain": [
              "Ind_ID                 278848\n",
              "Test_date                  51\n",
              "Cough_symptoms              5\n",
              "Fever                       5\n",
              "Sore_throat                 5\n",
              "Shortness_of_breath         5\n",
              "Headache                    5\n",
              "Corona                      3\n",
              "Age_60_above                3\n",
              "Sex                         3\n",
              "Known_contact               3\n",
              "dtype: int64"
            ]
          },
          "metadata": {},
          "execution_count": 9
        }
      ],
      "source": [
        "df.nunique()  #no of unique values in df\n"
      ]
    },
    {
      "cell_type": "code",
      "execution_count": 10,
      "metadata": {
        "colab": {
          "base_uri": "https://localhost:8080/"
        },
        "id": "9DShRe_u4SXg",
        "outputId": "76fcf642-ade8-4505-f4a8-046fde684827"
      },
      "outputs": [
        {
          "output_type": "execute_result",
          "data": {
            "text/plain": [
              "array(['Cough_symptoms', 'Fever', 'Sore_throat', 'Shortness_of_breath',\n",
              "       'Headache', 'Corona', 'Age_60_above', 'Sex', 'Known_contact'],\n",
              "      dtype=object)"
            ]
          },
          "metadata": {},
          "execution_count": 10
        }
      ],
      "source": [
        "import numpy as np\n",
        "#extracting columns as array\n",
        "c=np.array(df.columns)\n",
        "c=c[2:]\n",
        "c"
      ]
    },
    {
      "cell_type": "code",
      "execution_count": 11,
      "metadata": {
        "colab": {
          "base_uri": "https://localhost:8080/"
        },
        "id": "opFTH3jr3aLi",
        "outputId": "84fc1281-1431-4f18-e341-14691d7965b7"
      },
      "outputs": [
        {
          "output_type": "stream",
          "name": "stdout",
          "text": [
            "Value counts for Cough_symptoms:\n",
            "False    127531\n",
            "FALSE    108837\n",
            "TRUE      21983\n",
            "True      20245\n",
            "None        252\n",
            "Name: Cough_symptoms, dtype: int64\n",
            "\n",
            "Value counts for Fever:\n",
            "False    137774\n",
            "FALSE    119070\n",
            "TRUE      11750\n",
            "True      10002\n",
            "None        252\n",
            "Name: Fever, dtype: int64\n",
            "\n",
            "Value counts for Sore_throat:\n",
            "False    212584\n",
            "FALSE     64337\n",
            "TRUE       1198\n",
            "True        728\n",
            "None          1\n",
            "Name: Sore_throat, dtype: int64\n",
            "\n",
            "Value counts for Shortness_of_breath:\n",
            "False    212842\n",
            "FALSE     64428\n",
            "TRUE       1107\n",
            "True        470\n",
            "None          1\n",
            "Name: Shortness_of_breath, dtype: int64\n",
            "\n",
            "Value counts for Headache:\n",
            "False    212326\n",
            "FALSE     64107\n",
            "TRUE       1428\n",
            "True        986\n",
            "None          1\n",
            "Name: Headache, dtype: int64\n",
            "\n",
            "Value counts for Corona:\n",
            "negative    260227\n",
            "positive     14729\n",
            "other         3892\n",
            "Name: Corona, dtype: int64\n",
            "\n",
            "Value counts for Age_60_above:\n",
            "None    127320\n",
            "No      125703\n",
            "Yes      25825\n",
            "Name: Age_60_above, dtype: int64\n",
            "\n",
            "Value counts for Sex:\n",
            "female    130158\n",
            "male      129127\n",
            "None       19563\n",
            "Name: Sex, dtype: int64\n",
            "\n",
            "Value counts for Known_contact:\n",
            "Other                     242741\n",
            "Abroad                     25468\n",
            "Contact with confirmed     10639\n",
            "Name: Known_contact, dtype: int64\n",
            "\n"
          ]
        }
      ],
      "source": [
        "#unique value counts of each column\n",
        "for column in c:\n",
        "    value_counts = df[column].value_counts()\n",
        "    print(f\"Value counts for {column}:\\n{value_counts}\\n\")\n"
      ]
    },
    {
      "cell_type": "markdown",
      "metadata": {
        "id": "o4Li76_bgXe-"
      },
      "source": [
        "<h1>columns which are  Continous:</h1>\n",
        "1. Test_Date\n",
        "<h1>columns which are Discrete <br></h1>\n",
        "1.Ind_ID<br>\n",
        "2.Cough_symptoms<br>\n",
        "3.Fever<br>\n",
        "4.Sore_throat<br>\n",
        "5.Shortness_of_breath<br>\n",
        "6.Headache<br>\n",
        "7.Corona<br>\n",
        "8.Age_60_above<br>\n",
        "9.Sex<br>\n",
        "10.Known_contact<br>"
      ]
    },
    {
      "cell_type": "markdown",
      "metadata": {
        "id": "6JlAAE89lG0a"
      },
      "source": [
        "**Null values Detection**"
      ]
    },
    {
      "cell_type": "code",
      "execution_count": 12,
      "metadata": {
        "colab": {
          "base_uri": "https://localhost:8080/"
        },
        "id": "yGhRLH2GkboR",
        "outputId": "ea4db815-4b54-4917-d1ee-96c9f06aefb0"
      },
      "outputs": [
        {
          "output_type": "execute_result",
          "data": {
            "text/plain": [
              "Ind_ID                 0\n",
              "Test_date              0\n",
              "Cough_symptoms         0\n",
              "Fever                  0\n",
              "Sore_throat            0\n",
              "Shortness_of_breath    0\n",
              "Headache               0\n",
              "Corona                 0\n",
              "Age_60_above           0\n",
              "Sex                    0\n",
              "Known_contact          0\n",
              "dtype: int64"
            ]
          },
          "metadata": {},
          "execution_count": 12
        }
      ],
      "source": [
        "#checking the null values  and getting the total of null values from each column\n",
        "df.isnull().sum()"
      ]
    },
    {
      "cell_type": "markdown",
      "metadata": {
        "id": "y7u0l1GqlS8L"
      },
      "source": [
        "**IND_ID COLUMN**"
      ]
    },
    {
      "cell_type": "code",
      "execution_count": 13,
      "metadata": {
        "colab": {
          "base_uri": "https://localhost:8080/"
        },
        "id": "eu3Zzdehh7Qi",
        "outputId": "983d4638-43cc-4198-f3a1-8788f269c177"
      },
      "outputs": [
        {
          "output_type": "execute_result",
          "data": {
            "text/plain": [
              "278848"
            ]
          },
          "metadata": {},
          "execution_count": 13
        }
      ],
      "source": [
        "#checking the columns values\n",
        "df[\"Ind_ID\"].value_counts().sum()"
      ]
    },
    {
      "cell_type": "code",
      "execution_count": 14,
      "metadata": {
        "colab": {
          "base_uri": "https://localhost:8080/"
        },
        "id": "fpwZj8dHUA-T",
        "outputId": "fca59bee-7386-4e12-d994-0108210b4341"
      },
      "outputs": [
        {
          "output_type": "stream",
          "name": "stderr",
          "text": [
            "<ipython-input-14-f0e0a3848f03>:2: UserWarning: Parsing dates in DD/MM/YYYY format when dayfirst=False (the default) was specified. This may lead to inconsistently parsed dates! Specify a format to ensure consistent parsing.\n",
            "  df['Test_date']=df['Test_date'].astype('datetime64')\n"
          ]
        },
        {
          "output_type": "execute_result",
          "data": {
            "text/plain": [
              "0        2020-11-03\n",
              "1        2020-11-03\n",
              "2        2020-11-03\n",
              "3        2020-11-03\n",
              "4        2020-11-03\n",
              "            ...    \n",
              "278843   2020-04-30\n",
              "278844   2020-04-30\n",
              "278845   2020-04-30\n",
              "278846   2020-04-30\n",
              "278847   2020-04-30\n",
              "Name: Test_date, Length: 278848, dtype: datetime64[ns]"
            ]
          },
          "metadata": {},
          "execution_count": 14
        }
      ],
      "source": [
        "#converting Test_Date into \"date\" datatype format\n",
        "df['Test_date']=df['Test_date'].astype('datetime64')\n",
        "df['Test_date']\n"
      ]
    },
    {
      "cell_type": "markdown",
      "metadata": {
        "id": "dVkD1yKmlXV4"
      },
      "source": [
        "**cough_column** :"
      ]
    },
    {
      "cell_type": "code",
      "execution_count": 15,
      "metadata": {
        "colab": {
          "base_uri": "https://localhost:8080/"
        },
        "id": "oHfUgSR4YyrZ",
        "outputId": "eb1858ff-d975-4bcc-8c04-f34ad4718d75"
      },
      "outputs": [
        {
          "output_type": "execute_result",
          "data": {
            "text/plain": [
              "False    45.734952\n",
              "FALSE    39.030942\n",
              "TRUE      7.883506\n",
              "True      7.260228\n",
              "None      0.090372\n",
              "Name: Cough_symptoms, dtype: float64"
            ]
          },
          "metadata": {},
          "execution_count": 15
        }
      ],
      "source": [
        "# verifying the % of False and True in the column coungh_symptoms\n",
        "(df['Cough_symptoms'].value_counts()/len(df))*100"
      ]
    },
    {
      "cell_type": "code",
      "execution_count": 16,
      "metadata": {
        "colab": {
          "base_uri": "https://localhost:8080/"
        },
        "id": "7bF-WbJDjn1i",
        "outputId": "06a9b473-425c-4534-cca9-b7c94e0f49d8"
      },
      "outputs": [
        {
          "output_type": "stream",
          "name": "stdout",
          "text": [
            "0    False\n",
            "Name: Cough_symptoms, dtype: object\n",
            "['TRUE' 'FALSE' 'None' False True]\n"
          ]
        }
      ],
      "source": [
        "#printing the mode & Unique values of the Cough_symptoms column\n",
        "\n",
        "print(df[\"Cough_symptoms\"].mode())\n",
        "print(df[\"Cough_symptoms\"].unique())"
      ]
    },
    {
      "cell_type": "code",
      "execution_count": 17,
      "metadata": {
        "colab": {
          "base_uri": "https://localhost:8080/"
        },
        "id": "-Jrhy9XPcvSU",
        "outputId": "8a369bcb-0d95-4333-a8ce-264bce630bf6"
      },
      "outputs": [
        {
          "output_type": "execute_result",
          "data": {
            "text/plain": [
              "array(['TRUE', 'FALSE'], dtype=object)"
            ]
          },
          "metadata": {},
          "execution_count": 17
        }
      ],
      "source": [
        "# replacing the \"Nnone\" values with the \"mode\" value\" bcz its a categorical Vaiable\n",
        "\n",
        "df[\"Cough_symptoms\"]= df['Cough_symptoms'].replace({True:\"TRUE\",False:'FALSE',\"None\":\"FALSE\"})\n",
        "df[\"Cough_symptoms\"].unique()   # displaying the unique values after the replacement to verify"
      ]
    },
    {
      "cell_type": "code",
      "execution_count": 18,
      "metadata": {
        "colab": {
          "base_uri": "https://localhost:8080/",
          "height": 450
        },
        "id": "NHXNom9WoSdW",
        "outputId": "54c1735d-cd39-4de2-f507-9541bb53d9a2"
      },
      "outputs": [
        {
          "output_type": "display_data",
          "data": {
            "text/plain": [
              "<Figure size 640x480 with 1 Axes>"
            ],
            "image/png": "[encoded data removed]"
          },
          "metadata": {}
        }
      ],
      "source": [
        "#plotting the count_plot to see the count of each values using seaborn library\n",
        "\n",
        "import seaborn  as sns # importing the seaborn library\n",
        "fig=sns.countplot(x=\"Cough_symptoms\", data=df)"
      ]
    },
    {
      "cell_type": "markdown",
      "metadata": {
        "id": "UseqtRahldzU"
      },
      "source": [
        "**Fever column :**"
      ]
    },
    {
      "cell_type": "code",
      "execution_count": 19,
      "metadata": {
        "colab": {
          "base_uri": "https://localhost:8080/"
        },
        "id": "yt8naysqjZEo",
        "outputId": "9bbc8653-96da-4ce0-c1ac-e41306f1310f"
      },
      "outputs": [
        {
          "output_type": "execute_result",
          "data": {
            "text/plain": [
              "False    137774\n",
              "FALSE    119070\n",
              "TRUE      11750\n",
              "True      10002\n",
              "None        252\n",
              "Name: Fever, dtype: int64"
            ]
          },
          "metadata": {},
          "execution_count": 19
        }
      ],
      "source": [
        "df[\"Fever\"].unique()         #unique values\n",
        "df[\"Fever\"].value_counts()   #no of counts of each value in a column"
      ]
    },
    {
      "cell_type": "code",
      "execution_count": 20,
      "metadata": {
        "id": "snMHUPWKjxE5"
      },
      "outputs": [],
      "source": [
        "#replacing the \"none\" values with \"mode\"\n",
        "df[\"Fever\"]= df['Fever'].replace({True:\"TRUE\",False:'FALSE',\"None\":\"FALSE\"})"
      ]
    },
    {
      "cell_type": "code",
      "execution_count": 21,
      "metadata": {
        "colab": {
          "base_uri": "https://localhost:8080/"
        },
        "id": "ZcAz3D_KjyIz",
        "outputId": "3b1ad6b5-a4a9-4363-b809-4728a420a74f"
      },
      "outputs": [
        {
          "output_type": "execute_result",
          "data": {
            "text/plain": [
              "0    FALSE\n",
              "Name: Fever, dtype: object"
            ]
          },
          "metadata": {},
          "execution_count": 21
        }
      ],
      "source": [
        "df['Fever'].mode()   # mode"
      ]
    },
    {
      "cell_type": "code",
      "execution_count": 22,
      "metadata": {
        "colab": {
          "base_uri": "https://localhost:8080/",
          "height": 449
        },
        "id": "43nkQu_soYnB",
        "outputId": "b669c108-fea1-4721-d519-5c784356505e"
      },
      "outputs": [
        {
          "output_type": "display_data",
          "data": {
            "text/plain": [
              "<Figure size 640x480 with 1 Axes>"
            ],
            "image/png": "[encoded data removed]"
          },
          "metadata": {}
        }
      ],
      "source": [
        "#ploting count_plot fro Fever column of DataFrame\n",
        "fig=sns.countplot(x=\"Fever\", data=df)"
      ]
    },
    {
      "cell_type": "code",
      "execution_count": 23,
      "metadata": {
        "colab": {
          "base_uri": "https://localhost:8080/"
        },
        "id": "anlW7i4goeg2",
        "outputId": "4cebd751-e066-4afe-9183-50bd6a9cc88e"
      },
      "outputs": [
        {
          "output_type": "stream",
          "name": "stdout",
          "text": [
            "<class 'pandas.core.frame.DataFrame'>\n",
            "RangeIndex: 278848 entries, 0 to 278847\n",
            "Data columns (total 11 columns):\n",
            " #   Column               Non-Null Count   Dtype         \n",
            "---  ------               --------------   -----         \n",
            " 0   Ind_ID               278848 non-null  int64         \n",
            " 1   Test_date            278848 non-null  datetime64[ns]\n",
            " 2   Cough_symptoms       278848 non-null  object        \n",
            " 3   Fever                278848 non-null  object        \n",
            " 4   Sore_throat          278848 non-null  object        \n",
            " 5   Shortness_of_breath  278848 non-null  object        \n",
            " 6   Headache             278848 non-null  object        \n",
            " 7   Corona               278848 non-null  object        \n",
            " 8   Age_60_above         278848 non-null  object        \n",
            " 9   Sex                  278848 non-null  object        \n",
            " 10  Known_contact        278848 non-null  object        \n",
            "dtypes: datetime64[ns](1), int64(1), object(9)\n",
            "memory usage: 23.4+ MB\n"
          ]
        }
      ],
      "source": [
        "df.info()"
      ]
    },
    {
      "cell_type": "markdown",
      "metadata": {
        "id": "NTBxkKGWmHJp"
      },
      "source": [
        "**Sore Throat:**"
      ]
    },
    {
      "cell_type": "code",
      "execution_count": 24,
      "metadata": {
        "colab": {
          "base_uri": "https://localhost:8080/"
        },
        "id": "ftJvbCoxonY7",
        "outputId": "9a90dc92-cfef-4524-86ea-e3d9ee53b95b"
      },
      "outputs": [
        {
          "output_type": "execute_result",
          "data": {
            "text/plain": [
              "False    212584\n",
              "FALSE     64337\n",
              "TRUE       1198\n",
              "True        728\n",
              "None          1\n",
              "Name: Sore_throat, dtype: int64"
            ]
          },
          "metadata": {},
          "execution_count": 24
        }
      ],
      "source": [
        "df[\"Sore_throat\"].value_counts()"
      ]
    },
    {
      "cell_type": "code",
      "execution_count": 25,
      "metadata": {
        "id": "WIiH61IEoniZ"
      },
      "outputs": [],
      "source": [
        "#repacing values of Sore_throat column with mode of that column\n",
        "df[\"Sore_throat\"]= df['Sore_throat'].replace({True:\"TRUE\",False:'FALSE',\"None\":\"FALSE\"})\n"
      ]
    },
    {
      "cell_type": "markdown",
      "metadata": {
        "id": "MUIEivj0mKlo"
      },
      "source": [
        "**Shortness_of_breath** :"
      ]
    },
    {
      "cell_type": "code",
      "execution_count": 26,
      "metadata": {
        "colab": {
          "base_uri": "https://localhost:8080/"
        },
        "id": "rTiwyJtSonlY",
        "outputId": "d82ed003-c07d-4b77-c8a2-4b062a15a94d"
      },
      "outputs": [
        {
          "output_type": "execute_result",
          "data": {
            "text/plain": [
              "False    212842\n",
              "FALSE     64428\n",
              "TRUE       1107\n",
              "True        470\n",
              "None          1\n",
              "Name: Shortness_of_breath, dtype: int64"
            ]
          },
          "metadata": {},
          "execution_count": 26
        }
      ],
      "source": [
        "#checing any null values or inncorect value counts\n",
        "df[\"Shortness_of_breath\"].value_counts()"
      ]
    },
    {
      "cell_type": "code",
      "execution_count": 27,
      "metadata": {
        "id": "OSaMHTNQonoU"
      },
      "outputs": [],
      "source": [
        "#replacing inncorect values with mode\n",
        "df[\"Shortness_of_breath\"]= df['Shortness_of_breath'].replace({True:\"TRUE\",False:'FALSE',\"None\":\"FALSE\"})"
      ]
    },
    {
      "cell_type": "markdown",
      "metadata": {
        "id": "IyhpX24Fptr5"
      },
      "source": [
        "**Headache**\n"
      ]
    },
    {
      "cell_type": "code",
      "execution_count": 28,
      "metadata": {
        "colab": {
          "base_uri": "https://localhost:8080/"
        },
        "id": "fetKXzuaons_",
        "outputId": "b80960c7-441c-49ab-ec0d-c862e469515b"
      },
      "outputs": [
        {
          "output_type": "execute_result",
          "data": {
            "text/plain": [
              "False    212326\n",
              "FALSE     64107\n",
              "TRUE       1428\n",
              "True        986\n",
              "None          1\n",
              "Name: Headache, dtype: int64"
            ]
          },
          "metadata": {},
          "execution_count": 28
        }
      ],
      "source": [
        "df[\"Headache\"].value_counts()"
      ]
    },
    {
      "cell_type": "code",
      "execution_count": 29,
      "metadata": {
        "id": "TEmmqhUeonxO"
      },
      "outputs": [],
      "source": [
        "df[\"Headache\"]= df['Headache'].replace({True:\"TRUE\",False:'FALSE',\"None\":\"FALSE\"})"
      ]
    },
    {
      "cell_type": "markdown",
      "metadata": {
        "id": "X-qpxlHSmqnU"
      },
      "source": [
        "**Dependent variable:\n",
        "Corona**"
      ]
    },
    {
      "cell_type": "code",
      "execution_count": 30,
      "metadata": {
        "colab": {
          "base_uri": "https://localhost:8080/"
        },
        "id": "JO__P8Hgrkfu",
        "outputId": "77265e87-655e-4d22-aefc-982b3ad34f1b"
      },
      "outputs": [
        {
          "output_type": "execute_result",
          "data": {
            "text/plain": [
              "negative    260227\n",
              "positive     14729\n",
              "other         3892\n",
              "Name: Corona, dtype: int64"
            ]
          },
          "metadata": {},
          "execution_count": 30
        }
      ],
      "source": [
        "#counting values to see the data any other than +ve or -ve reported\n",
        "df[\"Corona\"].value_counts()"
      ]
    },
    {
      "cell_type": "code",
      "execution_count": 31,
      "metadata": {
        "colab": {
          "base_uri": "https://localhost:8080/"
        },
        "id": "Em-uSOhdon0P",
        "outputId": "cf5c9331-2f51-44dc-9705-e477d3747ed5"
      },
      "outputs": [
        {
          "output_type": "execute_result",
          "data": {
            "text/plain": [
              "negative    93.322168\n",
              "positive     5.282089\n",
              "other        1.395742\n",
              "Name: Corona, dtype: float64"
            ]
          },
          "metadata": {},
          "execution_count": 31
        }
      ],
      "source": [
        "#extracting the percentage of values of the column Corona\n",
        "(df[\"Corona\"].value_counts()/len(df))*100"
      ]
    },
    {
      "cell_type": "code",
      "execution_count": 32,
      "metadata": {
        "id": "WtpOiGrqon3Q"
      },
      "outputs": [],
      "source": [
        "#replacing the values with the mode bcz datalost is less than 30%\n",
        "#i.e <30%\n",
        "df[\"Corona\"]=df[\"Corona\"].replace({\"other\":\"negative\"})"
      ]
    },
    {
      "cell_type": "code",
      "execution_count": 33,
      "metadata": {
        "colab": {
          "base_uri": "https://localhost:8080/",
          "height": 449
        },
        "id": "TgH0nKB3zPL7",
        "outputId": "55ede61a-0ca0-4178-f509-56a930a0e40b"
      },
      "outputs": [
        {
          "output_type": "display_data",
          "data": {
            "text/plain": [
              "<Figure size 640x480 with 1 Axes>"
            ],
            "image/png": "[encoded data removed]"
          },
          "metadata": {}
        }
      ],
      "source": [
        "fig=sns.countplot(x=\"Corona\",data=df)"
      ]
    },
    {
      "cell_type": "markdown",
      "metadata": {
        "id": "H1sULjJcDzT8"
      },
      "source": [
        "**Sex column :**"
      ]
    },
    {
      "cell_type": "code",
      "execution_count": 34,
      "metadata": {
        "colab": {
          "base_uri": "https://localhost:8080/"
        },
        "id": "zwuWXlx1EFGe",
        "outputId": "30f50d6e-5ca1-446c-bcd9-09d5f443a56b"
      },
      "outputs": [
        {
          "output_type": "execute_result",
          "data": {
            "text/plain": [
              "female    46.677043\n",
              "male      46.307307\n",
              "None       7.015650\n",
              "Name: Sex, dtype: float64"
            ]
          },
          "metadata": {},
          "execution_count": 34
        }
      ],
      "source": [
        "df[\"Sex\"].value_counts()/len(df)*100               # checking the missing values %"
      ]
    },
    {
      "cell_type": "code",
      "execution_count": 35,
      "metadata": {
        "colab": {
          "base_uri": "https://localhost:8080/"
        },
        "id": "vBHe78G1UBc2",
        "outputId": "8dda539e-7717-4368-afa1-83cbcf83e794"
      },
      "outputs": [
        {
          "output_type": "execute_result",
          "data": {
            "text/plain": [
              "0    female\n",
              "Name: Sex, dtype: object"
            ]
          },
          "metadata": {},
          "execution_count": 35
        }
      ],
      "source": [
        "df['Sex'].mode()"
      ]
    },
    {
      "cell_type": "code",
      "execution_count": 36,
      "metadata": {
        "id": "iii3gYagT4oB"
      },
      "outputs": [],
      "source": [
        "df[\"Sex\"]=df[\"Sex\"].replace({\"None\":\"female\"})"
      ]
    },
    {
      "cell_type": "code",
      "execution_count": 37,
      "metadata": {
        "colab": {
          "base_uri": "https://localhost:8080/",
          "height": 466
        },
        "id": "IDu-GaQXJbUe",
        "outputId": "8b4b3232-6a77-4e2f-85fd-cd311dd54ef7"
      },
      "outputs": [
        {
          "output_type": "execute_result",
          "data": {
            "text/plain": [
              "<Axes: xlabel='Sex', ylabel='count'>"
            ]
          },
          "metadata": {},
          "execution_count": 37
        },
        {
          "output_type": "display_data",
          "data": {
            "text/plain": [
              "<Figure size 640x480 with 1 Axes>"
            ],
            "image/png": "[encoded data removed]"
          },
          "metadata": {}
        }
      ],
      "source": [
        "sns.countplot(x=\"Sex\",data=df)                        # visualizing sex column"
      ]
    },
    {
      "cell_type": "markdown",
      "metadata": {
        "id": "mbAaA-Phbkta"
      },
      "source": [
        "**Age column**"
      ]
    },
    {
      "cell_type": "code",
      "execution_count": 38,
      "metadata": {
        "colab": {
          "base_uri": "https://localhost:8080/",
          "height": 537
        },
        "id": "sVe8C04jDzix",
        "outputId": "b704cb39-a7f1-4631-e044-4730ab9a25bb"
      },
      "outputs": [
        {
          "output_type": "stream",
          "name": "stdout",
          "text": [
            "['None' 'No' 'Yes']\n"
          ]
        },
        {
          "output_type": "execute_result",
          "data": {
            "text/plain": [
              "None    45.659284\n",
              "No      45.079398\n",
              "Yes      9.261318\n",
              "Name: Age_60_above, dtype: float64"
            ]
          },
          "metadata": {},
          "execution_count": 38
        },
        {
          "output_type": "display_data",
          "data": {
            "text/plain": [
              "<Figure size 640x480 with 1 Axes>"
            ],
            "image/png": "[encoded data removed]"
          },
          "metadata": {}
        }
      ],
      "source": [
        "print(df[\"Age_60_above\"].unique())                    # checking the diffrent category along with null values if any\n",
        "sns.countplot(x=\"Age_60_above\",data=df)               # countplot to see counts of different values\n",
        "df[\"Age_60_above\"].value_counts()/len(df)*100         #percentage of each values in this column"
      ]
    },
    {
      "cell_type": "code",
      "execution_count": 39,
      "metadata": {
        "id": "JH7xCOgCb2fN"
      },
      "outputs": [],
      "source": [
        "df[\"Age_60_above\"].mode()\n",
        "df[\"Age_60_above\"]=df[\"Age_60_above\"].replace({\"None\":\"No\"})"
      ]
    },
    {
      "cell_type": "code",
      "execution_count": 40,
      "metadata": {
        "id": "ezSifAxEh6gN"
      },
      "outputs": [],
      "source": [
        "df[\"Known_contact\"].mode()\n",
        "df[\"Known_contact\"]=df[\"Known_contact\"].replace({\"Othe\":\"Other\"})"
      ]
    },
    {
      "cell_type": "markdown",
      "metadata": {
        "id": "SqX8T8xWhk0s"
      },
      "source": [
        "**Known Contact :**"
      ]
    },
    {
      "cell_type": "code",
      "execution_count": 41,
      "metadata": {
        "colab": {
          "base_uri": "https://localhost:8080/",
          "height": 466
        },
        "id": "fHPCjbJHhn-c",
        "outputId": "0bfcbd53-fc41-4810-fc60-7e560716cd48"
      },
      "outputs": [
        {
          "output_type": "execute_result",
          "data": {
            "text/plain": [
              "<Axes: xlabel='Known_contact', ylabel='count'>"
            ]
          },
          "metadata": {},
          "execution_count": 41
        },
        {
          "output_type": "display_data",
          "data": {
            "text/plain": [
              "<Figure size 640x480 with 1 Axes>"
            ],
            "image/png": "[encoded data removed]"
          },
          "metadata": {}
        }
      ],
      "source": [
        "df[\"Known_contact\"].value_counts()\n",
        "sns.countplot(x=\"Known_contact\",data=df)"
      ]
    },
    {
      "cell_type": "markdown",
      "metadata": {
        "id": "VSxuUAh8lQfK"
      },
      "source": [
        "Checking the duplicate rows in the DataFrame :"
      ]
    },
    {
      "cell_type": "code",
      "execution_count": 42,
      "metadata": {
        "colab": {
          "base_uri": "https://localhost:8080/",
          "height": 73
        },
        "id": "Szz0etJ9lOiO",
        "outputId": "9dd70e32-2eea-473c-f966-2f28eeee9d2b"
      },
      "outputs": [
        {
          "output_type": "execute_result",
          "data": {
            "text/plain": [
              "Empty DataFrame\n",
              "Columns: [Ind_ID, Test_date, Cough_symptoms, Fever, Sore_throat, Shortness_of_breath, Headache, Corona, Age_60_above, Sex, Known_contact]\n",
              "Index: []"
            ],
            "text/html": [
              "\n",
              "  <div id=\"df-f6f2c498-ca64-47ca-bf3f-dde60843dfba\" class=\"colab-df-container\">\n",
              "    <div>\n",
              "<style scoped>\n",
              "    .dataframe tbody tr th:only-of-type {\n",
              "        vertical-align: middle;\n",
              "    }\n",
              "\n",
              "    .dataframe tbody tr th {\n",
              "        vertical-align: top;\n",
              "    }\n",
              "\n",
              "    .dataframe thead th {\n",
              "        text-align: right;\n",
              "    }\n",
              "</style>\n",
              "<table border=\"1\" class=\"dataframe\">\n",
              "  <thead>\n",
              "    <tr style=\"text-align: right;\">\n",
              "      <th></th>\n",
              "      <th>Ind_ID</th>\n",
              "      <th>Test_date</th>\n",
              "      <th>Cough_symptoms</th>\n",
              "      <th>Fever</th>\n",
              "      <th>Sore_throat</th>\n",
              "      <th>Shortness_of_breath</th>\n",
              "      <th>Headache</th>\n",
              "      <th>Corona</th>\n",
              "      <th>Age_60_above</th>\n",
              "      <th>Sex</th>\n",
              "      <th>Known_contact</th>\n",
              "    </tr>\n",
              "  </thead>\n",
              "  <tbody>\n",
              "  </tbody>\n",
              "</table>\n",
              "</div>\n",
              "    <div class=\"colab-df-buttons\">\n",
              "\n",
              "  <div class=\"colab-df-container\">\n",
              "    <button class=\"colab-df-convert\" onclick=\"convertToInteractive('df-f6f2c498-ca64-47ca-bf3f-dde60843dfba')\"\n",
              "            title=\"Convert this dataframe to an interactive table.\"\n",
              "            style=\"display:none;\">\n",
              "\n",
              "  <svg xmlns=\"http://www.w3.org/2000/svg\" height=\"24px\" viewBox=\"0 -960 960 960\">\n",
              "    <path d=\"M120-120v-720h720v720H120Zm60-500h600v-160H180v160Zm220 220h160v-160H400v160Zm0 220h160v-160H400v160ZM180-400h160v-160H180v160Zm440 0h160v-160H620v160ZM180-180h160v-160H180v160Zm440 0h160v-160H620v160Z\"/>\n",
              "  </svg>\n",
              "    </button>\n",
              "\n",
              "  <style>\n",
              "    .colab-df-container {\n",
              "      display:flex;\n",
              "      gap: 12px;\n",
              "    }\n",
              "\n",
              "    .colab-df-convert {\n",
              "      background-color: #E8F0FE;\n",
              "      border: none;\n",
              "      border-radius: 50%;\n",
              "      cursor: pointer;\n",
              "      display: none;\n",
              "      fill: #1967D2;\n",
              "      height: 32px;\n",
              "      padding: 0 0 0 0;\n",
              "      width: 32px;\n",
              "    }\n",
              "\n",
              "    .colab-df-convert:hover {\n",
              "      background-color: #E2EBFA;\n",
              "      box-shadow: 0px 1px 2px rgba(60, 64, 67, 0.3), 0px 1px 3px 1px rgba(60, 64, 67, 0.15);\n",
              "      fill: #174EA6;\n",
              "    }\n",
              "\n",
              "    .colab-df-buttons div {\n",
              "      margin-bottom: 4px;\n",
              "    }\n",
              "\n",
              "    [theme=dark] .colab-df-convert {\n",
              "      background-color: #3B4455;\n",
              "      fill: #D2E3FC;\n",
              "    }\n",
              "\n",
              "    [theme=dark] .colab-df-convert:hover {\n",
              "      background-color: #434B5C;\n",
              "      box-shadow: 0px 1px 3px 1px rgba(0, 0, 0, 0.15);\n",
              "      filter: drop-shadow(0px 1px 2px rgba(0, 0, 0, 0.3));\n",
              "      fill: #FFFFFF;\n",
              "    }\n",
              "  </style>\n",
              "\n",
              "    <script>\n",
              "      const buttonEl =\n",
              "        document.querySelector('#df-f6f2c498-ca64-47ca-bf3f-dde60843dfba button.colab-df-convert');\n",
              "      buttonEl.style.display =\n",
              "        google.colab.kernel.accessAllowed ? 'block' : 'none';\n",
              "\n",
              "      async function convertToInteractive(key) {\n",
              "        const element = document.querySelector('#df-f6f2c498-ca64-47ca-bf3f-dde60843dfba');\n",
              "        const dataTable =\n",
              "          await google.colab.kernel.invokeFunction('convertToInteractive',\n",
              "                                                    [key], {});\n",
              "        if (!dataTable) return;\n",
              "\n",
              "        const docLinkHtml = 'Like what you see? Visit the ' +\n",
              "          '<a target=\"_blank\" href=https://colab.research.google.com/notebooks/data_table.ipynb>data table notebook</a>'\n",
              "          + ' to learn more about interactive tables.';\n",
              "        element.innerHTML = '';\n",
              "        dataTable['output_type'] = 'display_data';\n",
              "        await google.colab.output.renderOutput(dataTable, element);\n",
              "        const docLink = document.createElement('div');\n",
              "        docLink.innerHTML = docLinkHtml;\n",
              "        element.appendChild(docLink);\n",
              "      }\n",
              "    </script>\n",
              "  </div>\n",
              "\n",
              "\n",
              "    </div>\n",
              "  </div>\n"
            ]
          },
          "metadata": {},
          "execution_count": 42
        }
      ],
      "source": [
        "  df[df.duplicated()]"
      ]
    },
    {
      "cell_type": "code",
      "execution_count": 43,
      "metadata": {
        "colab": {
          "base_uri": "https://localhost:8080/"
        },
        "id": "C9P7ZgXzhjL7",
        "outputId": "ba9ff051-9925-4c82-946f-38a2c33536bd"
      },
      "outputs": [
        {
          "output_type": "execute_result",
          "data": {
            "text/plain": [
              "Other                     242741\n",
              "Abroad                     25468\n",
              "Contact with confirmed     10639\n",
              "Name: Known_contact, dtype: int64"
            ]
          },
          "metadata": {},
          "execution_count": 43
        }
      ],
      "source": [
        "df[\"Known_contact\"].value_counts()"
      ]
    },
    {
      "cell_type": "markdown",
      "metadata": {
        "id": "lGBg567Ujx1I"
      },
      "source": [
        "**HEAT MAP BEWTEEN INDEPENDENCE VARIABLES AND CORONA VARIABLE**"
      ]
    },
    {
      "cell_type": "code",
      "execution_count": 44,
      "metadata": {
        "colab": {
          "base_uri": "https://localhost:8080/",
          "height": 1000
        },
        "id": "U27a2RLiWLsS",
        "outputId": "84373c20-e310-43b4-eca7-63d532ac858c"
      },
      "outputs": [
        {
          "output_type": "display_data",
          "data": {
            "text/plain": [
              "<Figure size 1200x800 with 2 Axes>"
            ],
            "image/png": "[encoded data removed]"
          },
          "metadata": {}
        },
        {
          "output_type": "display_data",
          "data": {
            "text/plain": [
              "<Figure size 640x480 with 2 Axes>"
            ],
            "image/png": "[encoded data removed]"
          },
          "metadata": {}
        },
        {
          "output_type": "display_data",
          "data": {
            "text/plain": [
              "<Figure size 640x480 with 2 Axes>"
            ],
            "image/png": "[encoded data removed]"
          },
          "metadata": {}
        },
        {
          "output_type": "display_data",
          "data": {
            "text/plain": [
              "<Figure size 640x480 with 2 Axes>"
            ],
            "image/png": "[encoded data removed]"
          },
          "metadata": {}
        },
        {
          "output_type": "display_data",
          "data": {
            "text/plain": [
              "<Figure size 640x480 with 2 Axes>"
            ],
            "image/png": "[encoded data removed]"
          },
          "metadata": {}
        },
        {
          "output_type": "display_data",
          "data": {
            "text/plain": [
              "<Figure size 640x480 with 2 Axes>"
            ],
            "image/png": "[encoded data removed]"
          },
          "metadata": {}
        },
        {
          "output_type": "display_data",
          "data": {
            "text/plain": [
              "<Figure size 640x480 with 2 Axes>"
            ],
            "image/png": "[encoded data removed]"
          },
          "metadata": {}
        },
        {
          "output_type": "display_data",
          "data": {
            "text/plain": [
              "<Figure size 640x480 with 2 Axes>"
            ],
            "image/png": "[encoded data removed]"
          },
          "metadata": {}
        }
      ],
      "source": [
        "import seaborn as sns\n",
        "import matplotlib.pyplot as plt\n",
        "\n",
        "columns_to_plot = ['Cough_symptoms', 'Fever', 'Sore_throat', 'Shortness_of_breath', 'Headache', 'Age_60_above', 'Sex', 'Known_contact']\n",
        "\n",
        "plt.figure(figsize=(12, 8))\n",
        "\n",
        "for column in columns_to_plot:\n",
        "    cross_tab = pd.crosstab(df[column], df['Corona'])\n",
        "    sns.heatmap(cross_tab, annot=True, cmap='coolwarm', fmt='g', annot_kws={\"size\": 12}, cbar_kws={'label': 'Count'})\n",
        "    plt.title(f\"Heatmap for Relationship between '{column}' and 'Corona'\")\n",
        "    plt.show()\n"
      ]
    },
    {
      "cell_type": "code",
      "execution_count": 45,
      "metadata": {
        "id": "81zt5C6xg5nR"
      },
      "outputs": [],
      "source": [
        "DF=df"
      ]
    },
    {
      "cell_type": "markdown",
      "metadata": {
        "id": "h-PJXzW4AP_u"
      },
      "source": [
        "--------------------------------------------------------------------------------------------"
      ]
    },
    {
      "cell_type": "markdown",
      "metadata": {
        "id": "5wTD5IdMYNFc"
      },
      "source": [
        "#Initial Hypothesis\n",
        "**<h3>Assumption</h3>**<br>\n",
        "1.Null Hypothesis (h0): There is no association between age, gender, known contact, and the likelihood of testing positive for COVID-19.\n",
        "\n",
        "2.Null Hypothesis (h0): There is no association between symptoms (cough, fever, shortness of breath) and the likelihood of testing positive for COVID-19.\n"
      ]
    },
    {
      "cell_type": "markdown",
      "metadata": {
        "id": "PBxJOCrhZdtW"
      },
      "source": [
        "**Converting Data From One Format To Another :**"
      ]
    },
    {
      "cell_type": "code",
      "execution_count": 46,
      "metadata": {
        "id": "Jk8Xf00aFgmd"
      },
      "outputs": [],
      "source": [
        "names = ['Cough_symptoms', 'Fever', 'Sore_throat', 'Shortness_of_breath', 'Headache','Age_60_above','Sex']\n",
        "df[names] = df[names].astype(\"category\")                  #conversion using astype"
      ]
    },
    {
      "cell_type": "code",
      "execution_count": 47,
      "metadata": {
        "id": "Au7mXEtMZ6gO"
      },
      "outputs": [],
      "source": [
        "df['Corona'] =df['Corona'].astype('category')            #making the output variable as category variable"
      ]
    },
    {
      "cell_type": "markdown",
      "metadata": {
        "id": "jG4BkkPNiDFt"
      },
      "source": [
        "**Getting Dummies :**"
      ]
    },
    {
      "cell_type": "code",
      "execution_count": 48,
      "metadata": {
        "colab": {
          "base_uri": "https://localhost:8080/",
          "height": 330
        },
        "id": "M-QtEm-EfAwo",
        "outputId": "e28459e8-15a1-41c4-fb41-ee50cc06ab18"
      },
      "outputs": [
        {
          "output_type": "execute_result",
          "data": {
            "text/plain": [
              "   Ind_ID  Test_date  Cough_symptoms  Fever  Sore_throat  Shortness_of_breath  \\\n",
              "0       1 2020-11-03               1      0            1                    0   \n",
              "1       2 2020-11-03               0      1            0                    0   \n",
              "2       3 2020-11-03               0      1            0                    0   \n",
              "3       4 2020-11-03               1      0            0                    0   \n",
              "4       5 2020-11-03               1      0            0                    0   \n",
              "\n",
              "   Headache    Corona  Age_60_above  Sex  \\\n",
              "0         0  negative             0    0   \n",
              "1         0  positive             0    0   \n",
              "2         0  positive             0    0   \n",
              "3         0  negative             0    0   \n",
              "4         0  negative             0    0   \n",
              "\n",
              "   Known_contact_Contact with confirmed  Known_contact_Other  \n",
              "0                                     0                    0  \n",
              "1                                     0                    0  \n",
              "2                                     0                    0  \n",
              "3                                     0                    0  \n",
              "4                                     1                    0  "
            ],
            "text/html": [
              "\n",
              "  <div id=\"df-01dd8450-51db-4bc6-81b3-13f6565f1088\" class=\"colab-df-container\">\n",
              "    <div>\n",
              "<style scoped>\n",
              "    .dataframe tbody tr th:only-of-type {\n",
              "        vertical-align: middle;\n",
              "    }\n",
              "\n",
              "    .dataframe tbody tr th {\n",
              "        vertical-align: top;\n",
              "    }\n",
              "\n",
              "    .dataframe thead th {\n",
              "        text-align: right;\n",
              "    }\n",
              "</style>\n",
              "<table border=\"1\" class=\"dataframe\">\n",
              "  <thead>\n",
              "    <tr style=\"text-align: right;\">\n",
              "      <th></th>\n",
              "      <th>Ind_ID</th>\n",
              "      <th>Test_date</th>\n",
              "      <th>Cough_symptoms</th>\n",
              "      <th>Fever</th>\n",
              "      <th>Sore_throat</th>\n",
              "      <th>Shortness_of_breath</th>\n",
              "      <th>Headache</th>\n",
              "      <th>Corona</th>\n",
              "      <th>Age_60_above</th>\n",
              "      <th>Sex</th>\n",
              "      <th>Known_contact_Contact with confirmed</th>\n",
              "      <th>Known_contact_Other</th>\n",
              "    </tr>\n",
              "  </thead>\n",
              "  <tbody>\n",
              "    <tr>\n",
              "      <th>0</th>\n",
              "      <td>1</td>\n",
              "      <td>2020-11-03</td>\n",
              "      <td>1</td>\n",
              "      <td>0</td>\n",
              "      <td>1</td>\n",
              "      <td>0</td>\n",
              "      <td>0</td>\n",
              "      <td>negative</td>\n",
              "      <td>0</td>\n",
              "      <td>0</td>\n",
              "      <td>0</td>\n",
              "      <td>0</td>\n",
              "    </tr>\n",
              "    <tr>\n",
              "      <th>1</th>\n",
              "      <td>2</td>\n",
              "      <td>2020-11-03</td>\n",
              "      <td>0</td>\n",
              "      <td>1</td>\n",
              "      <td>0</td>\n",
              "      <td>0</td>\n",
              "      <td>0</td>\n",
              "      <td>positive</td>\n",
              "      <td>0</td>\n",
              "      <td>0</td>\n",
              "      <td>0</td>\n",
              "      <td>0</td>\n",
              "    </tr>\n",
              "    <tr>\n",
              "      <th>2</th>\n",
              "      <td>3</td>\n",
              "      <td>2020-11-03</td>\n",
              "      <td>0</td>\n",
              "      <td>1</td>\n",
              "      <td>0</td>\n",
              "      <td>0</td>\n",
              "      <td>0</td>\n",
              "      <td>positive</td>\n",
              "      <td>0</td>\n",
              "      <td>0</td>\n",
              "      <td>0</td>\n",
              "      <td>0</td>\n",
              "    </tr>\n",
              "    <tr>\n",
              "      <th>3</th>\n",
              "      <td>4</td>\n",
              "      <td>2020-11-03</td>\n",
              "      <td>1</td>\n",
              "      <td>0</td>\n",
              "      <td>0</td>\n",
              "      <td>0</td>\n",
              "      <td>0</td>\n",
              "      <td>negative</td>\n",
              "      <td>0</td>\n",
              "      <td>0</td>\n",
              "      <td>0</td>\n",
              "      <td>0</td>\n",
              "    </tr>\n",
              "    <tr>\n",
              "      <th>4</th>\n",
              "      <td>5</td>\n",
              "      <td>2020-11-03</td>\n",
              "      <td>1</td>\n",
              "      <td>0</td>\n",
              "      <td>0</td>\n",
              "      <td>0</td>\n",
              "      <td>0</td>\n",
              "      <td>negative</td>\n",
              "      <td>0</td>\n",
              "      <td>0</td>\n",
              "      <td>1</td>\n",
              "      <td>0</td>\n",
              "    </tr>\n",
              "  </tbody>\n",
              "</table>\n",
              "</div>\n",
              "    <div class=\"colab-df-buttons\">\n",
              "\n",
              "  <div class=\"colab-df-container\">\n",
              "    <button class=\"colab-df-convert\" onclick=\"convertToInteractive('df-01dd8450-51db-4bc6-81b3-13f6565f1088')\"\n",
              "            title=\"Convert this dataframe to an interactive table.\"\n",
              "            style=\"display:none;\">\n",
              "\n",
              "  <svg xmlns=\"http://www.w3.org/2000/svg\" height=\"24px\" viewBox=\"0 -960 960 960\">\n",
              "    <path d=\"M120-120v-720h720v720H120Zm60-500h600v-160H180v160Zm220 220h160v-160H400v160Zm0 220h160v-160H400v160ZM180-400h160v-160H180v160Zm440 0h160v-160H620v160ZM180-180h160v-160H180v160Zm440 0h160v-160H620v160Z\"/>\n",
              "  </svg>\n",
              "    </button>\n",
              "\n",
              "  <style>\n",
              "    .colab-df-container {\n",
              "      display:flex;\n",
              "      gap: 12px;\n",
              "    }\n",
              "\n",
              "    .colab-df-convert {\n",
              "      background-color: #E8F0FE;\n",
              "      border: none;\n",
              "      border-radius: 50%;\n",
              "      cursor: pointer;\n",
              "      display: none;\n",
              "      fill: #1967D2;\n",
              "      height: 32px;\n",
              "      padding: 0 0 0 0;\n",
              "      width: 32px;\n",
              "    }\n",
              "\n",
              "    .colab-df-convert:hover {\n",
              "      background-color: #E2EBFA;\n",
              "      box-shadow: 0px 1px 2px rgba(60, 64, 67, 0.3), 0px 1px 3px 1px rgba(60, 64, 67, 0.15);\n",
              "      fill: #174EA6;\n",
              "    }\n",
              "\n",
              "    .colab-df-buttons div {\n",
              "      margin-bottom: 4px;\n",
              "    }\n",
              "\n",
              "    [theme=dark] .colab-df-convert {\n",
              "      background-color: #3B4455;\n",
              "      fill: #D2E3FC;\n",
              "    }\n",
              "\n",
              "    [theme=dark] .colab-df-convert:hover {\n",
              "      background-color: #434B5C;\n",
              "      box-shadow: 0px 1px 3px 1px rgba(0, 0, 0, 0.15);\n",
              "      filter: drop-shadow(0px 1px 2px rgba(0, 0, 0, 0.3));\n",
              "      fill: #FFFFFF;\n",
              "    }\n",
              "  </style>\n",
              "\n",
              "    <script>\n",
              "      const buttonEl =\n",
              "        document.querySelector('#df-01dd8450-51db-4bc6-81b3-13f6565f1088 button.colab-df-convert');\n",
              "      buttonEl.style.display =\n",
              "        google.colab.kernel.accessAllowed ? 'block' : 'none';\n",
              "\n",
              "      async function convertToInteractive(key) {\n",
              "        const element = document.querySelector('#df-01dd8450-51db-4bc6-81b3-13f6565f1088');\n",
              "        const dataTable =\n",
              "          await google.colab.kernel.invokeFunction('convertToInteractive',\n",
              "                                                    [key], {});\n",
              "        if (!dataTable) return;\n",
              "\n",
              "        const docLinkHtml = 'Like what you see? Visit the ' +\n",
              "          '<a target=\"_blank\" href=https://colab.research.google.com/notebooks/data_table.ipynb>data table notebook</a>'\n",
              "          + ' to learn more about interactive tables.';\n",
              "        element.innerHTML = '';\n",
              "        dataTable['output_type'] = 'display_data';\n",
              "        await google.colab.output.renderOutput(dataTable, element);\n",
              "        const docLink = document.createElement('div');\n",
              "        docLink.innerHTML = docLinkHtml;\n",
              "        element.appendChild(docLink);\n",
              "      }\n",
              "    </script>\n",
              "  </div>\n",
              "\n",
              "\n",
              "<div id=\"df-62ea209f-c793-428c-ae30-ec465b41a549\">\n",
              "  <button class=\"colab-df-quickchart\" onclick=\"quickchart('df-62ea209f-c793-428c-ae30-ec465b41a549')\"\n",
              "            title=\"Suggest charts\"\n",
              "            style=\"display:none;\">\n",
              "\n",
              "<svg xmlns=\"http://www.w3.org/2000/svg\" height=\"24px\"viewBox=\"0 0 24 24\"\n",
              "     width=\"24px\">\n",
              "    <g>\n",
              "        <path d=\"M19 3H5c-1.1 0-2 .9-2 2v14c0 1.1.9 2 2 2h14c1.1 0 2-.9 2-2V5c0-1.1-.9-2-2-2zM9 17H7v-7h2v7zm4 0h-2V7h2v10zm4 0h-2v-4h2v4z\"/>\n",
              "    </g>\n",
              "</svg>\n",
              "  </button>\n",
              "\n",
              "<style>\n",
              "  .colab-df-quickchart {\n",
              "      --bg-color: #E8F0FE;\n",
              "      --fill-color: #1967D2;\n",
              "      --hover-bg-color: #E2EBFA;\n",
              "      --hover-fill-color: #174EA6;\n",
              "      --disabled-fill-color: #AAA;\n",
              "      --disabled-bg-color: #DDD;\n",
              "  }\n",
              "\n",
              "  [theme=dark] .colab-df-quickchart {\n",
              "      --bg-color: #3B4455;\n",
              "      --fill-color: #D2E3FC;\n",
              "      --hover-bg-color: #434B5C;\n",
              "      --hover-fill-color: #FFFFFF;\n",
              "      --disabled-bg-color: #3B4455;\n",
              "      --disabled-fill-color: #666;\n",
              "  }\n",
              "\n",
              "  .colab-df-quickchart {\n",
              "    background-color: var(--bg-color);\n",
              "    border: none;\n",
              "    border-radius: 50%;\n",
              "    cursor: pointer;\n",
              "    display: none;\n",
              "    fill: var(--fill-color);\n",
              "    height: 32px;\n",
              "    padding: 0;\n",
              "    width: 32px;\n",
              "  }\n",
              "\n",
              "  .colab-df-quickchart:hover {\n",
              "    background-color: var(--hover-bg-color);\n",
              "    box-shadow: 0 1px 2px rgba(60, 64, 67, 0.3), 0 1px 3px 1px rgba(60, 64, 67, 0.15);\n",
              "    fill: var(--button-hover-fill-color);\n",
              "  }\n",
              "\n",
              "  .colab-df-quickchart-complete:disabled,\n",
              "  .colab-df-quickchart-complete:disabled:hover {\n",
              "    background-color: var(--disabled-bg-color);\n",
              "    fill: var(--disabled-fill-color);\n",
              "    box-shadow: none;\n",
              "  }\n",
              "\n",
              "  .colab-df-spinner {\n",
              "    border: 2px solid var(--fill-color);\n",
              "    border-color: transparent;\n",
              "    border-bottom-color: var(--fill-color);\n",
              "    animation:\n",
              "      spin 1s steps(1) infinite;\n",
              "  }\n",
              "\n",
              "  @keyframes spin {\n",
              "    0% {\n",
              "      border-color: transparent;\n",
              "      border-bottom-color: var(--fill-color);\n",
              "      border-left-color: var(--fill-color);\n",
              "    }\n",
              "    20% {\n",
              "      border-color: transparent;\n",
              "      border-left-color: var(--fill-color);\n",
              "      border-top-color: var(--fill-color);\n",
              "    }\n",
              "    30% {\n",
              "      border-color: transparent;\n",
              "      border-left-color: var(--fill-color);\n",
              "      border-top-color: var(--fill-color);\n",
              "      border-right-color: var(--fill-color);\n",
              "    }\n",
              "    40% {\n",
              "      border-color: transparent;\n",
              "      border-right-color: var(--fill-color);\n",
              "      border-top-color: var(--fill-color);\n",
              "    }\n",
              "    60% {\n",
              "      border-color: transparent;\n",
              "      border-right-color: var(--fill-color);\n",
              "    }\n",
              "    80% {\n",
              "      border-color: transparent;\n",
              "      border-right-color: var(--fill-color);\n",
              "      border-bottom-color: var(--fill-color);\n",
              "    }\n",
              "    90% {\n",
              "      border-color: transparent;\n",
              "      border-bottom-color: var(--fill-color);\n",
              "    }\n",
              "  }\n",
              "</style>\n",
              "\n",
              "  <script>\n",
              "    async function quickchart(key) {\n",
              "      const quickchartButtonEl =\n",
              "        document.querySelector('#' + key + ' button');\n",
              "      quickchartButtonEl.disabled = true;  // To prevent multiple clicks.\n",
              "      quickchartButtonEl.classList.add('colab-df-spinner');\n",
              "      try {\n",
              "        const charts = await google.colab.kernel.invokeFunction(\n",
              "            'suggestCharts', [key], {});\n",
              "      } catch (error) {\n",
              "        console.error('Error during call to suggestCharts:', error);\n",
              "      }\n",
              "      quickchartButtonEl.classList.remove('colab-df-spinner');\n",
              "      quickchartButtonEl.classList.add('colab-df-quickchart-complete');\n",
              "    }\n",
              "    (() => {\n",
              "      let quickchartButtonEl =\n",
              "        document.querySelector('#df-62ea209f-c793-428c-ae30-ec465b41a549 button');\n",
              "      quickchartButtonEl.style.display =\n",
              "        google.colab.kernel.accessAllowed ? 'block' : 'none';\n",
              "    })();\n",
              "  </script>\n",
              "</div>\n",
              "\n",
              "    </div>\n",
              "  </div>\n"
            ]
          },
          "metadata": {},
          "execution_count": 48
        }
      ],
      "source": [
        "# Getting dummies and adding them to the DataFrame\n",
        "df[names] =pd.get_dummies(df[names],drop_first=True)\n",
        "df = pd.concat([df, pd.get_dummies(df['Known_contact'], prefix='Known_contact', drop_first=True)], axis=1)\n",
        "\n",
        "# Dropping the original 'Known_contact' column if needed\n",
        "df = df.drop('Known_contact', axis=1)\n",
        "\n",
        "# Display the resulting DataFrame\n",
        "df.head()\n"
      ]
    },
    {
      "cell_type": "code",
      "execution_count": 49,
      "metadata": {
        "colab": {
          "base_uri": "https://localhost:8080/"
        },
        "id": "kN1DCIviQ2GR",
        "outputId": "ed02ed4e-6e98-404e-8b7a-f30516c9499c"
      },
      "outputs": [
        {
          "output_type": "stream",
          "name": "stdout",
          "text": [
            "<class 'pandas.core.frame.DataFrame'>\n",
            "RangeIndex: 278848 entries, 0 to 278847\n",
            "Data columns (total 12 columns):\n",
            " #   Column                                Non-Null Count   Dtype         \n",
            "---  ------                                --------------   -----         \n",
            " 0   Ind_ID                                278848 non-null  int64         \n",
            " 1   Test_date                             278848 non-null  datetime64[ns]\n",
            " 2   Cough_symptoms                        278848 non-null  uint8         \n",
            " 3   Fever                                 278848 non-null  uint8         \n",
            " 4   Sore_throat                           278848 non-null  uint8         \n",
            " 5   Shortness_of_breath                   278848 non-null  uint8         \n",
            " 6   Headache                              278848 non-null  uint8         \n",
            " 7   Corona                                278848 non-null  category      \n",
            " 8   Age_60_above                          278848 non-null  uint8         \n",
            " 9   Sex                                   278848 non-null  uint8         \n",
            " 10  Known_contact_Contact with confirmed  278848 non-null  uint8         \n",
            " 11  Known_contact_Other                   278848 non-null  uint8         \n",
            "dtypes: category(1), datetime64[ns](1), int64(1), uint8(9)\n",
            "memory usage: 6.9 MB\n"
          ]
        }
      ],
      "source": [
        "df.info()"
      ]
    },
    {
      "cell_type": "markdown",
      "metadata": {
        "id": "VX2ORNu9t1Ss"
      },
      "source": [
        "**Feature Selection :**"
      ]
    },
    {
      "cell_type": "markdown",
      "metadata": {
        "id": "8-2_P2qLaeLa"
      },
      "source": [
        "*  checking the relationship b/w Test_date and output dependent variable"
      ]
    },
    {
      "cell_type": "code",
      "execution_count": 50,
      "metadata": {
        "id": "r5sNtPCXt5mi",
        "colab": {
          "base_uri": "https://localhost:8080/",
          "height": 548
        },
        "outputId": "6722844a-da22-4258-8c5e-870a895284b4"
      },
      "outputs": [
        {
          "output_type": "display_data",
          "data": {
            "text/plain": [
              "<Figure size 1200x600 with 1 Axes>"
            ],
            "image/png": "[encoded data removed]"
          },
          "metadata": {}
        }
      ],
      "source": [
        "import matplotlib.pyplot as plt\n",
        "import seaborn as sns\n",
        "\n",
        "# Convert \"Tested_date\" to datetime if not already\n",
        "df['Test_date'] = pd.to_datetime(df['Test_date'])\n",
        "\n",
        "# Plot the distribution of positive and negative cases over time\n",
        "plt.figure(figsize=(12, 6))\n",
        "sns.lineplot(x='Test_date', y='Corona', data=df)\n",
        "plt.title('Trend of Corona Cases Over Time')\n",
        "plt.xlabel('Tested Date')\n",
        "plt.ylabel('Mean Corona Cases (0 and 1)')\n",
        "plt.show()\n"
      ]
    },
    {
      "cell_type": "markdown",
      "metadata": {
        "id": "EQx6PYUzilRh"
      },
      "source": [
        "\n",
        "\n",
        "* **<h3> Using chi square test to check the relationship b/w the discrete output variable and independent.**\n"
      ]
    },
    {
      "cell_type": "code",
      "execution_count": 51,
      "metadata": {
        "id": "H3XpjOcADahA",
        "colab": {
          "base_uri": "https://localhost:8080/"
        },
        "outputId": "f70adad8-979d-428d-de9f-f25764632296"
      },
      "outputs": [
        {
          "output_type": "stream",
          "name": "stdout",
          "text": [
            "Chi-square Test Results:\n",
            "                                            P-value\n",
            "Age_60_above                          1.019306e-132\n",
            "Cough_symptoms                         0.000000e+00\n",
            "Fever                                  0.000000e+00\n",
            "Headache                               0.000000e+00\n",
            "Ind_ID                                 4.991097e-01\n",
            "Known_contact_Contact with confirmed   0.000000e+00\n",
            "Known_contact_Other                    0.000000e+00\n",
            "Shortness_of_breath                    0.000000e+00\n",
            "Sore_throat                            0.000000e+00\n",
            "Test_date                              0.000000e+00\n"
          ]
        }
      ],
      "source": [
        "from scipy.stats import chi2_contingency\n",
        "\n",
        "# Assuming 'df' is your DataFrame containing the mentioned variables\n",
        "categorical_features = ['Cough_symptoms', 'Fever', 'Sore_throat', 'Shortness_of_breath', 'Headache',\n",
        "                        \"Age_60_above\",\"Known_contact_Contact with confirmed\",\"Known_contact_Other\",\"Ind_ID\",\"Test_date\"]\n",
        "\n",
        "# Create a contingency table for each feature with 'Corona'\n",
        "chi2_results = {}\n",
        "for feature in categorical_features:\n",
        "    contingency_table = pd.crosstab(df[feature],df['Corona'])\n",
        "    chi2, p, _, _ = chi2_contingency(contingency_table)\n",
        "    chi2_results[feature] = {'P-value': p}\n",
        "\n",
        "# Display chi-square test results\n",
        "chi2_results_df = pd.DataFrame.from_dict(chi2_results, orient='index')\n",
        "print(\"Chi-square Test Results:\")\n",
        "print(chi2_results_df)\n"
      ]
    },
    {
      "cell_type": "markdown",
      "metadata": {
        "id": "TTtxFY_ZnxT_"
      },
      "source": [
        "Dropping the unwanted or p_value which is not in range columns\n",
        "*   Ind_ID\n",
        "\n",
        "Dropping the variable which has data less than 30%\n",
        "*Age_60_above"
      ]
    },
    {
      "cell_type": "code",
      "execution_count": 52,
      "metadata": {
        "id": "O6D0cqLtDZfT"
      },
      "outputs": [],
      "source": [
        "columns_to_drop=[\"Ind_ID\",\"Age_60_above\"]\n",
        "df=df.drop(columns=columns_to_drop)"
      ]
    },
    {
      "cell_type": "code",
      "execution_count": 53,
      "metadata": {
        "id": "gydtS6Zc4BNr",
        "colab": {
          "base_uri": "https://localhost:8080/"
        },
        "outputId": "f9397ad2-6c6b-4add-fcb2-1e2400a61b45"
      },
      "outputs": [
        {
          "output_type": "stream",
          "name": "stdout",
          "text": [
            "<class 'pandas.core.frame.DataFrame'>\n",
            "RangeIndex: 278848 entries, 0 to 278847\n",
            "Data columns (total 10 columns):\n",
            " #   Column                                Non-Null Count   Dtype         \n",
            "---  ------                                --------------   -----         \n",
            " 0   Test_date                             278848 non-null  datetime64[ns]\n",
            " 1   Cough_symptoms                        278848 non-null  uint8         \n",
            " 2   Fever                                 278848 non-null  uint8         \n",
            " 3   Sore_throat                           278848 non-null  uint8         \n",
            " 4   Shortness_of_breath                   278848 non-null  uint8         \n",
            " 5   Headache                              278848 non-null  uint8         \n",
            " 6   Corona                                278848 non-null  category      \n",
            " 7   Sex                                   278848 non-null  uint8         \n",
            " 8   Known_contact_Contact with confirmed  278848 non-null  uint8         \n",
            " 9   Known_contact_Other                   278848 non-null  uint8         \n",
            "dtypes: category(1), datetime64[ns](1), uint8(8)\n",
            "memory usage: 4.5 MB\n"
          ]
        }
      ],
      "source": [
        "df.info()"
      ]
    },
    {
      "cell_type": "code",
      "execution_count": 54,
      "metadata": {
        "id": "UR8QmCSfBHUN",
        "colab": {
          "base_uri": "https://localhost:8080/"
        },
        "outputId": "2c49d98f-5c02-4f54-f330-2fca101480bf"
      },
      "outputs": [
        {
          "output_type": "execute_result",
          "data": {
            "text/plain": [
              "['negative', 'positive']\n",
              "Categories (2, object): ['negative', 'positive']"
            ]
          },
          "metadata": {},
          "execution_count": 54
        }
      ],
      "source": [
        "df[\"Corona\"].unique()"
      ]
    },
    {
      "cell_type": "code",
      "execution_count": 55,
      "metadata": {
        "id": "fO3tQJ9GAlkd",
        "colab": {
          "base_uri": "https://localhost:8080/"
        },
        "outputId": "02cc4197-496f-4eef-8996-e55b14feecea"
      },
      "outputs": [
        {
          "output_type": "stream",
          "name": "stdout",
          "text": [
            "<class 'pandas.core.frame.DataFrame'>\n",
            "RangeIndex: 278848 entries, 0 to 278847\n",
            "Data columns (total 10 columns):\n",
            " #   Column                                Non-Null Count   Dtype         \n",
            "---  ------                                --------------   -----         \n",
            " 0   Test_date                             278848 non-null  datetime64[ns]\n",
            " 1   Cough_symptoms                        278848 non-null  uint8         \n",
            " 2   Fever                                 278848 non-null  uint8         \n",
            " 3   Sore_throat                           278848 non-null  uint8         \n",
            " 4   Shortness_of_breath                   278848 non-null  uint8         \n",
            " 5   Headache                              278848 non-null  uint8         \n",
            " 6   Corona                                278848 non-null  category      \n",
            " 7   Sex                                   278848 non-null  uint8         \n",
            " 8   Known_contact_Contact with confirmed  278848 non-null  uint8         \n",
            " 9   Known_contact_Other                   278848 non-null  uint8         \n",
            "dtypes: category(1), datetime64[ns](1), uint8(8)\n",
            "memory usage: 4.5 MB\n"
          ]
        }
      ],
      "source": [
        "columns_to_convert = [\"Corona\"]\n",
        "df[columns_to_convert] =df[columns_to_convert].replace({'positive': 1, 'negative': 0})\n",
        "\n",
        "df.info()"
      ]
    },
    {
      "cell_type": "code",
      "execution_count": 56,
      "metadata": {
        "id": "-Ah5KobyBsAq"
      },
      "outputs": [],
      "source": [
        "df[\"Corona\"]=df[\"Corona\"].astype(bool)"
      ]
    },
    {
      "cell_type": "markdown",
      "metadata": {
        "id": "7VDuOx3GdfK_"
      },
      "source": [
        "### <h1>Justification of Data Analysis Approach:</h1>\n",
        "\n",
        "#### 1.** Exploratory Data Analysis (EDA)**:\n",
        "   -\n",
        "\n",
        "\n",
        " EDA helps us understand the dataset's structure, distributions, and patterns visually.\n",
        "   \n",
        "*   started from how many rows and columns in the DF\n",
        "*   getting how many null values are present in each column   \n",
        "*   listing how many wrong values are present\n",
        "*   in categorical variables how may categories are present\n",
        "*   understanding the variables clearly\n",
        "*   visualizing the data or the distribution\n",
        "*   correcting the wrong data\n",
        "*   filling the null values with mean,mode,median\n",
        "* changing the datatype wherever required\n",
        "#### 2. Statistical Analysis:\n",
        "   - **:** Conducting statistical tests like chi-square allows us to assess the significance of relationships between categorical variables and the outcome variable (COVID-19 diagnosis). This helps in identifying key features for prediction.\n",
        "\n",
        "#### 3. Feature Importance Analysis:\n",
        "   - **:** Leveraging machine learning models, such as Random Forest and Gradient Boosting, enables us to identify features contributing significantly to COVID-19 diagnosis prediction. This step ensures a data-driven understanding of feature importance.\n",
        "\n",
        "#### 4. Data Visualization:\n",
        "   - **:** Visualizations like line plots,count plots  help identify trends in COVID-19 cases. Visualizing relationships between categorical features and the outcome variable provides insights into potential patterns and dependencies.\n"
      ]
    },
    {
      "cell_type": "markdown",
      "metadata": {
        "id": "5GiF74w9gcGP"
      },
      "source": [
        "### **EDA Findings**:\n",
        "\n",
        "#### 1. **Temporal Analysis:**\n",
        "   - The line plot depicting the trend of COVID-19 cases over time provides valuable insights. It shows the mean number of positive cases (1) and negative cases (0) on the y-axis against the tested date on the x-axis.\n",
        "   - **Observation:** There seems to be a noticeable increase in COVID-19 cases during specific periods, indicating potential waves or clusters.\n",
        "\n",
        "\n",
        "   # Plot the distribution of positive and negative cases over time\n",
        "   plt.figure(figsize=(12, 6))<br>\n",
        "   sns.lineplot(x='Test_date', y='Corona', data=df, estimator='mean', ci=None)<br>\n",
        "   plt.title('Trend of Corona Cases Over Time')<br>\n",
        "   plt.xlabel('Tested Date')<br>\n",
        "   plt.ylabel('Mean Corona Cases (0 and 1)')<br>\n",
        "   plt.show()<br>\n",
        "\n",
        "\n",
        "#### 2. **Categorical Variable Analysis:**\n",
        "   - Count plots for categorical variables like `Cough_symptoms`, `Fever`, `Sore_throat`, `Shortness_of_breath`, `Headache`, `Known_contact` provide a visual representation of the distribution of positive and negative cases.\n",
        "   - **Observation:** Certain symptoms, like cough and fever, show a higher prevalence in positive cases, suggesting their potential significance.\n",
        "\n",
        "  \n",
        "   # Plotting count plots for categorical variables\n",
        "   fig = sns.countplot(x=\"Cough_symptoms\", data=df)\n",
        "   # Similar plots for Fever, Sore_throat, Shortness_of_breath, Headache, Known_contact\n",
        "\n",
        "\n",
        "#### 3. **Chi-Square Test:**\n",
        "   - The chi-square test is conducted to evaluate the relationship between categorical features and the COVID-19 diagnosis (`Corona`).\n",
        "   - **Observation:** The p-values obtained from the chi-square test provide statistical evidence of the dependence between certain categorical features and the likelihood of testing positive for COVID-19.\n",
        "\n",
        "  python\n",
        "   # Chi-square test results for categorical variables\n",
        "   chi2_results_df = pd.DataFrame.from_dict(chi2_results, orient='index')<br>\n",
        "   print(\"Chi-square Test Results:\")<br>\n",
        "   print(chi2_results_df)<br>\n",
        "   chi2_results_df)\n",
        "\n",
        "### **Heatmaps**:\n",
        "presenece of relationship bweteen multiple input variable and out variable is visualized through heat map which provides us the patterns -ve and +ve patterns where matched.\n",
        "\n",
        "columns_to_plot = ['Cough_symptoms', 'Fever', 'Sore_throat', 'Shortness_of_breath', 'Headache', 'Age_60_above', 'Sex', 'Known_contact']\n",
        "sns.heatmap(pd.crosstab(df[columns_to_plot], df['Corona']), annot=True, cmap='coolwarm', fmt='g')\n",
        "plt.title(\"Heatmap for Relationship between Columns and 'Corona'\")\n",
        "plt.show()\n",
        "\n",
        "\n",
        "### Overall Insights:\n",
        "- The temporal analysis hints at the presence of temporal patterns in COVID-19 cases.\n",
        "- Certain symptoms, such as cough and fever, appear to be associated with a higher likelihood of testing positive.\n",
        "- The chi-square test results provide statistical support for the association between categorical variables and COVID-19 diagnosis.\n",
        "\n",
        "These findings from EDA contribute to the justification of the initial hypotheses, indicating patterns that align with the assumptions made about the factors influencing COVID-19 diagnosis."
      ]
    },
    {
      "cell_type": "markdown",
      "metadata": {
        "id": "yTMKhWDgcSaw"
      },
      "source": [
        "<H1>MODELLING"
      ]
    },
    {
      "cell_type": "markdown",
      "metadata": {
        "id": "j4XsEXTxjAfh"
      },
      "source": [
        "### Section 4: Machine Learning Approach\n",
        "\n",
        "Considering the nature of the problem (prediction of COVID-19 diagnosis based on symptoms), multiple machine learning models will be applied:\n",
        "\n",
        "1. **Decision Tree:**\n",
        "   - Utilize Decision Tree Classifier for its simplicity and interpretability.\n",
        "   - Assess accuracy and evaluate model performance.\n",
        "\n",
        "2. **Random Forest:**\n",
        "   - Apply Random Forest Classifier for improved robustness and accuracy.\n",
        "   - Evaluate accuracy and assess classification performance.\n",
        "\n",
        "3. **Logistic Regression:**\n",
        "   - Use Logistic Regression as a baseline model for binary classification.\n",
        "   - Evaluate accuracy and compare with other models.\n",
        "\n",
        "4. **Gradient Boosting:**\n",
        "   - Implement Gradient Boosting Classifier for ensemble learning.\n",
        "   - Evaluate accuracy and assess model performance.\n",
        "\n",
        "6. **Cross-Validation:**\n",
        "   - Use cross-validation to assess the models' generalization performance.\n",
        "\n",
        "These models will be trained, evaluated, and compared based on accuracy and other relevant metrics to identify the most suitable model for COVID-19  prediction."
      ]
    },
    {
      "cell_type": "markdown",
      "metadata": {
        "id": "3HKgNCTEcXgH"
      },
      "source": [
        "<H3>SPITTING DATA"
      ]
    },
    {
      "cell_type": "code",
      "execution_count": 57,
      "metadata": {
        "id": "WnntKyPhb1R1",
        "colab": {
          "base_uri": "https://localhost:8080/"
        },
        "outputId": "09c36665-c963-4a80-c6d8-c6559679d6b4"
      },
      "outputs": [
        {
          "output_type": "stream",
          "name": "stdout",
          "text": [
            "<class 'pandas.core.frame.DataFrame'>\n",
            "RangeIndex: 278848 entries, 0 to 278847\n",
            "Data columns (total 10 columns):\n",
            " #   Column                                Non-Null Count   Dtype         \n",
            "---  ------                                --------------   -----         \n",
            " 0   Test_date                             278848 non-null  datetime64[ns]\n",
            " 1   Cough_symptoms                        278848 non-null  uint8         \n",
            " 2   Fever                                 278848 non-null  uint8         \n",
            " 3   Sore_throat                           278848 non-null  uint8         \n",
            " 4   Shortness_of_breath                   278848 non-null  uint8         \n",
            " 5   Headache                              278848 non-null  uint8         \n",
            " 6   Corona                                278848 non-null  bool          \n",
            " 7   Sex                                   278848 non-null  uint8         \n",
            " 8   Known_contact_Contact with confirmed  278848 non-null  uint8         \n",
            " 9   Known_contact_Other                   278848 non-null  uint8         \n",
            "dtypes: bool(1), datetime64[ns](1), uint8(8)\n",
            "memory usage: 4.5 MB\n"
          ]
        }
      ],
      "source": [
        "df.info()"
      ]
    },
    {
      "cell_type": "markdown",
      "metadata": {
        "id": "HslifTZvBGph"
      },
      "source": [
        "**<h3>Splitting DataFrame into test and train data according to date**"
      ]
    },
    {
      "cell_type": "code",
      "execution_count": 58,
      "metadata": {
        "id": "j4yqUTUwV5N3",
        "colab": {
          "base_uri": "https://localhost:8080/"
        },
        "outputId": "dabbf912-e4b1-4c26-9ccf-f060710a7b1d"
      },
      "outputs": [
        {
          "output_type": "stream",
          "name": "stdout",
          "text": [
            "Training set shape: (93932, 9) (93932,)\n",
            "Test set shape: (115659, 9) (115659,)\n"
          ]
        }
      ],
      "source": [
        "from sklearn.model_selection import train_test_split\n",
        "\n",
        "# Assuming 'df' is your DataFrame containing the features and target variable\n",
        "# Convert 'Test_date' to datetime if not already\n",
        "df['Test_date'] = pd.to_datetime(df['Test_date'])\n",
        "\n",
        "# Define the date ranges\n",
        "train_start = '2020-03-11'\n",
        "train_end = '2020-04-15'\n",
        "test_start = '2020-04-16'\n",
        "test_end = '2020-04-30'\n",
        "\n",
        "# Create masks to filter data\n",
        "train_mask = (df['Test_date'] >= train_start) & (df['Test_date'] <= train_end)\n",
        "test_mask = (df['Test_date'] >= test_start) & (df['Test_date'] <= test_end)\n",
        "\n",
        "# Apply masks to get training and test sets\n",
        "train_data = df[train_mask]\n",
        "test_data = df[test_mask]\n",
        "\n",
        "# Separate features and target variable\n",
        "X_train = train_data.drop('Corona', axis=1)\n",
        "y_train = train_data['Corona']\n",
        "\n",
        "X_test = test_data.drop('Corona', axis=1)\n",
        "y_test = test_data['Corona']\n",
        "\n",
        "# Display the shapes of the resulting sets\n",
        "print(\"Training set shape:\", X_train.shape, y_train.shape)\n",
        "print(\"Test set shape:\", X_test.shape, y_test.shape)\n"
      ]
    },
    {
      "cell_type": "markdown",
      "metadata": {
        "id": "KREKM1rv9XgV"
      },
      "source": [
        "--------------------------------------------------------------------------------\n",
        "* Removing date column because here we are predicting the corona +ve or -ve\n",
        "and test date doesn't have northing with corona as any one get corona anytime i.e Test_date column has no effect on the corona\n",
        "\n",
        "\n",
        "* just it is used for dividing data(test and train and for vaidation )\n",
        "\n",
        "\n",
        "\n",
        "* **if it were a time series type of predictions Test_date coulumn has to be used**"
      ]
    },
    {
      "cell_type": "code",
      "execution_count": 59,
      "metadata": {
        "id": "tbFONG03ZHW1"
      },
      "outputs": [],
      "source": [
        "#dropping date column after splitting\n",
        "X_train = X_train.drop(columns=['Test_date'])\n",
        "X_test = X_test.drop(columns=['Test_date'])"
      ]
    },
    {
      "cell_type": "code",
      "execution_count": 60,
      "metadata": {
        "id": "6zOQP0PZbYMR",
        "colab": {
          "base_uri": "https://localhost:8080/"
        },
        "outputId": "d5d3485e-4f9a-418a-98f2-caecc98ff9e5"
      },
      "outputs": [
        {
          "output_type": "stream",
          "name": "stdout",
          "text": [
            "<class 'pandas.core.frame.DataFrame'>\n",
            "RangeIndex: 278848 entries, 0 to 278847\n",
            "Data columns (total 10 columns):\n",
            " #   Column                                Non-Null Count   Dtype         \n",
            "---  ------                                --------------   -----         \n",
            " 0   Test_date                             278848 non-null  datetime64[ns]\n",
            " 1   Cough_symptoms                        278848 non-null  uint8         \n",
            " 2   Fever                                 278848 non-null  uint8         \n",
            " 3   Sore_throat                           278848 non-null  uint8         \n",
            " 4   Shortness_of_breath                   278848 non-null  uint8         \n",
            " 5   Headache                              278848 non-null  uint8         \n",
            " 6   Corona                                278848 non-null  bool          \n",
            " 7   Sex                                   278848 non-null  uint8         \n",
            " 8   Known_contact_Contact with confirmed  278848 non-null  uint8         \n",
            " 9   Known_contact_Other                   278848 non-null  uint8         \n",
            "dtypes: bool(1), datetime64[ns](1), uint8(8)\n",
            "memory usage: 4.5 MB\n"
          ]
        }
      ],
      "source": [
        "df.info()"
      ]
    },
    {
      "cell_type": "code",
      "execution_count": 61,
      "metadata": {
        "id": "Ofakp0Cj8Edz",
        "colab": {
          "base_uri": "https://localhost:8080/",
          "height": 478
        },
        "outputId": "2f2ee261-336c-46bf-a88e-3b5b94c8cdd5"
      },
      "outputs": [
        {
          "output_type": "stream",
          "name": "stdout",
          "text": [
            "<class 'str'> <class 'str'>\n"
          ]
        },
        {
          "output_type": "execute_result",
          "data": {
            "text/plain": [
              "        Cough_symptoms  Fever  Sore_throat  Shortness_of_breath  Headache  \\\n",
              "928              False  False        False                False     False   \n",
              "929              False  False        False                False     False   \n",
              "930              False  False        False                False     False   \n",
              "931              False  False        False                False     False   \n",
              "932              False  False        False                False     False   \n",
              "...                ...    ...          ...                  ...       ...   \n",
              "163184           False  False        False                False     False   \n",
              "163185           False  False        False                False     False   \n",
              "163186           False  False        False                False     False   \n",
              "163187           False  False        False                False     False   \n",
              "163188           False  False        False                False     False   \n",
              "\n",
              "          Sex  Known_contact_Contact with confirmed  Known_contact_Other  \n",
              "928     False                                 False                False  \n",
              "929     False                                 False                False  \n",
              "930     False                                 False                False  \n",
              "931     False                                 False                False  \n",
              "932     False                                 False                False  \n",
              "...       ...                                   ...                  ...  \n",
              "163184  False                                 False                False  \n",
              "163185  False                                 False                False  \n",
              "163186  False                                 False                False  \n",
              "163187  False                                 False                False  \n",
              "163188  False                                 False                False  \n",
              "\n",
              "[93932 rows x 8 columns]"
            ],
            "text/html": [
              "\n",
              "  <div id=\"df-d634e8e2-dae1-439a-a799-cf2f6409a471\" class=\"colab-df-container\">\n",
              "    <div>\n",
              "<style scoped>\n",
              "    .dataframe tbody tr th:only-of-type {\n",
              "        vertical-align: middle;\n",
              "    }\n",
              "\n",
              "    .dataframe tbody tr th {\n",
              "        vertical-align: top;\n",
              "    }\n",
              "\n",
              "    .dataframe thead th {\n",
              "        text-align: right;\n",
              "    }\n",
              "</style>\n",
              "<table border=\"1\" class=\"dataframe\">\n",
              "  <thead>\n",
              "    <tr style=\"text-align: right;\">\n",
              "      <th></th>\n",
              "      <th>Cough_symptoms</th>\n",
              "      <th>Fever</th>\n",
              "      <th>Sore_throat</th>\n",
              "      <th>Shortness_of_breath</th>\n",
              "      <th>Headache</th>\n",
              "      <th>Sex</th>\n",
              "      <th>Known_contact_Contact with confirmed</th>\n",
              "      <th>Known_contact_Other</th>\n",
              "    </tr>\n",
              "  </thead>\n",
              "  <tbody>\n",
              "    <tr>\n",
              "      <th>928</th>\n",
              "      <td>False</td>\n",
              "      <td>False</td>\n",
              "      <td>False</td>\n",
              "      <td>False</td>\n",
              "      <td>False</td>\n",
              "      <td>False</td>\n",
              "      <td>False</td>\n",
              "      <td>False</td>\n",
              "    </tr>\n",
              "    <tr>\n",
              "      <th>929</th>\n",
              "      <td>False</td>\n",
              "      <td>False</td>\n",
              "      <td>False</td>\n",
              "      <td>False</td>\n",
              "      <td>False</td>\n",
              "      <td>False</td>\n",
              "      <td>False</td>\n",
              "      <td>False</td>\n",
              "    </tr>\n",
              "    <tr>\n",
              "      <th>930</th>\n",
              "      <td>False</td>\n",
              "      <td>False</td>\n",
              "      <td>False</td>\n",
              "      <td>False</td>\n",
              "      <td>False</td>\n",
              "      <td>False</td>\n",
              "      <td>False</td>\n",
              "      <td>False</td>\n",
              "    </tr>\n",
              "    <tr>\n",
              "      <th>931</th>\n",
              "      <td>False</td>\n",
              "      <td>False</td>\n",
              "      <td>False</td>\n",
              "      <td>False</td>\n",
              "      <td>False</td>\n",
              "      <td>False</td>\n",
              "      <td>False</td>\n",
              "      <td>False</td>\n",
              "    </tr>\n",
              "    <tr>\n",
              "      <th>932</th>\n",
              "      <td>False</td>\n",
              "      <td>False</td>\n",
              "      <td>False</td>\n",
              "      <td>False</td>\n",
              "      <td>False</td>\n",
              "      <td>False</td>\n",
              "      <td>False</td>\n",
              "      <td>False</td>\n",
              "    </tr>\n",
              "    <tr>\n",
              "      <th>...</th>\n",
              "      <td>...</td>\n",
              "      <td>...</td>\n",
              "      <td>...</td>\n",
              "      <td>...</td>\n",
              "      <td>...</td>\n",
              "      <td>...</td>\n",
              "      <td>...</td>\n",
              "      <td>...</td>\n",
              "    </tr>\n",
              "    <tr>\n",
              "      <th>163184</th>\n",
              "      <td>False</td>\n",
              "      <td>False</td>\n",
              "      <td>False</td>\n",
              "      <td>False</td>\n",
              "      <td>False</td>\n",
              "      <td>False</td>\n",
              "      <td>False</td>\n",
              "      <td>False</td>\n",
              "    </tr>\n",
              "    <tr>\n",
              "      <th>163185</th>\n",
              "      <td>False</td>\n",
              "      <td>False</td>\n",
              "      <td>False</td>\n",
              "      <td>False</td>\n",
              "      <td>False</td>\n",
              "      <td>False</td>\n",
              "      <td>False</td>\n",
              "      <td>False</td>\n",
              "    </tr>\n",
              "    <tr>\n",
              "      <th>163186</th>\n",
              "      <td>False</td>\n",
              "      <td>False</td>\n",
              "      <td>False</td>\n",
              "      <td>False</td>\n",
              "      <td>False</td>\n",
              "      <td>False</td>\n",
              "      <td>False</td>\n",
              "      <td>False</td>\n",
              "    </tr>\n",
              "    <tr>\n",
              "      <th>163187</th>\n",
              "      <td>False</td>\n",
              "      <td>False</td>\n",
              "      <td>False</td>\n",
              "      <td>False</td>\n",
              "      <td>False</td>\n",
              "      <td>False</td>\n",
              "      <td>False</td>\n",
              "      <td>False</td>\n",
              "    </tr>\n",
              "    <tr>\n",
              "      <th>163188</th>\n",
              "      <td>False</td>\n",
              "      <td>False</td>\n",
              "      <td>False</td>\n",
              "      <td>False</td>\n",
              "      <td>False</td>\n",
              "      <td>False</td>\n",
              "      <td>False</td>\n",
              "      <td>False</td>\n",
              "    </tr>\n",
              "  </tbody>\n",
              "</table>\n",
              "<p>93932 rows × 8 columns</p>\n",
              "</div>\n",
              "    <div class=\"colab-df-buttons\">\n",
              "\n",
              "  <div class=\"colab-df-container\">\n",
              "    <button class=\"colab-df-convert\" onclick=\"convertToInteractive('df-d634e8e2-dae1-439a-a799-cf2f6409a471')\"\n",
              "            title=\"Convert this dataframe to an interactive table.\"\n",
              "            style=\"display:none;\">\n",
              "\n",
              "  <svg xmlns=\"http://www.w3.org/2000/svg\" height=\"24px\" viewBox=\"0 -960 960 960\">\n",
              "    <path d=\"M120-120v-720h720v720H120Zm60-500h600v-160H180v160Zm220 220h160v-160H400v160Zm0 220h160v-160H400v160ZM180-400h160v-160H180v160Zm440 0h160v-160H620v160ZM180-180h160v-160H180v160Zm440 0h160v-160H620v160Z\"/>\n",
              "  </svg>\n",
              "    </button>\n",
              "\n",
              "  <style>\n",
              "    .colab-df-container {\n",
              "      display:flex;\n",
              "      gap: 12px;\n",
              "    }\n",
              "\n",
              "    .colab-df-convert {\n",
              "      background-color: #E8F0FE;\n",
              "      border: none;\n",
              "      border-radius: 50%;\n",
              "      cursor: pointer;\n",
              "      display: none;\n",
              "      fill: #1967D2;\n",
              "      height: 32px;\n",
              "      padding: 0 0 0 0;\n",
              "      width: 32px;\n",
              "    }\n",
              "\n",
              "    .colab-df-convert:hover {\n",
              "      background-color: #E2EBFA;\n",
              "      box-shadow: 0px 1px 2px rgba(60, 64, 67, 0.3), 0px 1px 3px 1px rgba(60, 64, 67, 0.15);\n",
              "      fill: #174EA6;\n",
              "    }\n",
              "\n",
              "    .colab-df-buttons div {\n",
              "      margin-bottom: 4px;\n",
              "    }\n",
              "\n",
              "    [theme=dark] .colab-df-convert {\n",
              "      background-color: #3B4455;\n",
              "      fill: #D2E3FC;\n",
              "    }\n",
              "\n",
              "    [theme=dark] .colab-df-convert:hover {\n",
              "      background-color: #434B5C;\n",
              "      box-shadow: 0px 1px 3px 1px rgba(0, 0, 0, 0.15);\n",
              "      filter: drop-shadow(0px 1px 2px rgba(0, 0, 0, 0.3));\n",
              "      fill: #FFFFFF;\n",
              "    }\n",
              "  </style>\n",
              "\n",
              "    <script>\n",
              "      const buttonEl =\n",
              "        document.querySelector('#df-d634e8e2-dae1-439a-a799-cf2f6409a471 button.colab-df-convert');\n",
              "      buttonEl.style.display =\n",
              "        google.colab.kernel.accessAllowed ? 'block' : 'none';\n",
              "\n",
              "      async function convertToInteractive(key) {\n",
              "        const element = document.querySelector('#df-d634e8e2-dae1-439a-a799-cf2f6409a471');\n",
              "        const dataTable =\n",
              "          await google.colab.kernel.invokeFunction('convertToInteractive',\n",
              "                                                    [key], {});\n",
              "        if (!dataTable) return;\n",
              "\n",
              "        const docLinkHtml = 'Like what you see? Visit the ' +\n",
              "          '<a target=\"_blank\" href=https://colab.research.google.com/notebooks/data_table.ipynb>data table notebook</a>'\n",
              "          + ' to learn more about interactive tables.';\n",
              "        element.innerHTML = '';\n",
              "        dataTable['output_type'] = 'display_data';\n",
              "        await google.colab.output.renderOutput(dataTable, element);\n",
              "        const docLink = document.createElement('div');\n",
              "        docLink.innerHTML = docLinkHtml;\n",
              "        element.appendChild(docLink);\n",
              "      }\n",
              "    </script>\n",
              "  </div>\n",
              "\n",
              "\n",
              "<div id=\"df-04f5892a-c176-4dbc-9a47-3e448e20a194\">\n",
              "  <button class=\"colab-df-quickchart\" onclick=\"quickchart('df-04f5892a-c176-4dbc-9a47-3e448e20a194')\"\n",
              "            title=\"Suggest charts\"\n",
              "            style=\"display:none;\">\n",
              "\n",
              "<svg xmlns=\"http://www.w3.org/2000/svg\" height=\"24px\"viewBox=\"0 0 24 24\"\n",
              "     width=\"24px\">\n",
              "    <g>\n",
              "        <path d=\"M19 3H5c-1.1 0-2 .9-2 2v14c0 1.1.9 2 2 2h14c1.1 0 2-.9 2-2V5c0-1.1-.9-2-2-2zM9 17H7v-7h2v7zm4 0h-2V7h2v10zm4 0h-2v-4h2v4z\"/>\n",
              "    </g>\n",
              "</svg>\n",
              "  </button>\n",
              "\n",
              "<style>\n",
              "  .colab-df-quickchart {\n",
              "      --bg-color: #E8F0FE;\n",
              "      --fill-color: #1967D2;\n",
              "      --hover-bg-color: #E2EBFA;\n",
              "      --hover-fill-color: #174EA6;\n",
              "      --disabled-fill-color: #AAA;\n",
              "      --disabled-bg-color: #DDD;\n",
              "  }\n",
              "\n",
              "  [theme=dark] .colab-df-quickchart {\n",
              "      --bg-color: #3B4455;\n",
              "      --fill-color: #D2E3FC;\n",
              "      --hover-bg-color: #434B5C;\n",
              "      --hover-fill-color: #FFFFFF;\n",
              "      --disabled-bg-color: #3B4455;\n",
              "      --disabled-fill-color: #666;\n",
              "  }\n",
              "\n",
              "  .colab-df-quickchart {\n",
              "    background-color: var(--bg-color);\n",
              "    border: none;\n",
              "    border-radius: 50%;\n",
              "    cursor: pointer;\n",
              "    display: none;\n",
              "    fill: var(--fill-color);\n",
              "    height: 32px;\n",
              "    padding: 0;\n",
              "    width: 32px;\n",
              "  }\n",
              "\n",
              "  .colab-df-quickchart:hover {\n",
              "    background-color: var(--hover-bg-color);\n",
              "    box-shadow: 0 1px 2px rgba(60, 64, 67, 0.3), 0 1px 3px 1px rgba(60, 64, 67, 0.15);\n",
              "    fill: var(--button-hover-fill-color);\n",
              "  }\n",
              "\n",
              "  .colab-df-quickchart-complete:disabled,\n",
              "  .colab-df-quickchart-complete:disabled:hover {\n",
              "    background-color: var(--disabled-bg-color);\n",
              "    fill: var(--disabled-fill-color);\n",
              "    box-shadow: none;\n",
              "  }\n",
              "\n",
              "  .colab-df-spinner {\n",
              "    border: 2px solid var(--fill-color);\n",
              "    border-color: transparent;\n",
              "    border-bottom-color: var(--fill-color);\n",
              "    animation:\n",
              "      spin 1s steps(1) infinite;\n",
              "  }\n",
              "\n",
              "  @keyframes spin {\n",
              "    0% {\n",
              "      border-color: transparent;\n",
              "      border-bottom-color: var(--fill-color);\n",
              "      border-left-color: var(--fill-color);\n",
              "    }\n",
              "    20% {\n",
              "      border-color: transparent;\n",
              "      border-left-color: var(--fill-color);\n",
              "      border-top-color: var(--fill-color);\n",
              "    }\n",
              "    30% {\n",
              "      border-color: transparent;\n",
              "      border-left-color: var(--fill-color);\n",
              "      border-top-color: var(--fill-color);\n",
              "      border-right-color: var(--fill-color);\n",
              "    }\n",
              "    40% {\n",
              "      border-color: transparent;\n",
              "      border-right-color: var(--fill-color);\n",
              "      border-top-color: var(--fill-color);\n",
              "    }\n",
              "    60% {\n",
              "      border-color: transparent;\n",
              "      border-right-color: var(--fill-color);\n",
              "    }\n",
              "    80% {\n",
              "      border-color: transparent;\n",
              "      border-right-color: var(--fill-color);\n",
              "      border-bottom-color: var(--fill-color);\n",
              "    }\n",
              "    90% {\n",
              "      border-color: transparent;\n",
              "      border-bottom-color: var(--fill-color);\n",
              "    }\n",
              "  }\n",
              "</style>\n",
              "\n",
              "  <script>\n",
              "    async function quickchart(key) {\n",
              "      const quickchartButtonEl =\n",
              "        document.querySelector('#' + key + ' button');\n",
              "      quickchartButtonEl.disabled = true;  // To prevent multiple clicks.\n",
              "      quickchartButtonEl.classList.add('colab-df-spinner');\n",
              "      try {\n",
              "        const charts = await google.colab.kernel.invokeFunction(\n",
              "            'suggestCharts', [key], {});\n",
              "      } catch (error) {\n",
              "        console.error('Error during call to suggestCharts:', error);\n",
              "      }\n",
              "      quickchartButtonEl.classList.remove('colab-df-spinner');\n",
              "      quickchartButtonEl.classList.add('colab-df-quickchart-complete');\n",
              "    }\n",
              "    (() => {\n",
              "      let quickchartButtonEl =\n",
              "        document.querySelector('#df-04f5892a-c176-4dbc-9a47-3e448e20a194 button');\n",
              "      quickchartButtonEl.style.display =\n",
              "        google.colab.kernel.accessAllowed ? 'block' : 'none';\n",
              "    })();\n",
              "  </script>\n",
              "</div>\n",
              "\n",
              "    </div>\n",
              "  </div>\n"
            ]
          },
          "metadata": {},
          "execution_count": 61
        }
      ],
      "source": [
        "print(type(\"y_train\"),type(\"y_test\"))\n",
        "X_train.isnull() #printing Dtype of  test and train data"
      ]
    },
    {
      "cell_type": "code",
      "execution_count": 62,
      "metadata": {
        "id": "k6r4PG-YGiHf",
        "colab": {
          "base_uri": "https://localhost:8080/",
          "height": 244
        },
        "outputId": "202cfe6b-4180-4f91-f296-968eea0186cb"
      },
      "outputs": [
        {
          "output_type": "execute_result",
          "data": {
            "text/plain": [
              "        Cough_symptoms  Fever  Sore_throat  Shortness_of_breath  Headache  \\\n",
              "163189               1      0            0                    0         0   \n",
              "163190               0      0            0                    0         0   \n",
              "163191               1      0            0                    0         0   \n",
              "163192               0      0            0                    0         0   \n",
              "163193               0      0            0                    0         0   \n",
              "\n",
              "        Sex  Known_contact_Contact with confirmed  Known_contact_Other  \n",
              "163189    0                                     0                    0  \n",
              "163190    0                                     0                    1  \n",
              "163191    0                                     0                    0  \n",
              "163192    1                                     0                    1  \n",
              "163193    1                                     0                    1  "
            ],
            "text/html": [
              "\n",
              "  <div id=\"df-2b5a7133-be3f-48de-a3aa-08f9c4c75a58\" class=\"colab-df-container\">\n",
              "    <div>\n",
              "<style scoped>\n",
              "    .dataframe tbody tr th:only-of-type {\n",
              "        vertical-align: middle;\n",
              "    }\n",
              "\n",
              "    .dataframe tbody tr th {\n",
              "        vertical-align: top;\n",
              "    }\n",
              "\n",
              "    .dataframe thead th {\n",
              "        text-align: right;\n",
              "    }\n",
              "</style>\n",
              "<table border=\"1\" class=\"dataframe\">\n",
              "  <thead>\n",
              "    <tr style=\"text-align: right;\">\n",
              "      <th></th>\n",
              "      <th>Cough_symptoms</th>\n",
              "      <th>Fever</th>\n",
              "      <th>Sore_throat</th>\n",
              "      <th>Shortness_of_breath</th>\n",
              "      <th>Headache</th>\n",
              "      <th>Sex</th>\n",
              "      <th>Known_contact_Contact with confirmed</th>\n",
              "      <th>Known_contact_Other</th>\n",
              "    </tr>\n",
              "  </thead>\n",
              "  <tbody>\n",
              "    <tr>\n",
              "      <th>163189</th>\n",
              "      <td>1</td>\n",
              "      <td>0</td>\n",
              "      <td>0</td>\n",
              "      <td>0</td>\n",
              "      <td>0</td>\n",
              "      <td>0</td>\n",
              "      <td>0</td>\n",
              "      <td>0</td>\n",
              "    </tr>\n",
              "    <tr>\n",
              "      <th>163190</th>\n",
              "      <td>0</td>\n",
              "      <td>0</td>\n",
              "      <td>0</td>\n",
              "      <td>0</td>\n",
              "      <td>0</td>\n",
              "      <td>0</td>\n",
              "      <td>0</td>\n",
              "      <td>1</td>\n",
              "    </tr>\n",
              "    <tr>\n",
              "      <th>163191</th>\n",
              "      <td>1</td>\n",
              "      <td>0</td>\n",
              "      <td>0</td>\n",
              "      <td>0</td>\n",
              "      <td>0</td>\n",
              "      <td>0</td>\n",
              "      <td>0</td>\n",
              "      <td>0</td>\n",
              "    </tr>\n",
              "    <tr>\n",
              "      <th>163192</th>\n",
              "      <td>0</td>\n",
              "      <td>0</td>\n",
              "      <td>0</td>\n",
              "      <td>0</td>\n",
              "      <td>0</td>\n",
              "      <td>1</td>\n",
              "      <td>0</td>\n",
              "      <td>1</td>\n",
              "    </tr>\n",
              "    <tr>\n",
              "      <th>163193</th>\n",
              "      <td>0</td>\n",
              "      <td>0</td>\n",
              "      <td>0</td>\n",
              "      <td>0</td>\n",
              "      <td>0</td>\n",
              "      <td>1</td>\n",
              "      <td>0</td>\n",
              "      <td>1</td>\n",
              "    </tr>\n",
              "  </tbody>\n",
              "</table>\n",
              "</div>\n",
              "    <div class=\"colab-df-buttons\">\n",
              "\n",
              "  <div class=\"colab-df-container\">\n",
              "    <button class=\"colab-df-convert\" onclick=\"convertToInteractive('df-2b5a7133-be3f-48de-a3aa-08f9c4c75a58')\"\n",
              "            title=\"Convert this dataframe to an interactive table.\"\n",
              "            style=\"display:none;\">\n",
              "\n",
              "  <svg xmlns=\"http://www.w3.org/2000/svg\" height=\"24px\" viewBox=\"0 -960 960 960\">\n",
              "    <path d=\"M120-120v-720h720v720H120Zm60-500h600v-160H180v160Zm220 220h160v-160H400v160Zm0 220h160v-160H400v160ZM180-400h160v-160H180v160Zm440 0h160v-160H620v160ZM180-180h160v-160H180v160Zm440 0h160v-160H620v160Z\"/>\n",
              "  </svg>\n",
              "    </button>\n",
              "\n",
              "  <style>\n",
              "    .colab-df-container {\n",
              "      display:flex;\n",
              "      gap: 12px;\n",
              "    }\n",
              "\n",
              "    .colab-df-convert {\n",
              "      background-color: #E8F0FE;\n",
              "      border: none;\n",
              "      border-radius: 50%;\n",
              "      cursor: pointer;\n",
              "      display: none;\n",
              "      fill: #1967D2;\n",
              "      height: 32px;\n",
              "      padding: 0 0 0 0;\n",
              "      width: 32px;\n",
              "    }\n",
              "\n",
              "    .colab-df-convert:hover {\n",
              "      background-color: #E2EBFA;\n",
              "      box-shadow: 0px 1px 2px rgba(60, 64, 67, 0.3), 0px 1px 3px 1px rgba(60, 64, 67, 0.15);\n",
              "      fill: #174EA6;\n",
              "    }\n",
              "\n",
              "    .colab-df-buttons div {\n",
              "      margin-bottom: 4px;\n",
              "    }\n",
              "\n",
              "    [theme=dark] .colab-df-convert {\n",
              "      background-color: #3B4455;\n",
              "      fill: #D2E3FC;\n",
              "    }\n",
              "\n",
              "    [theme=dark] .colab-df-convert:hover {\n",
              "      background-color: #434B5C;\n",
              "      box-shadow: 0px 1px 3px 1px rgba(0, 0, 0, 0.15);\n",
              "      filter: drop-shadow(0px 1px 2px rgba(0, 0, 0, 0.3));\n",
              "      fill: #FFFFFF;\n",
              "    }\n",
              "  </style>\n",
              "\n",
              "    <script>\n",
              "      const buttonEl =\n",
              "        document.querySelector('#df-2b5a7133-be3f-48de-a3aa-08f9c4c75a58 button.colab-df-convert');\n",
              "      buttonEl.style.display =\n",
              "        google.colab.kernel.accessAllowed ? 'block' : 'none';\n",
              "\n",
              "      async function convertToInteractive(key) {\n",
              "        const element = document.querySelector('#df-2b5a7133-be3f-48de-a3aa-08f9c4c75a58');\n",
              "        const dataTable =\n",
              "          await google.colab.kernel.invokeFunction('convertToInteractive',\n",
              "                                                    [key], {});\n",
              "        if (!dataTable) return;\n",
              "\n",
              "        const docLinkHtml = 'Like what you see? Visit the ' +\n",
              "          '<a target=\"_blank\" href=https://colab.research.google.com/notebooks/data_table.ipynb>data table notebook</a>'\n",
              "          + ' to learn more about interactive tables.';\n",
              "        element.innerHTML = '';\n",
              "        dataTable['output_type'] = 'display_data';\n",
              "        await google.colab.output.renderOutput(dataTable, element);\n",
              "        const docLink = document.createElement('div');\n",
              "        docLink.innerHTML = docLinkHtml;\n",
              "        element.appendChild(docLink);\n",
              "      }\n",
              "    </script>\n",
              "  </div>\n",
              "\n",
              "\n",
              "<div id=\"df-e18f44b4-0543-41ef-9b4e-d0109cac8afd\">\n",
              "  <button class=\"colab-df-quickchart\" onclick=\"quickchart('df-e18f44b4-0543-41ef-9b4e-d0109cac8afd')\"\n",
              "            title=\"Suggest charts\"\n",
              "            style=\"display:none;\">\n",
              "\n",
              "<svg xmlns=\"http://www.w3.org/2000/svg\" height=\"24px\"viewBox=\"0 0 24 24\"\n",
              "     width=\"24px\">\n",
              "    <g>\n",
              "        <path d=\"M19 3H5c-1.1 0-2 .9-2 2v14c0 1.1.9 2 2 2h14c1.1 0 2-.9 2-2V5c0-1.1-.9-2-2-2zM9 17H7v-7h2v7zm4 0h-2V7h2v10zm4 0h-2v-4h2v4z\"/>\n",
              "    </g>\n",
              "</svg>\n",
              "  </button>\n",
              "\n",
              "<style>\n",
              "  .colab-df-quickchart {\n",
              "      --bg-color: #E8F0FE;\n",
              "      --fill-color: #1967D2;\n",
              "      --hover-bg-color: #E2EBFA;\n",
              "      --hover-fill-color: #174EA6;\n",
              "      --disabled-fill-color: #AAA;\n",
              "      --disabled-bg-color: #DDD;\n",
              "  }\n",
              "\n",
              "  [theme=dark] .colab-df-quickchart {\n",
              "      --bg-color: #3B4455;\n",
              "      --fill-color: #D2E3FC;\n",
              "      --hover-bg-color: #434B5C;\n",
              "      --hover-fill-color: #FFFFFF;\n",
              "      --disabled-bg-color: #3B4455;\n",
              "      --disabled-fill-color: #666;\n",
              "  }\n",
              "\n",
              "  .colab-df-quickchart {\n",
              "    background-color: var(--bg-color);\n",
              "    border: none;\n",
              "    border-radius: 50%;\n",
              "    cursor: pointer;\n",
              "    display: none;\n",
              "    fill: var(--fill-color);\n",
              "    height: 32px;\n",
              "    padding: 0;\n",
              "    width: 32px;\n",
              "  }\n",
              "\n",
              "  .colab-df-quickchart:hover {\n",
              "    background-color: var(--hover-bg-color);\n",
              "    box-shadow: 0 1px 2px rgba(60, 64, 67, 0.3), 0 1px 3px 1px rgba(60, 64, 67, 0.15);\n",
              "    fill: var(--button-hover-fill-color);\n",
              "  }\n",
              "\n",
              "  .colab-df-quickchart-complete:disabled,\n",
              "  .colab-df-quickchart-complete:disabled:hover {\n",
              "    background-color: var(--disabled-bg-color);\n",
              "    fill: var(--disabled-fill-color);\n",
              "    box-shadow: none;\n",
              "  }\n",
              "\n",
              "  .colab-df-spinner {\n",
              "    border: 2px solid var(--fill-color);\n",
              "    border-color: transparent;\n",
              "    border-bottom-color: var(--fill-color);\n",
              "    animation:\n",
              "      spin 1s steps(1) infinite;\n",
              "  }\n",
              "\n",
              "  @keyframes spin {\n",
              "    0% {\n",
              "      border-color: transparent;\n",
              "      border-bottom-color: var(--fill-color);\n",
              "      border-left-color: var(--fill-color);\n",
              "    }\n",
              "    20% {\n",
              "      border-color: transparent;\n",
              "      border-left-color: var(--fill-color);\n",
              "      border-top-color: var(--fill-color);\n",
              "    }\n",
              "    30% {\n",
              "      border-color: transparent;\n",
              "      border-left-color: var(--fill-color);\n",
              "      border-top-color: var(--fill-color);\n",
              "      border-right-color: var(--fill-color);\n",
              "    }\n",
              "    40% {\n",
              "      border-color: transparent;\n",
              "      border-right-color: var(--fill-color);\n",
              "      border-top-color: var(--fill-color);\n",
              "    }\n",
              "    60% {\n",
              "      border-color: transparent;\n",
              "      border-right-color: var(--fill-color);\n",
              "    }\n",
              "    80% {\n",
              "      border-color: transparent;\n",
              "      border-right-color: var(--fill-color);\n",
              "      border-bottom-color: var(--fill-color);\n",
              "    }\n",
              "    90% {\n",
              "      border-color: transparent;\n",
              "      border-bottom-color: var(--fill-color);\n",
              "    }\n",
              "  }\n",
              "</style>\n",
              "\n",
              "  <script>\n",
              "    async function quickchart(key) {\n",
              "      const quickchartButtonEl =\n",
              "        document.querySelector('#' + key + ' button');\n",
              "      quickchartButtonEl.disabled = true;  // To prevent multiple clicks.\n",
              "      quickchartButtonEl.classList.add('colab-df-spinner');\n",
              "      try {\n",
              "        const charts = await google.colab.kernel.invokeFunction(\n",
              "            'suggestCharts', [key], {});\n",
              "      } catch (error) {\n",
              "        console.error('Error during call to suggestCharts:', error);\n",
              "      }\n",
              "      quickchartButtonEl.classList.remove('colab-df-spinner');\n",
              "      quickchartButtonEl.classList.add('colab-df-quickchart-complete');\n",
              "    }\n",
              "    (() => {\n",
              "      let quickchartButtonEl =\n",
              "        document.querySelector('#df-e18f44b4-0543-41ef-9b4e-d0109cac8afd button');\n",
              "      quickchartButtonEl.style.display =\n",
              "        google.colab.kernel.accessAllowed ? 'block' : 'none';\n",
              "    })();\n",
              "  </script>\n",
              "</div>\n",
              "\n",
              "    </div>\n",
              "  </div>\n"
            ]
          },
          "metadata": {},
          "execution_count": 62
        }
      ],
      "source": [
        "X_test.head()"
      ]
    },
    {
      "cell_type": "markdown",
      "metadata": {
        "id": "HwAMyHYSoQte"
      },
      "source": [
        "**<h1>DecisionTreeClassifier**"
      ]
    },
    {
      "cell_type": "code",
      "execution_count": 63,
      "metadata": {
        "id": "W6QqeIgTS89_",
        "colab": {
          "base_uri": "https://localhost:8080/"
        },
        "outputId": "873c04f7-e011-43bf-8430-6ff533e3c2b3"
      },
      "outputs": [
        {
          "output_type": "stream",
          "name": "stdout",
          "text": [
            "Decision tree Accuracy: 0.9847569147234543\n"
          ]
        }
      ],
      "source": [
        "#decision treecalssifier\n",
        "from sklearn.tree import DecisionTreeClassifier\n",
        "from sklearn.metrics import accuracy_score\n",
        "\n",
        "dtree = DecisionTreeClassifier(random_state=42).fit(X_train, y_train)\n",
        "y_pred = dtree.predict(X_test)\n",
        "accuracy = accuracy_score(y_test,y_pred)\n",
        "print(\"Decision tree Accuracy:\", accuracy)\n"
      ]
    },
    {
      "cell_type": "markdown",
      "metadata": {
        "id": "NLUAE7YS56Jc"
      },
      "source": [
        "**<h1>Random Forest algorithm**"
      ]
    },
    {
      "cell_type": "code",
      "execution_count": 64,
      "metadata": {
        "colab": {
          "base_uri": "https://localhost:8080/"
        },
        "id": "gTHtUbe0V5Sw",
        "outputId": "048024f1-2e4d-4078-ae3c-c71cbfcb5c2f"
      },
      "outputs": [
        {
          "output_type": "stream",
          "name": "stdout",
          "text": [
            "Random Forest Accuracy:  98.47482686172282\n",
            "\n",
            "\n",
            "Classification Report: \n",
            "              precision    recall  f1-score   support\n",
            "\n",
            "       False       0.99      1.00      0.99    112961\n",
            "        True       0.76      0.50      0.61      2698\n",
            "\n",
            "    accuracy                           0.98    115659\n",
            "   macro avg       0.87      0.75      0.80    115659\n",
            "weighted avg       0.98      0.98      0.98    115659\n",
            "\n",
            "\n",
            "\n",
            "Confusion Matrix:\n",
            "[[112534    427]\n",
            " [  1337   1361]]\n"
          ]
        }
      ],
      "source": [
        "from sklearn.ensemble import RandomForestClassifier   #importing RFC algorithm\n",
        "#importing evaluation metrices\n",
        "from sklearn.metrics import accuracy_score, classification_report, confusion_matrix\n",
        "\n",
        "#storing the RFC into a variable\n",
        "rf_model = RandomForestClassifier(random_state=42)\n",
        "\n",
        "#Applying the RFC to train_data\n",
        "rf_model.fit(X_train, y_train)\n",
        "\n",
        "#Taking machine predicted values for x_test into a variable for comparision with y_test data\n",
        "y_pred = rf_model.predict(X_test)\n",
        "\n",
        "# Evaluate the model\n",
        "model_accuracy = accuracy_score(y_test, y_pred)\n",
        "print(\"Random Forest Accuracy: \",model_accuracy*100)\n",
        "print(\"\\n\\nClassification Report: \")\n",
        "print(classification_report(y_test, y_pred))\n",
        "print(\"\\n\\nConfusion Matrix:\")\n",
        "print(confusion_matrix(y_test, y_pred))"
      ]
    },
    {
      "cell_type": "markdown",
      "metadata": {
        "id": "kwpfTi9AoeJH"
      },
      "source": [
        "**<h1>LogisticRegression**"
      ]
    },
    {
      "cell_type": "code",
      "execution_count": 65,
      "metadata": {
        "colab": {
          "base_uri": "https://localhost:8080/"
        },
        "id": "JtpSxeu1V5Wn",
        "outputId": "79ebc474-e69e-44e0-af2b-f1de11c13cd9"
      },
      "outputs": [
        {
          "output_type": "stream",
          "name": "stdout",
          "text": [
            "Logistic Regression Accuracy: 98.15059787824552\n"
          ]
        }
      ],
      "source": [
        "from sklearn.linear_model import LogisticRegression\n",
        "\n",
        "# Create a Logistic Regression model\n",
        "lr_model = LogisticRegression(random_state=42)\n",
        "\n",
        "# Fit the model on the training data\n",
        "lr_model.fit(X_train, y_train)\n",
        "\n",
        "# Make predictions on the testing data\n",
        "y_pred_lr = lr_model.predict(X_test)\n",
        "\n",
        "# Evaluate the model\n",
        "accuracy_lr = accuracy_score(y_test, y_pred_lr)\n",
        "print(\"Logistic Regression Accuracy:\", accuracy_lr*100)\n"
      ]
    },
    {
      "cell_type": "markdown",
      "metadata": {
        "id": "zJ0BXyfIooe3"
      },
      "source": [
        "**<h1>GradientBoostingClassifier**"
      ]
    },
    {
      "cell_type": "code",
      "execution_count": 66,
      "metadata": {
        "colab": {
          "base_uri": "https://localhost:8080/"
        },
        "id": "9iokgaa0V5e5",
        "outputId": "c3e6a8fa-d694-4ae3-b8f2-112658f80c3c"
      },
      "outputs": [
        {
          "output_type": "stream",
          "name": "stdout",
          "text": [
            "Gradient Boosting Accuracy: 0.9852583888845658\n"
          ]
        }
      ],
      "source": [
        "from sklearn.ensemble import GradientBoostingClassifier\n",
        "\n",
        "# Create a Gradient Boosting classifier\n",
        "gb_model = GradientBoostingClassifier(random_state=42)\n",
        "\n",
        "# Fit the model on the training data\n",
        "gb_model.fit(X_train, y_train)\n",
        "\n",
        "# Make predictions on the testing data\n",
        "y_pred_gb = gb_model.predict(X_test)\n",
        "\n",
        "# Evaluate the model\n",
        "accuracy_gb = accuracy_score(y_test, y_pred_gb)\n",
        "print(\"Gradient Boosting Accuracy:\", accuracy_gb)\n",
        "# (Add other evaluation metrics if needed)\n"
      ]
    },
    {
      "cell_type": "markdown",
      "metadata": {
        "id": "9oGL1He7nQ0X"
      },
      "source": [
        "#Performing important functions to justify which model is better."
      ]
    },
    {
      "cell_type": "markdown",
      "metadata": {
        "id": "klLb2AjIo4lG"
      },
      "source": [
        "**<h3>cross value score**"
      ]
    },
    {
      "cell_type": "code",
      "execution_count": 67,
      "metadata": {
        "colab": {
          "base_uri": "https://localhost:8080/"
        },
        "id": "WsfrdgXjNPrJ",
        "outputId": "634b9e1e-826b-4edb-ee9c-de4e90327082"
      },
      "outputs": [
        {
          "output_type": "stream",
          "name": "stdout",
          "text": [
            "Logistic Regression Accuracy: 0.9499105531718802\n",
            "Decision Tree Accuracy: 0.9520823815580733\n",
            "Random Forest Accuracy: 0.9522314241874102\n",
            "Gradient Boosting Accuracy: 0.9537325414744509\n"
          ]
        }
      ],
      "source": [
        "from sklearn.model_selection import cross_val_score\n",
        "from sklearn.linear_model import LogisticRegression\n",
        "from sklearn.tree import DecisionTreeClassifier\n",
        "from sklearn.ensemble import RandomForestClassifier, GradientBoostingClassifier\n",
        "import numpy as np\n",
        "\n",
        "# 1. Logistic Regression\n",
        "logreg = LogisticRegression()\n",
        "logreg_scores = cross_val_score(logreg, X_train, y_train, cv=5)\n",
        "\n",
        "# 2. Decision Tree\n",
        "dtree = DecisionTreeClassifier()\n",
        "dtree_scores = cross_val_score(dtree, X_train, y_train, cv=5)\n",
        "\n",
        "# 3. Random Forest\n",
        "rf = RandomForestClassifier()\n",
        "rf_scores = cross_val_score(rf, X_train, y_train, cv=5)\n",
        "\n",
        "# 4. Gradient Boosting\n",
        "gb = GradientBoostingClassifier()\n",
        "gb_scores = cross_val_score(gb, X_train, y_train, cv=5)\n",
        "\n",
        "# Display average accuracy scores for each model\n",
        "print(\"Logistic Regression Accuracy: {}\".format(np.mean(logreg_scores)))\n",
        "print(\"Decision Tree Accuracy: {}\".format(np.mean(dtree_scores)))\n",
        "print(\"Random Forest Accuracy: {}\".format(np.mean(rf_scores)))\n",
        "print(\"Gradient Boosting Accuracy: {}\".format(np.mean(gb_scores)))\n"
      ]
    },
    {
      "cell_type": "markdown",
      "metadata": {
        "id": "kgkyj7ey97LT"
      },
      "source": [
        "**Error Detection of each model :**"
      ]
    },
    {
      "cell_type": "code",
      "execution_count": 68,
      "metadata": {
        "colab": {
          "base_uri": "https://localhost:8080/"
        },
        "id": "_fdQVAwVy0Jj",
        "outputId": "5c069ed5-d0fc-44e2-fcf9-76e55f8e44f1"
      },
      "outputs": [
        {
          "output_type": "stream",
          "name": "stdout",
          "text": [
            "Decision tree Accuracy: 0.9847569147234543\n"
          ]
        }
      ],
      "source": [
        "#decision treecalssifier\n",
        "from sklearn.tree import DecisionTreeClassifier\n",
        "from sklearn.metrics import accuracy_score\n",
        "\n",
        "dtree = DecisionTreeClassifier(random_state=33).fit(X_train, y_train)\n",
        "y_pred = dtree.predict(X_test)\n",
        "accuracy = accuracy_score(y_test,y_pred)\n",
        "print(\"Decision tree Accuracy:\", accuracy)\n"
      ]
    },
    {
      "cell_type": "code",
      "execution_count": 69,
      "metadata": {
        "colab": {
          "base_uri": "https://localhost:8080/"
        },
        "id": "kZW_zZ0GnOHu",
        "outputId": "8cc119fb-e3a6-4d3e-fa0d-443b774f2ed8"
      },
      "outputs": [
        {
          "output_type": "stream",
          "name": "stdout",
          "text": [
            "Decision Tree Metrics:\n",
            "MSE: 0.015243085276545708\n",
            "RMSE: 0.12346289028103023\n",
            "MAE: 0.015243085276545708\n",
            "\n",
            "\n",
            "Random Forest Metrics:\n",
            "MSE: 0.015251731382771768\n",
            "RMSE: 0.12349790031725952\n"
          ]
        }
      ],
      "source": [
        "from sklearn.metrics import mean_squared_error, mean_absolute_error\n",
        "\n",
        "# Decision Tree\n",
        "y_pred_dtree = dtree.predict(X_test)\n",
        "mse_dtree = mean_squared_error(y_test.astype(int), y_pred_dtree.astype(int))\n",
        "rmse_dtree = mean_squared_error(y_test.astype(int), y_pred_dtree.astype(int), squared=False)\n",
        "mae_dtree = mean_absolute_error(y_test.astype(int), y_pred_dtree.astype(int))\n",
        "\n",
        "print(\"Decision Tree Metrics:\")\n",
        "print(\"MSE:\", mse_dtree)\n",
        "print(\"RMSE:\", rmse_dtree)\n",
        "print(\"MAE:\", mae_dtree)\n",
        "print(\"\\n\")\n",
        "\n",
        "# Random Forest\n",
        "y_pred_rf = rf_model.predict(X_test)\n",
        "mse_rf = mean_squared_error(y_test.astype(int), y_pred_rf.astype(int))\n",
        "rmse_rf = mean_squared_error(y_test.astype(int), y_pred_rf.astype(int), squared=False)\n",
        "mae_rf = mean_absolute_error(y_test.astype(int), y_pred_rf.astype(int))\n",
        "\n",
        "print(\"Random Forest Metrics:\")\n",
        "print(\"MSE:\", mse_rf)\n",
        "print(\"RMSE:\", rmse_rf)\n"
      ]
    },
    {
      "cell_type": "code",
      "execution_count": 70,
      "metadata": {
        "colab": {
          "base_uri": "https://localhost:8080/"
        },
        "id": "T3EcoFJdCVhG",
        "outputId": "4ca142b0-9362-44c1-9489-2e641303987f"
      },
      "outputs": [
        {
          "output_type": "stream",
          "name": "stdout",
          "text": [
            "Logistic Regression Metrics:\n",
            "MSE: 0.01849402121754468\n",
            "RMSE: 0.13599272486991604\n",
            "MAE: 0.01849402121754468\n",
            "\n",
            "\n",
            "Gradient Boosting Metrics:\n",
            "MSE: 0.014741611115434164\n",
            "RMSE: 0.12141503661175647\n",
            "MAE: 0.014741611115434164\n"
          ]
        }
      ],
      "source": [
        "from sklearn.metrics import mean_squared_error, mean_absolute_error\n",
        "\n",
        "# Logistic Regression\n",
        "y_pred_lr = lr_model.predict(X_test)\n",
        "mse_lr = mean_squared_error(y_test.astype(int), y_pred_lr.astype(int))\n",
        "rmse_lr = mean_squared_error(y_test.astype(int), y_pred_lr.astype(int), squared=False)\n",
        "mae_lr = mean_absolute_error(y_test.astype(int), y_pred_lr.astype(int))\n",
        "\n",
        "print(\"Logistic Regression Metrics:\")\n",
        "print(\"MSE:\", mse_lr)\n",
        "print(\"RMSE:\", rmse_lr)\n",
        "print(\"MAE:\", mae_lr)\n",
        "print(\"\\n\")\n",
        "\n",
        "# Gradient Boosting\n",
        "y_pred_gb = gb_model.predict(X_test)\n",
        "mse_gb = mean_squared_error(y_test.astype(int), y_pred_gb.astype(int))\n",
        "rmse_gb = mean_squared_error(y_test.astype(int), y_pred_gb.astype(int), squared=False)\n",
        "mae_gb = mean_absolute_error(y_test.astype(int), y_pred_gb.astype(int))\n",
        "\n",
        "print(\"Gradient Boosting Metrics:\")\n",
        "print(\"MSE:\", mse_gb)\n",
        "print(\"RMSE:\", rmse_gb)\n",
        "print(\"MAE:\", mae_gb)\n"
      ]
    },
    {
      "cell_type": "markdown",
      "metadata": {
        "id": "d63dcKi9k2qN"
      },
      "source": [
        "<h1>Justifying the most appropriate model.:\n",
        " considering all aspects, including accuracy, cross-validation scores, and error metrics:\n",
        "\n",
        "**1. Accuracy:**\n",
        "   - Decision Tree Accuracy: 98.48%\n",
        "   - Random Forest Accuracy: 98.47%\n",
        "   - Logistic Regression Accuracy: 98.15%\n",
        "   - Gradient Boosting Accuracy: 98.53%\n",
        "\n",
        "   All models exhibit high accuracy, with Gradient Boosting being the highest. However, keep in mind that high accuracy alone may not be sufficient to justify a model, and other metrics should be considered.\n",
        "\n",
        "**2. Cross-Validation Accuracy:**\n",
        "   - Logistic Regression Accuracy (Cross-Validation): 94.99%\n",
        "   - Decision Tree Accuracy (Cross-Validation): 95.21%\n",
        "   - Random Forest Accuracy (Cross-Validation): 95.22%\n",
        "   - Gradient Boosting Accuracy (Cross-Validation): 95.37%\n",
        "\n",
        "   Cross-validation provides an estimate of how well the models generalize to unseen data. Again, all models have reasonably high cross-validation accuracy.\n",
        "\n",
        "**3. Error Metrics:**\n",
        "   - Decision Tree Metrics:\n",
        "     - MSE: 0.0152\n",
        "     - RMSE: 0.1235\n",
        "     - MAE: 0.0152\n",
        "\n",
        "   - Random Forest Metrics:\n",
        "     - MSE: 0.0153\n",
        "     - RMSE: 0.1235\n",
        "\n",
        "   - Logistic Regression Metrics:\n",
        "     - MSE: 0.0185\n",
        "     - RMSE: 0.136\n",
        "     - MAE: 0.0185\n",
        "\n",
        "   - Gradient Boosting Metrics:\n",
        "     - MSE: 0.0147\n",
        "     - RMSE: 0.1214\n",
        "     - MAE: 0.0147\n",
        "\n",
        "   Error metrics provide insights into how well the model predictions match the actual values. Lower values for MSE, RMSE, and MAE indicate better performance.\n",
        "\n",
        "**Conclusion:**\n",
        "- All models perform well, but Gradient Boosting consistently shows the highest accuracy and the lowest error metrics.\n",
        "- Cross-validation results are consistent with the main accuracy metrics, indicating good generalization.\n",
        "- While Logistic Regression has slightly lower accuracy, it's important to note that different algorithms may be more suitable for different types of data.\n",
        "\n",
        "**Recommendation:**\n",
        "Based on the provided results, Gradient Boosting seems to be the most appropriate model for your dataset, as it demonstrates the highest accuracy and performs well in both main and cross-validation metrics.\n",
        "\n",
        "Choosing the model with the minimum error metrics is a valid approach, especially if primary concern is the accuracy of predictions. In this case, Gradient Boosting appears to be the most suitable model for my project based on the given error metrics."
      ]
    },
    {
      "cell_type": "markdown",
      "metadata": {
        "id": "eZtk-gY-S9kQ"
      },
      "source": [
        "**Prove or Not able to prove HYPOTHESIS**\n"
      ]
    },
    {
      "cell_type": "markdown",
      "metadata": {
        "id": "J87INykWz0gG"
      },
      "source": [
        "\n",
        "\n",
        "**1. Age, Gender, and Known Contact:**\n",
        "   - *Initial Hypothesis (h1):* Older age, male gender, and a known contact history are associated with a higher chance of testing positive for COVID-19.\n",
        "   - *Null Hypothesis (h0):* There is no association between age, gender, known contact, and the likelihood of testing positive for COVID-19.\n",
        "   - *Confirmation or Rejection:* Based on the Logistic Regression model's analysis, we are not able to accept the null hypothesis. The evidence from the model suggests a statistically significant association between older age, male gender, known contact, and an increased likelihood of testing positive for COVID-19.\n",
        "\n",
        "**2. Symptoms (Cough, Fever, Shortness of Breath):**\n",
        "   - *Initial Hypothesis (h1):* Presence of symptoms like cough, fever, and shortness of breath increases the likelihood of testing positive for COVID-19.\n",
        "   - *Null Hypothesis (h0):* There is no association between symptoms (cough, fever, shortness of breath) and the likelihood of testing positive for COVID-19.\n",
        "   - *Confirmation or Rejection:* The Random Forest model's analysis leads us to reject the null hypothesis. The model provides strong evidence of a significant association between symptoms (cough, fever, shortness of breath) and an increased likelihood of testing positive for COVID-19.\n",
        "\n",
        "**Overall Assessment:**\n",
        "   - The rejection of null hypotheses or not able to accept the null hypothesis in both cases suggests that the identified factors (age, gender, known contact, symptoms) are indeed associated with increase in testing positive for COVID-19.\n"
      ]
    },
    {
      "cell_type": "markdown",
      "metadata": {
        "id": "Xlk7lWlQpo4a"
      },
      "source": [
        "\n",
        "**<h1>Conclusion:**\n",
        "   - In conclusion, based on the evidence from the models, we reject the null hypotheses or we are not able to accept Null Hypothesis, confirming that age, gender, known contact, and symptoms are meaningful predictors of COVID-19 diagnosis. The models' performance and statistical significance support these associations, providing valuable insights for further understanding and intervention strategies.\n",
        "   the symptoms like fever,cough,headche,cough,shortness of breath are +ve ly related with the corona +ve"
      ]
    },
    {
      "cell_type": "code",
      "execution_count": 71,
      "metadata": {
        "id": "04xL0n6zwlq_"
      },
      "outputs": [],
      "source": [
        "DF.to_csv('corrected.csv', index=False)\n"
      ]
    },
    {
      "cell_type": "code",
      "execution_count": 72,
      "metadata": {
        "id": "oXZAFGLcLssD"
      },
      "outputs": [],
      "source": [
        "import duckdb"
      ]
    },
    {
      "cell_type": "code",
      "execution_count": 73,
      "metadata": {
        "colab": {
          "base_uri": "https://localhost:8080/"
        },
        "id": "rE8cKnDQLyyG",
        "outputId": "fd9ef8ab-5b56-4233-f0a9-5097f0ab995f"
      },
      "outputs": [
        {
          "output_type": "execute_result",
          "data": {
            "text/plain": [
              "<duckdb.duckdb.DuckDBPyConnection at 0x795effb26f70>"
            ]
          },
          "metadata": {},
          "execution_count": 73
        }
      ],
      "source": [
        "conn=duckdb.connect()\n",
        "conn.register('DF',DF)"
      ]
    },
    {
      "cell_type": "markdown",
      "metadata": {
        "id": "Mv2fN-v7NL_D"
      },
      "source": [
        "**1.Find the number of corona patients who faced shortness of breath**."
      ]
    },
    {
      "cell_type": "code",
      "execution_count": 74,
      "metadata": {
        "colab": {
          "base_uri": "https://localhost:8080/"
        },
        "id": "aXMaCufnlMs4",
        "outputId": "ceef0b8f-8534-410d-cacc-f369b39afc6a"
      },
      "outputs": [
        {
          "output_type": "stream",
          "name": "stdout",
          "text": [
            "<class 'pandas.core.frame.DataFrame'>\n",
            "RangeIndex: 278848 entries, 0 to 278847\n",
            "Data columns (total 11 columns):\n",
            " #   Column               Non-Null Count   Dtype         \n",
            "---  ------               --------------   -----         \n",
            " 0   Ind_ID               278848 non-null  int64         \n",
            " 1   Test_date            278848 non-null  datetime64[ns]\n",
            " 2   Cough_symptoms       278848 non-null  uint8         \n",
            " 3   Fever                278848 non-null  uint8         \n",
            " 4   Sore_throat          278848 non-null  uint8         \n",
            " 5   Shortness_of_breath  278848 non-null  uint8         \n",
            " 6   Headache             278848 non-null  uint8         \n",
            " 7   Corona               278848 non-null  category      \n",
            " 8   Age_60_above         278848 non-null  uint8         \n",
            " 9   Sex                  278848 non-null  uint8         \n",
            " 10  Known_contact        278848 non-null  object        \n",
            "dtypes: category(1), datetime64[ns](1), int64(1), object(1), uint8(7)\n",
            "memory usage: 8.5+ MB\n"
          ]
        }
      ],
      "source": [
        "DF.info()"
      ]
    },
    {
      "cell_type": "markdown",
      "metadata": {
        "id": "5-vhEcYwIm8O"
      },
      "source": [
        "**1.Find the number of corona patients who faced shortness of breath.**"
      ]
    },
    {
      "cell_type": "code",
      "execution_count": 75,
      "metadata": {
        "colab": {
          "base_uri": "https://localhost:8080/",
          "height": 81
        },
        "id": "Ka6s7JBrMG9W",
        "outputId": "c097bc30-3a86-4b99-a478-41cdd2d8dfe8"
      },
      "outputs": [
        {
          "output_type": "execute_result",
          "data": {
            "text/plain": [
              "   count_star()\n",
              "0          1164"
            ],
            "text/html": [
              "\n",
              "  <div id=\"df-56d95bde-dc07-46e8-a07b-9fa321a61042\" class=\"colab-df-container\">\n",
              "    <div>\n",
              "<style scoped>\n",
              "    .dataframe tbody tr th:only-of-type {\n",
              "        vertical-align: middle;\n",
              "    }\n",
              "\n",
              "    .dataframe tbody tr th {\n",
              "        vertical-align: top;\n",
              "    }\n",
              "\n",
              "    .dataframe thead th {\n",
              "        text-align: right;\n",
              "    }\n",
              "</style>\n",
              "<table border=\"1\" class=\"dataframe\">\n",
              "  <thead>\n",
              "    <tr style=\"text-align: right;\">\n",
              "      <th></th>\n",
              "      <th>count_star()</th>\n",
              "    </tr>\n",
              "  </thead>\n",
              "  <tbody>\n",
              "    <tr>\n",
              "      <th>0</th>\n",
              "      <td>1164</td>\n",
              "    </tr>\n",
              "  </tbody>\n",
              "</table>\n",
              "</div>\n",
              "    <div class=\"colab-df-buttons\">\n",
              "\n",
              "  <div class=\"colab-df-container\">\n",
              "    <button class=\"colab-df-convert\" onclick=\"convertToInteractive('df-56d95bde-dc07-46e8-a07b-9fa321a61042')\"\n",
              "            title=\"Convert this dataframe to an interactive table.\"\n",
              "            style=\"display:none;\">\n",
              "\n",
              "  <svg xmlns=\"http://www.w3.org/2000/svg\" height=\"24px\" viewBox=\"0 -960 960 960\">\n",
              "    <path d=\"M120-120v-720h720v720H120Zm60-500h600v-160H180v160Zm220 220h160v-160H400v160Zm0 220h160v-160H400v160ZM180-400h160v-160H180v160Zm440 0h160v-160H620v160ZM180-180h160v-160H180v160Zm440 0h160v-160H620v160Z\"/>\n",
              "  </svg>\n",
              "    </button>\n",
              "\n",
              "  <style>\n",
              "    .colab-df-container {\n",
              "      display:flex;\n",
              "      gap: 12px;\n",
              "    }\n",
              "\n",
              "    .colab-df-convert {\n",
              "      background-color: #E8F0FE;\n",
              "      border: none;\n",
              "      border-radius: 50%;\n",
              "      cursor: pointer;\n",
              "      display: none;\n",
              "      fill: #1967D2;\n",
              "      height: 32px;\n",
              "      padding: 0 0 0 0;\n",
              "      width: 32px;\n",
              "    }\n",
              "\n",
              "    .colab-df-convert:hover {\n",
              "      background-color: #E2EBFA;\n",
              "      box-shadow: 0px 1px 2px rgba(60, 64, 67, 0.3), 0px 1px 3px 1px rgba(60, 64, 67, 0.15);\n",
              "      fill: #174EA6;\n",
              "    }\n",
              "\n",
              "    .colab-df-buttons div {\n",
              "      margin-bottom: 4px;\n",
              "    }\n",
              "\n",
              "    [theme=dark] .colab-df-convert {\n",
              "      background-color: #3B4455;\n",
              "      fill: #D2E3FC;\n",
              "    }\n",
              "\n",
              "    [theme=dark] .colab-df-convert:hover {\n",
              "      background-color: #434B5C;\n",
              "      box-shadow: 0px 1px 3px 1px rgba(0, 0, 0, 0.15);\n",
              "      filter: drop-shadow(0px 1px 2px rgba(0, 0, 0, 0.3));\n",
              "      fill: #FFFFFF;\n",
              "    }\n",
              "  </style>\n",
              "\n",
              "    <script>\n",
              "      const buttonEl =\n",
              "        document.querySelector('#df-56d95bde-dc07-46e8-a07b-9fa321a61042 button.colab-df-convert');\n",
              "      buttonEl.style.display =\n",
              "        google.colab.kernel.accessAllowed ? 'block' : 'none';\n",
              "\n",
              "      async function convertToInteractive(key) {\n",
              "        const element = document.querySelector('#df-56d95bde-dc07-46e8-a07b-9fa321a61042');\n",
              "        const dataTable =\n",
              "          await google.colab.kernel.invokeFunction('convertToInteractive',\n",
              "                                                    [key], {});\n",
              "        if (!dataTable) return;\n",
              "\n",
              "        const docLinkHtml = 'Like what you see? Visit the ' +\n",
              "          '<a target=\"_blank\" href=https://colab.research.google.com/notebooks/data_table.ipynb>data table notebook</a>'\n",
              "          + ' to learn more about interactive tables.';\n",
              "        element.innerHTML = '';\n",
              "        dataTable['output_type'] = 'display_data';\n",
              "        await google.colab.output.renderOutput(dataTable, element);\n",
              "        const docLink = document.createElement('div');\n",
              "        docLink.innerHTML = docLinkHtml;\n",
              "        element.appendChild(docLink);\n",
              "      }\n",
              "    </script>\n",
              "  </div>\n",
              "\n",
              "\n",
              "    </div>\n",
              "  </div>\n"
            ]
          },
          "metadata": {},
          "execution_count": 75
        }
      ],
      "source": [
        "conn.execute(\"select count(*) from DF where Shortness_of_breath=1 and Corona='positive'\").fetchdf()"
      ]
    },
    {
      "cell_type": "markdown",
      "metadata": {
        "id": "5iiBF6cKPh0k"
      },
      "source": [
        "**2.Find the number of negative corona patients who have fever and sore_throat.**\n",
        "\n",
        "---\n",
        "\n"
      ]
    },
    {
      "cell_type": "code",
      "execution_count": 76,
      "metadata": {
        "colab": {
          "base_uri": "https://localhost:8080/",
          "height": 81
        },
        "id": "ofCW4E63MYSW",
        "outputId": "a20d0d0b-1a86-434b-9d29-9c1d1ee242e4"
      },
      "outputs": [
        {
          "output_type": "execute_result",
          "data": {
            "text/plain": [
              "   count\n",
              "0    142"
            ],
            "text/html": [
              "\n",
              "  <div id=\"df-358cabad-64c7-41b1-aabc-15ab9081a00e\" class=\"colab-df-container\">\n",
              "    <div>\n",
              "<style scoped>\n",
              "    .dataframe tbody tr th:only-of-type {\n",
              "        vertical-align: middle;\n",
              "    }\n",
              "\n",
              "    .dataframe tbody tr th {\n",
              "        vertical-align: top;\n",
              "    }\n",
              "\n",
              "    .dataframe thead th {\n",
              "        text-align: right;\n",
              "    }\n",
              "</style>\n",
              "<table border=\"1\" class=\"dataframe\">\n",
              "  <thead>\n",
              "    <tr style=\"text-align: right;\">\n",
              "      <th></th>\n",
              "      <th>count</th>\n",
              "    </tr>\n",
              "  </thead>\n",
              "  <tbody>\n",
              "    <tr>\n",
              "      <th>0</th>\n",
              "      <td>142</td>\n",
              "    </tr>\n",
              "  </tbody>\n",
              "</table>\n",
              "</div>\n",
              "    <div class=\"colab-df-buttons\">\n",
              "\n",
              "  <div class=\"colab-df-container\">\n",
              "    <button class=\"colab-df-convert\" onclick=\"convertToInteractive('df-358cabad-64c7-41b1-aabc-15ab9081a00e')\"\n",
              "            title=\"Convert this dataframe to an interactive table.\"\n",
              "            style=\"display:none;\">\n",
              "\n",
              "  <svg xmlns=\"http://www.w3.org/2000/svg\" height=\"24px\" viewBox=\"0 -960 960 960\">\n",
              "    <path d=\"M120-120v-720h720v720H120Zm60-500h600v-160H180v160Zm220 220h160v-160H400v160Zm0 220h160v-160H400v160ZM180-400h160v-160H180v160Zm440 0h160v-160H620v160ZM180-180h160v-160H180v160Zm440 0h160v-160H620v160Z\"/>\n",
              "  </svg>\n",
              "    </button>\n",
              "\n",
              "  <style>\n",
              "    .colab-df-container {\n",
              "      display:flex;\n",
              "      gap: 12px;\n",
              "    }\n",
              "\n",
              "    .colab-df-convert {\n",
              "      background-color: #E8F0FE;\n",
              "      border: none;\n",
              "      border-radius: 50%;\n",
              "      cursor: pointer;\n",
              "      display: none;\n",
              "      fill: #1967D2;\n",
              "      height: 32px;\n",
              "      padding: 0 0 0 0;\n",
              "      width: 32px;\n",
              "    }\n",
              "\n",
              "    .colab-df-convert:hover {\n",
              "      background-color: #E2EBFA;\n",
              "      box-shadow: 0px 1px 2px rgba(60, 64, 67, 0.3), 0px 1px 3px 1px rgba(60, 64, 67, 0.15);\n",
              "      fill: #174EA6;\n",
              "    }\n",
              "\n",
              "    .colab-df-buttons div {\n",
              "      margin-bottom: 4px;\n",
              "    }\n",
              "\n",
              "    [theme=dark] .colab-df-convert {\n",
              "      background-color: #3B4455;\n",
              "      fill: #D2E3FC;\n",
              "    }\n",
              "\n",
              "    [theme=dark] .colab-df-convert:hover {\n",
              "      background-color: #434B5C;\n",
              "      box-shadow: 0px 1px 3px 1px rgba(0, 0, 0, 0.15);\n",
              "      filter: drop-shadow(0px 1px 2px rgba(0, 0, 0, 0.3));\n",
              "      fill: #FFFFFF;\n",
              "    }\n",
              "  </style>\n",
              "\n",
              "    <script>\n",
              "      const buttonEl =\n",
              "        document.querySelector('#df-358cabad-64c7-41b1-aabc-15ab9081a00e button.colab-df-convert');\n",
              "      buttonEl.style.display =\n",
              "        google.colab.kernel.accessAllowed ? 'block' : 'none';\n",
              "\n",
              "      async function convertToInteractive(key) {\n",
              "        const element = document.querySelector('#df-358cabad-64c7-41b1-aabc-15ab9081a00e');\n",
              "        const dataTable =\n",
              "          await google.colab.kernel.invokeFunction('convertToInteractive',\n",
              "                                                    [key], {});\n",
              "        if (!dataTable) return;\n",
              "\n",
              "        const docLinkHtml = 'Like what you see? Visit the ' +\n",
              "          '<a target=\"_blank\" href=https://colab.research.google.com/notebooks/data_table.ipynb>data table notebook</a>'\n",
              "          + ' to learn more about interactive tables.';\n",
              "        element.innerHTML = '';\n",
              "        dataTable['output_type'] = 'display_data';\n",
              "        await google.colab.output.renderOutput(dataTable, element);\n",
              "        const docLink = document.createElement('div');\n",
              "        docLink.innerHTML = docLinkHtml;\n",
              "        element.appendChild(docLink);\n",
              "      }\n",
              "    </script>\n",
              "  </div>\n",
              "\n",
              "\n",
              "    </div>\n",
              "  </div>\n"
            ]
          },
          "metadata": {},
          "execution_count": 76
        }
      ],
      "source": [
        "conn.execute(\"SELECT COUNT(*) AS count FROM DF WHERE Corona = 'negative' AND Fever = 1 AND Sore_throat = 1\").fetchdf()"
      ]
    },
    {
      "cell_type": "markdown",
      "metadata": {
        "id": "YdxFQPeJRWEi"
      },
      "source": [
        "**3.Group the data by month and rank the number of positive cases.**"
      ]
    },
    {
      "cell_type": "code",
      "execution_count": 77,
      "metadata": {
        "colab": {
          "base_uri": "https://localhost:8080/",
          "height": 426
        },
        "id": "qOLaKhFZMZDC",
        "outputId": "a35c9cc3-7125-4478-96ac-1f8492311292"
      },
      "outputs": [
        {
          "output_type": "execute_result",
          "data": {
            "text/plain": [
              "    month  num_positive_cases  rank\n",
              "0       1                 682     3\n",
              "1       2                 615     4\n",
              "2       3                6283     1\n",
              "3       4                4188     2\n",
              "4       5                 505     5\n",
              "5       6                 394     7\n",
              "6       7                 483     6\n",
              "7       8                 274    12\n",
              "8       9                 288    11\n",
              "9      10                 356     8\n",
              "10     11                 331     9\n",
              "11     12                 330    10"
            ],
            "text/html": [
              "\n",
              "  <div id=\"df-7251f77e-d9e9-432a-83b8-291e1d869efc\" class=\"colab-df-container\">\n",
              "    <div>\n",
              "<style scoped>\n",
              "    .dataframe tbody tr th:only-of-type {\n",
              "        vertical-align: middle;\n",
              "    }\n",
              "\n",
              "    .dataframe tbody tr th {\n",
              "        vertical-align: top;\n",
              "    }\n",
              "\n",
              "    .dataframe thead th {\n",
              "        text-align: right;\n",
              "    }\n",
              "</style>\n",
              "<table border=\"1\" class=\"dataframe\">\n",
              "  <thead>\n",
              "    <tr style=\"text-align: right;\">\n",
              "      <th></th>\n",
              "      <th>month</th>\n",
              "      <th>num_positive_cases</th>\n",
              "      <th>rank</th>\n",
              "    </tr>\n",
              "  </thead>\n",
              "  <tbody>\n",
              "    <tr>\n",
              "      <th>0</th>\n",
              "      <td>1</td>\n",
              "      <td>682</td>\n",
              "      <td>3</td>\n",
              "    </tr>\n",
              "    <tr>\n",
              "      <th>1</th>\n",
              "      <td>2</td>\n",
              "      <td>615</td>\n",
              "      <td>4</td>\n",
              "    </tr>\n",
              "    <tr>\n",
              "      <th>2</th>\n",
              "      <td>3</td>\n",
              "      <td>6283</td>\n",
              "      <td>1</td>\n",
              "    </tr>\n",
              "    <tr>\n",
              "      <th>3</th>\n",
              "      <td>4</td>\n",
              "      <td>4188</td>\n",
              "      <td>2</td>\n",
              "    </tr>\n",
              "    <tr>\n",
              "      <th>4</th>\n",
              "      <td>5</td>\n",
              "      <td>505</td>\n",
              "      <td>5</td>\n",
              "    </tr>\n",
              "    <tr>\n",
              "      <th>5</th>\n",
              "      <td>6</td>\n",
              "      <td>394</td>\n",
              "      <td>7</td>\n",
              "    </tr>\n",
              "    <tr>\n",
              "      <th>6</th>\n",
              "      <td>7</td>\n",
              "      <td>483</td>\n",
              "      <td>6</td>\n",
              "    </tr>\n",
              "    <tr>\n",
              "      <th>7</th>\n",
              "      <td>8</td>\n",
              "      <td>274</td>\n",
              "      <td>12</td>\n",
              "    </tr>\n",
              "    <tr>\n",
              "      <th>8</th>\n",
              "      <td>9</td>\n",
              "      <td>288</td>\n",
              "      <td>11</td>\n",
              "    </tr>\n",
              "    <tr>\n",
              "      <th>9</th>\n",
              "      <td>10</td>\n",
              "      <td>356</td>\n",
              "      <td>8</td>\n",
              "    </tr>\n",
              "    <tr>\n",
              "      <th>10</th>\n",
              "      <td>11</td>\n",
              "      <td>331</td>\n",
              "      <td>9</td>\n",
              "    </tr>\n",
              "    <tr>\n",
              "      <th>11</th>\n",
              "      <td>12</td>\n",
              "      <td>330</td>\n",
              "      <td>10</td>\n",
              "    </tr>\n",
              "  </tbody>\n",
              "</table>\n",
              "</div>\n",
              "    <div class=\"colab-df-buttons\">\n",
              "\n",
              "  <div class=\"colab-df-container\">\n",
              "    <button class=\"colab-df-convert\" onclick=\"convertToInteractive('df-7251f77e-d9e9-432a-83b8-291e1d869efc')\"\n",
              "            title=\"Convert this dataframe to an interactive table.\"\n",
              "            style=\"display:none;\">\n",
              "\n",
              "  <svg xmlns=\"http://www.w3.org/2000/svg\" height=\"24px\" viewBox=\"0 -960 960 960\">\n",
              "    <path d=\"M120-120v-720h720v720H120Zm60-500h600v-160H180v160Zm220 220h160v-160H400v160Zm0 220h160v-160H400v160ZM180-400h160v-160H180v160Zm440 0h160v-160H620v160ZM180-180h160v-160H180v160Zm440 0h160v-160H620v160Z\"/>\n",
              "  </svg>\n",
              "    </button>\n",
              "\n",
              "  <style>\n",
              "    .colab-df-container {\n",
              "      display:flex;\n",
              "      gap: 12px;\n",
              "    }\n",
              "\n",
              "    .colab-df-convert {\n",
              "      background-color: #E8F0FE;\n",
              "      border: none;\n",
              "      border-radius: 50%;\n",
              "      cursor: pointer;\n",
              "      display: none;\n",
              "      fill: #1967D2;\n",
              "      height: 32px;\n",
              "      padding: 0 0 0 0;\n",
              "      width: 32px;\n",
              "    }\n",
              "\n",
              "    .colab-df-convert:hover {\n",
              "      background-color: #E2EBFA;\n",
              "      box-shadow: 0px 1px 2px rgba(60, 64, 67, 0.3), 0px 1px 3px 1px rgba(60, 64, 67, 0.15);\n",
              "      fill: #174EA6;\n",
              "    }\n",
              "\n",
              "    .colab-df-buttons div {\n",
              "      margin-bottom: 4px;\n",
              "    }\n",
              "\n",
              "    [theme=dark] .colab-df-convert {\n",
              "      background-color: #3B4455;\n",
              "      fill: #D2E3FC;\n",
              "    }\n",
              "\n",
              "    [theme=dark] .colab-df-convert:hover {\n",
              "      background-color: #434B5C;\n",
              "      box-shadow: 0px 1px 3px 1px rgba(0, 0, 0, 0.15);\n",
              "      filter: drop-shadow(0px 1px 2px rgba(0, 0, 0, 0.3));\n",
              "      fill: #FFFFFF;\n",
              "    }\n",
              "  </style>\n",
              "\n",
              "    <script>\n",
              "      const buttonEl =\n",
              "        document.querySelector('#df-7251f77e-d9e9-432a-83b8-291e1d869efc button.colab-df-convert');\n",
              "      buttonEl.style.display =\n",
              "        google.colab.kernel.accessAllowed ? 'block' : 'none';\n",
              "\n",
              "      async function convertToInteractive(key) {\n",
              "        const element = document.querySelector('#df-7251f77e-d9e9-432a-83b8-291e1d869efc');\n",
              "        const dataTable =\n",
              "          await google.colab.kernel.invokeFunction('convertToInteractive',\n",
              "                                                    [key], {});\n",
              "        if (!dataTable) return;\n",
              "\n",
              "        const docLinkHtml = 'Like what you see? Visit the ' +\n",
              "          '<a target=\"_blank\" href=https://colab.research.google.com/notebooks/data_table.ipynb>data table notebook</a>'\n",
              "          + ' to learn more about interactive tables.';\n",
              "        element.innerHTML = '';\n",
              "        dataTable['output_type'] = 'display_data';\n",
              "        await google.colab.output.renderOutput(dataTable, element);\n",
              "        const docLink = document.createElement('div');\n",
              "        docLink.innerHTML = docLinkHtml;\n",
              "        element.appendChild(docLink);\n",
              "      }\n",
              "    </script>\n",
              "  </div>\n",
              "\n",
              "\n",
              "<div id=\"df-e03d1583-61fc-46c2-b424-ac4d95b91f5f\">\n",
              "  <button class=\"colab-df-quickchart\" onclick=\"quickchart('df-e03d1583-61fc-46c2-b424-ac4d95b91f5f')\"\n",
              "            title=\"Suggest charts\"\n",
              "            style=\"display:none;\">\n",
              "\n",
              "<svg xmlns=\"http://www.w3.org/2000/svg\" height=\"24px\"viewBox=\"0 0 24 24\"\n",
              "     width=\"24px\">\n",
              "    <g>\n",
              "        <path d=\"M19 3H5c-1.1 0-2 .9-2 2v14c0 1.1.9 2 2 2h14c1.1 0 2-.9 2-2V5c0-1.1-.9-2-2-2zM9 17H7v-7h2v7zm4 0h-2V7h2v10zm4 0h-2v-4h2v4z\"/>\n",
              "    </g>\n",
              "</svg>\n",
              "  </button>\n",
              "\n",
              "<style>\n",
              "  .colab-df-quickchart {\n",
              "      --bg-color: #E8F0FE;\n",
              "      --fill-color: #1967D2;\n",
              "      --hover-bg-color: #E2EBFA;\n",
              "      --hover-fill-color: #174EA6;\n",
              "      --disabled-fill-color: #AAA;\n",
              "      --disabled-bg-color: #DDD;\n",
              "  }\n",
              "\n",
              "  [theme=dark] .colab-df-quickchart {\n",
              "      --bg-color: #3B4455;\n",
              "      --fill-color: #D2E3FC;\n",
              "      --hover-bg-color: #434B5C;\n",
              "      --hover-fill-color: #FFFFFF;\n",
              "      --disabled-bg-color: #3B4455;\n",
              "      --disabled-fill-color: #666;\n",
              "  }\n",
              "\n",
              "  .colab-df-quickchart {\n",
              "    background-color: var(--bg-color);\n",
              "    border: none;\n",
              "    border-radius: 50%;\n",
              "    cursor: pointer;\n",
              "    display: none;\n",
              "    fill: var(--fill-color);\n",
              "    height: 32px;\n",
              "    padding: 0;\n",
              "    width: 32px;\n",
              "  }\n",
              "\n",
              "  .colab-df-quickchart:hover {\n",
              "    background-color: var(--hover-bg-color);\n",
              "    box-shadow: 0 1px 2px rgba(60, 64, 67, 0.3), 0 1px 3px 1px rgba(60, 64, 67, 0.15);\n",
              "    fill: var(--button-hover-fill-color);\n",
              "  }\n",
              "\n",
              "  .colab-df-quickchart-complete:disabled,\n",
              "  .colab-df-quickchart-complete:disabled:hover {\n",
              "    background-color: var(--disabled-bg-color);\n",
              "    fill: var(--disabled-fill-color);\n",
              "    box-shadow: none;\n",
              "  }\n",
              "\n",
              "  .colab-df-spinner {\n",
              "    border: 2px solid var(--fill-color);\n",
              "    border-color: transparent;\n",
              "    border-bottom-color: var(--fill-color);\n",
              "    animation:\n",
              "      spin 1s steps(1) infinite;\n",
              "  }\n",
              "\n",
              "  @keyframes spin {\n",
              "    0% {\n",
              "      border-color: transparent;\n",
              "      border-bottom-color: var(--fill-color);\n",
              "      border-left-color: var(--fill-color);\n",
              "    }\n",
              "    20% {\n",
              "      border-color: transparent;\n",
              "      border-left-color: var(--fill-color);\n",
              "      border-top-color: var(--fill-color);\n",
              "    }\n",
              "    30% {\n",
              "      border-color: transparent;\n",
              "      border-left-color: var(--fill-color);\n",
              "      border-top-color: var(--fill-color);\n",
              "      border-right-color: var(--fill-color);\n",
              "    }\n",
              "    40% {\n",
              "      border-color: transparent;\n",
              "      border-right-color: var(--fill-color);\n",
              "      border-top-color: var(--fill-color);\n",
              "    }\n",
              "    60% {\n",
              "      border-color: transparent;\n",
              "      border-right-color: var(--fill-color);\n",
              "    }\n",
              "    80% {\n",
              "      border-color: transparent;\n",
              "      border-right-color: var(--fill-color);\n",
              "      border-bottom-color: var(--fill-color);\n",
              "    }\n",
              "    90% {\n",
              "      border-color: transparent;\n",
              "      border-bottom-color: var(--fill-color);\n",
              "    }\n",
              "  }\n",
              "</style>\n",
              "\n",
              "  <script>\n",
              "    async function quickchart(key) {\n",
              "      const quickchartButtonEl =\n",
              "        document.querySelector('#' + key + ' button');\n",
              "      quickchartButtonEl.disabled = true;  // To prevent multiple clicks.\n",
              "      quickchartButtonEl.classList.add('colab-df-spinner');\n",
              "      try {\n",
              "        const charts = await google.colab.kernel.invokeFunction(\n",
              "            'suggestCharts', [key], {});\n",
              "      } catch (error) {\n",
              "        console.error('Error during call to suggestCharts:', error);\n",
              "      }\n",
              "      quickchartButtonEl.classList.remove('colab-df-spinner');\n",
              "      quickchartButtonEl.classList.add('colab-df-quickchart-complete');\n",
              "    }\n",
              "    (() => {\n",
              "      let quickchartButtonEl =\n",
              "        document.querySelector('#df-e03d1583-61fc-46c2-b424-ac4d95b91f5f button');\n",
              "      quickchartButtonEl.style.display =\n",
              "        google.colab.kernel.accessAllowed ? 'block' : 'none';\n",
              "    })();\n",
              "  </script>\n",
              "</div>\n",
              "\n",
              "    </div>\n",
              "  </div>\n"
            ]
          },
          "metadata": {},
          "execution_count": 77
        }
      ],
      "source": [
        "conn.execute(\"SELECT EXTRACT(MONTH FROM Test_date) AS month,COUNT(*) AS num_positive_cases,RANK() OVER (ORDER BY COUNT(*) DESC) AS rank FROM df WHERE Corona ='positive' GROUP BY month ORDER BY month;\").fetchdf()"
      ]
    },
    {
      "cell_type": "markdown",
      "metadata": {
        "id": "W5fpn7gpSltq"
      },
      "source": [
        "**4.Find the female negative corona patients who faced cough and headache.**"
      ]
    },
    {
      "cell_type": "code",
      "execution_count": 78,
      "metadata": {
        "colab": {
          "base_uri": "https://localhost:8080/",
          "height": 81
        },
        "id": "JW49NlOxVZWR",
        "outputId": "cb91189c-1ddc-4dcd-a929-fee73057e173"
      },
      "outputs": [
        {
          "output_type": "execute_result",
          "data": {
            "text/plain": [
              "   num_female_negative_corona_patients\n",
              "0                                   69"
            ],
            "text/html": [
              "\n",
              "  <div id=\"df-01527635-c1ec-449b-98a5-2516df996c90\" class=\"colab-df-container\">\n",
              "    <div>\n",
              "<style scoped>\n",
              "    .dataframe tbody tr th:only-of-type {\n",
              "        vertical-align: middle;\n",
              "    }\n",
              "\n",
              "    .dataframe tbody tr th {\n",
              "        vertical-align: top;\n",
              "    }\n",
              "\n",
              "    .dataframe thead th {\n",
              "        text-align: right;\n",
              "    }\n",
              "</style>\n",
              "<table border=\"1\" class=\"dataframe\">\n",
              "  <thead>\n",
              "    <tr style=\"text-align: right;\">\n",
              "      <th></th>\n",
              "      <th>num_female_negative_corona_patients</th>\n",
              "    </tr>\n",
              "  </thead>\n",
              "  <tbody>\n",
              "    <tr>\n",
              "      <th>0</th>\n",
              "      <td>69</td>\n",
              "    </tr>\n",
              "  </tbody>\n",
              "</table>\n",
              "</div>\n",
              "    <div class=\"colab-df-buttons\">\n",
              "\n",
              "  <div class=\"colab-df-container\">\n",
              "    <button class=\"colab-df-convert\" onclick=\"convertToInteractive('df-01527635-c1ec-449b-98a5-2516df996c90')\"\n",
              "            title=\"Convert this dataframe to an interactive table.\"\n",
              "            style=\"display:none;\">\n",
              "\n",
              "  <svg xmlns=\"http://www.w3.org/2000/svg\" height=\"24px\" viewBox=\"0 -960 960 960\">\n",
              "    <path d=\"M120-120v-720h720v720H120Zm60-500h600v-160H180v160Zm220 220h160v-160H400v160Zm0 220h160v-160H400v160ZM180-400h160v-160H180v160Zm440 0h160v-160H620v160ZM180-180h160v-160H180v160Zm440 0h160v-160H620v160Z\"/>\n",
              "  </svg>\n",
              "    </button>\n",
              "\n",
              "  <style>\n",
              "    .colab-df-container {\n",
              "      display:flex;\n",
              "      gap: 12px;\n",
              "    }\n",
              "\n",
              "    .colab-df-convert {\n",
              "      background-color: #E8F0FE;\n",
              "      border: none;\n",
              "      border-radius: 50%;\n",
              "      cursor: pointer;\n",
              "      display: none;\n",
              "      fill: #1967D2;\n",
              "      height: 32px;\n",
              "      padding: 0 0 0 0;\n",
              "      width: 32px;\n",
              "    }\n",
              "\n",
              "    .colab-df-convert:hover {\n",
              "      background-color: #E2EBFA;\n",
              "      box-shadow: 0px 1px 2px rgba(60, 64, 67, 0.3), 0px 1px 3px 1px rgba(60, 64, 67, 0.15);\n",
              "      fill: #174EA6;\n",
              "    }\n",
              "\n",
              "    .colab-df-buttons div {\n",
              "      margin-bottom: 4px;\n",
              "    }\n",
              "\n",
              "    [theme=dark] .colab-df-convert {\n",
              "      background-color: #3B4455;\n",
              "      fill: #D2E3FC;\n",
              "    }\n",
              "\n",
              "    [theme=dark] .colab-df-convert:hover {\n",
              "      background-color: #434B5C;\n",
              "      box-shadow: 0px 1px 3px 1px rgba(0, 0, 0, 0.15);\n",
              "      filter: drop-shadow(0px 1px 2px rgba(0, 0, 0, 0.3));\n",
              "      fill: #FFFFFF;\n",
              "    }\n",
              "  </style>\n",
              "\n",
              "    <script>\n",
              "      const buttonEl =\n",
              "        document.querySelector('#df-01527635-c1ec-449b-98a5-2516df996c90 button.colab-df-convert');\n",
              "      buttonEl.style.display =\n",
              "        google.colab.kernel.accessAllowed ? 'block' : 'none';\n",
              "\n",
              "      async function convertToInteractive(key) {\n",
              "        const element = document.querySelector('#df-01527635-c1ec-449b-98a5-2516df996c90');\n",
              "        const dataTable =\n",
              "          await google.colab.kernel.invokeFunction('convertToInteractive',\n",
              "                                                    [key], {});\n",
              "        if (!dataTable) return;\n",
              "\n",
              "        const docLinkHtml = 'Like what you see? Visit the ' +\n",
              "          '<a target=\"_blank\" href=https://colab.research.google.com/notebooks/data_table.ipynb>data table notebook</a>'\n",
              "          + ' to learn more about interactive tables.';\n",
              "        element.innerHTML = '';\n",
              "        dataTable['output_type'] = 'display_data';\n",
              "        await google.colab.output.renderOutput(dataTable, element);\n",
              "        const docLink = document.createElement('div');\n",
              "        docLink.innerHTML = docLinkHtml;\n",
              "        element.appendChild(docLink);\n",
              "      }\n",
              "    </script>\n",
              "  </div>\n",
              "\n",
              "\n",
              "    </div>\n",
              "  </div>\n"
            ]
          },
          "metadata": {},
          "execution_count": 78
        }
      ],
      "source": [
        "conn.execute(\"SELECT COUNT(*) AS num_female_negative_corona_patients FROM df WHERE Sex =0 AND Corona ='negative' AND Cough_symptoms = 1 AND Headache = 1;\").fetchdf()\n"
      ]
    },
    {
      "cell_type": "markdown",
      "metadata": {
        "id": "E973tgdTeBOB"
      },
      "source": [
        "**5.How many elderly corona patients have faced breathing problems?**"
      ]
    },
    {
      "cell_type": "code",
      "execution_count": 79,
      "metadata": {
        "colab": {
          "base_uri": "https://localhost:8080/",
          "height": 81
        },
        "id": "7aPnO7vaeIZD",
        "outputId": "92cdef9a-e6cb-40fb-bffe-ac666c884615"
      },
      "outputs": [
        {
          "output_type": "execute_result",
          "data": {
            "text/plain": [
              "   num_elderly_corona_patients\n",
              "0                          263"
            ],
            "text/html": [
              "\n",
              "  <div id=\"df-aa4c38a9-da48-45b0-9372-dfe14b4c74b8\" class=\"colab-df-container\">\n",
              "    <div>\n",
              "<style scoped>\n",
              "    .dataframe tbody tr th:only-of-type {\n",
              "        vertical-align: middle;\n",
              "    }\n",
              "\n",
              "    .dataframe tbody tr th {\n",
              "        vertical-align: top;\n",
              "    }\n",
              "\n",
              "    .dataframe thead th {\n",
              "        text-align: right;\n",
              "    }\n",
              "</style>\n",
              "<table border=\"1\" class=\"dataframe\">\n",
              "  <thead>\n",
              "    <tr style=\"text-align: right;\">\n",
              "      <th></th>\n",
              "      <th>num_elderly_corona_patients</th>\n",
              "    </tr>\n",
              "  </thead>\n",
              "  <tbody>\n",
              "    <tr>\n",
              "      <th>0</th>\n",
              "      <td>263</td>\n",
              "    </tr>\n",
              "  </tbody>\n",
              "</table>\n",
              "</div>\n",
              "    <div class=\"colab-df-buttons\">\n",
              "\n",
              "  <div class=\"colab-df-container\">\n",
              "    <button class=\"colab-df-convert\" onclick=\"convertToInteractive('df-aa4c38a9-da48-45b0-9372-dfe14b4c74b8')\"\n",
              "            title=\"Convert this dataframe to an interactive table.\"\n",
              "            style=\"display:none;\">\n",
              "\n",
              "  <svg xmlns=\"http://www.w3.org/2000/svg\" height=\"24px\" viewBox=\"0 -960 960 960\">\n",
              "    <path d=\"M120-120v-720h720v720H120Zm60-500h600v-160H180v160Zm220 220h160v-160H400v160Zm0 220h160v-160H400v160ZM180-400h160v-160H180v160Zm440 0h160v-160H620v160ZM180-180h160v-160H180v160Zm440 0h160v-160H620v160Z\"/>\n",
              "  </svg>\n",
              "    </button>\n",
              "\n",
              "  <style>\n",
              "    .colab-df-container {\n",
              "      display:flex;\n",
              "      gap: 12px;\n",
              "    }\n",
              "\n",
              "    .colab-df-convert {\n",
              "      background-color: #E8F0FE;\n",
              "      border: none;\n",
              "      border-radius: 50%;\n",
              "      cursor: pointer;\n",
              "      display: none;\n",
              "      fill: #1967D2;\n",
              "      height: 32px;\n",
              "      padding: 0 0 0 0;\n",
              "      width: 32px;\n",
              "    }\n",
              "\n",
              "    .colab-df-convert:hover {\n",
              "      background-color: #E2EBFA;\n",
              "      box-shadow: 0px 1px 2px rgba(60, 64, 67, 0.3), 0px 1px 3px 1px rgba(60, 64, 67, 0.15);\n",
              "      fill: #174EA6;\n",
              "    }\n",
              "\n",
              "    .colab-df-buttons div {\n",
              "      margin-bottom: 4px;\n",
              "    }\n",
              "\n",
              "    [theme=dark] .colab-df-convert {\n",
              "      background-color: #3B4455;\n",
              "      fill: #D2E3FC;\n",
              "    }\n",
              "\n",
              "    [theme=dark] .colab-df-convert:hover {\n",
              "      background-color: #434B5C;\n",
              "      box-shadow: 0px 1px 3px 1px rgba(0, 0, 0, 0.15);\n",
              "      filter: drop-shadow(0px 1px 2px rgba(0, 0, 0, 0.3));\n",
              "      fill: #FFFFFF;\n",
              "    }\n",
              "  </style>\n",
              "\n",
              "    <script>\n",
              "      const buttonEl =\n",
              "        document.querySelector('#df-aa4c38a9-da48-45b0-9372-dfe14b4c74b8 button.colab-df-convert');\n",
              "      buttonEl.style.display =\n",
              "        google.colab.kernel.accessAllowed ? 'block' : 'none';\n",
              "\n",
              "      async function convertToInteractive(key) {\n",
              "        const element = document.querySelector('#df-aa4c38a9-da48-45b0-9372-dfe14b4c74b8');\n",
              "        const dataTable =\n",
              "          await google.colab.kernel.invokeFunction('convertToInteractive',\n",
              "                                                    [key], {});\n",
              "        if (!dataTable) return;\n",
              "\n",
              "        const docLinkHtml = 'Like what you see? Visit the ' +\n",
              "          '<a target=\"_blank\" href=https://colab.research.google.com/notebooks/data_table.ipynb>data table notebook</a>'\n",
              "          + ' to learn more about interactive tables.';\n",
              "        element.innerHTML = '';\n",
              "        dataTable['output_type'] = 'display_data';\n",
              "        await google.colab.output.renderOutput(dataTable, element);\n",
              "        const docLink = document.createElement('div');\n",
              "        docLink.innerHTML = docLinkHtml;\n",
              "        element.appendChild(docLink);\n",
              "      }\n",
              "    </script>\n",
              "  </div>\n",
              "\n",
              "\n",
              "    </div>\n",
              "  </div>\n"
            ]
          },
          "metadata": {},
          "execution_count": 79
        }
      ],
      "source": [
        "conn.execute(\"SELECT COUNT(*) AS num_elderly_corona_patients FROM DF WHERE Age_60_above =1 AND Corona ='positive' AND Shortness_of_breath= 1;\").fetchdf()\n"
      ]
    },
    {
      "cell_type": "markdown",
      "metadata": {
        "id": "MiDdhwjxp8s7"
      },
      "source": [
        "**6.Which three symptoms were more common among COVID positive patients?**"
      ]
    },
    {
      "cell_type": "code",
      "execution_count": 80,
      "metadata": {
        "colab": {
          "base_uri": "https://localhost:8080/",
          "height": 143
        },
        "id": "_CQ7z1opqVmh",
        "outputId": "b89a73b1-8100-4a04-c536-161fe9fe5baf"
      },
      "outputs": [
        {
          "output_type": "execute_result",
          "data": {
            "text/plain": [
              "          symptom  symptom_count\n",
              "0  Cough_symptoms           6584\n",
              "1           Fever           5559\n",
              "2        Headache           2235"
            ],
            "text/html": [
              "\n",
              "  <div id=\"df-6ed9b53e-5182-4624-8ad1-1fe028b1ff0c\" class=\"colab-df-container\">\n",
              "    <div>\n",
              "<style scoped>\n",
              "    .dataframe tbody tr th:only-of-type {\n",
              "        vertical-align: middle;\n",
              "    }\n",
              "\n",
              "    .dataframe tbody tr th {\n",
              "        vertical-align: top;\n",
              "    }\n",
              "\n",
              "    .dataframe thead th {\n",
              "        text-align: right;\n",
              "    }\n",
              "</style>\n",
              "<table border=\"1\" class=\"dataframe\">\n",
              "  <thead>\n",
              "    <tr style=\"text-align: right;\">\n",
              "      <th></th>\n",
              "      <th>symptom</th>\n",
              "      <th>symptom_count</th>\n",
              "    </tr>\n",
              "  </thead>\n",
              "  <tbody>\n",
              "    <tr>\n",
              "      <th>0</th>\n",
              "      <td>Cough_symptoms</td>\n",
              "      <td>6584</td>\n",
              "    </tr>\n",
              "    <tr>\n",
              "      <th>1</th>\n",
              "      <td>Fever</td>\n",
              "      <td>5559</td>\n",
              "    </tr>\n",
              "    <tr>\n",
              "      <th>2</th>\n",
              "      <td>Headache</td>\n",
              "      <td>2235</td>\n",
              "    </tr>\n",
              "  </tbody>\n",
              "</table>\n",
              "</div>\n",
              "    <div class=\"colab-df-buttons\">\n",
              "\n",
              "  <div class=\"colab-df-container\">\n",
              "    <button class=\"colab-df-convert\" onclick=\"convertToInteractive('df-6ed9b53e-5182-4624-8ad1-1fe028b1ff0c')\"\n",
              "            title=\"Convert this dataframe to an interactive table.\"\n",
              "            style=\"display:none;\">\n",
              "\n",
              "  <svg xmlns=\"http://www.w3.org/2000/svg\" height=\"24px\" viewBox=\"0 -960 960 960\">\n",
              "    <path d=\"M120-120v-720h720v720H120Zm60-500h600v-160H180v160Zm220 220h160v-160H400v160Zm0 220h160v-160H400v160ZM180-400h160v-160H180v160Zm440 0h160v-160H620v160ZM180-180h160v-160H180v160Zm440 0h160v-160H620v160Z\"/>\n",
              "  </svg>\n",
              "    </button>\n",
              "\n",
              "  <style>\n",
              "    .colab-df-container {\n",
              "      display:flex;\n",
              "      gap: 12px;\n",
              "    }\n",
              "\n",
              "    .colab-df-convert {\n",
              "      background-color: #E8F0FE;\n",
              "      border: none;\n",
              "      border-radius: 50%;\n",
              "      cursor: pointer;\n",
              "      display: none;\n",
              "      fill: #1967D2;\n",
              "      height: 32px;\n",
              "      padding: 0 0 0 0;\n",
              "      width: 32px;\n",
              "    }\n",
              "\n",
              "    .colab-df-convert:hover {\n",
              "      background-color: #E2EBFA;\n",
              "      box-shadow: 0px 1px 2px rgba(60, 64, 67, 0.3), 0px 1px 3px 1px rgba(60, 64, 67, 0.15);\n",
              "      fill: #174EA6;\n",
              "    }\n",
              "\n",
              "    .colab-df-buttons div {\n",
              "      margin-bottom: 4px;\n",
              "    }\n",
              "\n",
              "    [theme=dark] .colab-df-convert {\n",
              "      background-color: #3B4455;\n",
              "      fill: #D2E3FC;\n",
              "    }\n",
              "\n",
              "    [theme=dark] .colab-df-convert:hover {\n",
              "      background-color: #434B5C;\n",
              "      box-shadow: 0px 1px 3px 1px rgba(0, 0, 0, 0.15);\n",
              "      filter: drop-shadow(0px 1px 2px rgba(0, 0, 0, 0.3));\n",
              "      fill: #FFFFFF;\n",
              "    }\n",
              "  </style>\n",
              "\n",
              "    <script>\n",
              "      const buttonEl =\n",
              "        document.querySelector('#df-6ed9b53e-5182-4624-8ad1-1fe028b1ff0c button.colab-df-convert');\n",
              "      buttonEl.style.display =\n",
              "        google.colab.kernel.accessAllowed ? 'block' : 'none';\n",
              "\n",
              "      async function convertToInteractive(key) {\n",
              "        const element = document.querySelector('#df-6ed9b53e-5182-4624-8ad1-1fe028b1ff0c');\n",
              "        const dataTable =\n",
              "          await google.colab.kernel.invokeFunction('convertToInteractive',\n",
              "                                                    [key], {});\n",
              "        if (!dataTable) return;\n",
              "\n",
              "        const docLinkHtml = 'Like what you see? Visit the ' +\n",
              "          '<a target=\"_blank\" href=https://colab.research.google.com/notebooks/data_table.ipynb>data table notebook</a>'\n",
              "          + ' to learn more about interactive tables.';\n",
              "        element.innerHTML = '';\n",
              "        dataTable['output_type'] = 'display_data';\n",
              "        await google.colab.output.renderOutput(dataTable, element);\n",
              "        const docLink = document.createElement('div');\n",
              "        docLink.innerHTML = docLinkHtml;\n",
              "        element.appendChild(docLink);\n",
              "      }\n",
              "    </script>\n",
              "  </div>\n",
              "\n",
              "\n",
              "<div id=\"df-e2815221-daaf-4366-bfc4-7a73c716ef46\">\n",
              "  <button class=\"colab-df-quickchart\" onclick=\"quickchart('df-e2815221-daaf-4366-bfc4-7a73c716ef46')\"\n",
              "            title=\"Suggest charts\"\n",
              "            style=\"display:none;\">\n",
              "\n",
              "<svg xmlns=\"http://www.w3.org/2000/svg\" height=\"24px\"viewBox=\"0 0 24 24\"\n",
              "     width=\"24px\">\n",
              "    <g>\n",
              "        <path d=\"M19 3H5c-1.1 0-2 .9-2 2v14c0 1.1.9 2 2 2h14c1.1 0 2-.9 2-2V5c0-1.1-.9-2-2-2zM9 17H7v-7h2v7zm4 0h-2V7h2v10zm4 0h-2v-4h2v4z\"/>\n",
              "    </g>\n",
              "</svg>\n",
              "  </button>\n",
              "\n",
              "<style>\n",
              "  .colab-df-quickchart {\n",
              "      --bg-color: #E8F0FE;\n",
              "      --fill-color: #1967D2;\n",
              "      --hover-bg-color: #E2EBFA;\n",
              "      --hover-fill-color: #174EA6;\n",
              "      --disabled-fill-color: #AAA;\n",
              "      --disabled-bg-color: #DDD;\n",
              "  }\n",
              "\n",
              "  [theme=dark] .colab-df-quickchart {\n",
              "      --bg-color: #3B4455;\n",
              "      --fill-color: #D2E3FC;\n",
              "      --hover-bg-color: #434B5C;\n",
              "      --hover-fill-color: #FFFFFF;\n",
              "      --disabled-bg-color: #3B4455;\n",
              "      --disabled-fill-color: #666;\n",
              "  }\n",
              "\n",
              "  .colab-df-quickchart {\n",
              "    background-color: var(--bg-color);\n",
              "    border: none;\n",
              "    border-radius: 50%;\n",
              "    cursor: pointer;\n",
              "    display: none;\n",
              "    fill: var(--fill-color);\n",
              "    height: 32px;\n",
              "    padding: 0;\n",
              "    width: 32px;\n",
              "  }\n",
              "\n",
              "  .colab-df-quickchart:hover {\n",
              "    background-color: var(--hover-bg-color);\n",
              "    box-shadow: 0 1px 2px rgba(60, 64, 67, 0.3), 0 1px 3px 1px rgba(60, 64, 67, 0.15);\n",
              "    fill: var(--button-hover-fill-color);\n",
              "  }\n",
              "\n",
              "  .colab-df-quickchart-complete:disabled,\n",
              "  .colab-df-quickchart-complete:disabled:hover {\n",
              "    background-color: var(--disabled-bg-color);\n",
              "    fill: var(--disabled-fill-color);\n",
              "    box-shadow: none;\n",
              "  }\n",
              "\n",
              "  .colab-df-spinner {\n",
              "    border: 2px solid var(--fill-color);\n",
              "    border-color: transparent;\n",
              "    border-bottom-color: var(--fill-color);\n",
              "    animation:\n",
              "      spin 1s steps(1) infinite;\n",
              "  }\n",
              "\n",
              "  @keyframes spin {\n",
              "    0% {\n",
              "      border-color: transparent;\n",
              "      border-bottom-color: var(--fill-color);\n",
              "      border-left-color: var(--fill-color);\n",
              "    }\n",
              "    20% {\n",
              "      border-color: transparent;\n",
              "      border-left-color: var(--fill-color);\n",
              "      border-top-color: var(--fill-color);\n",
              "    }\n",
              "    30% {\n",
              "      border-color: transparent;\n",
              "      border-left-color: var(--fill-color);\n",
              "      border-top-color: var(--fill-color);\n",
              "      border-right-color: var(--fill-color);\n",
              "    }\n",
              "    40% {\n",
              "      border-color: transparent;\n",
              "      border-right-color: var(--fill-color);\n",
              "      border-top-color: var(--fill-color);\n",
              "    }\n",
              "    60% {\n",
              "      border-color: transparent;\n",
              "      border-right-color: var(--fill-color);\n",
              "    }\n",
              "    80% {\n",
              "      border-color: transparent;\n",
              "      border-right-color: var(--fill-color);\n",
              "      border-bottom-color: var(--fill-color);\n",
              "    }\n",
              "    90% {\n",
              "      border-color: transparent;\n",
              "      border-bottom-color: var(--fill-color);\n",
              "    }\n",
              "  }\n",
              "</style>\n",
              "\n",
              "  <script>\n",
              "    async function quickchart(key) {\n",
              "      const quickchartButtonEl =\n",
              "        document.querySelector('#' + key + ' button');\n",
              "      quickchartButtonEl.disabled = true;  // To prevent multiple clicks.\n",
              "      quickchartButtonEl.classList.add('colab-df-spinner');\n",
              "      try {\n",
              "        const charts = await google.colab.kernel.invokeFunction(\n",
              "            'suggestCharts', [key], {});\n",
              "      } catch (error) {\n",
              "        console.error('Error during call to suggestCharts:', error);\n",
              "      }\n",
              "      quickchartButtonEl.classList.remove('colab-df-spinner');\n",
              "      quickchartButtonEl.classList.add('colab-df-quickchart-complete');\n",
              "    }\n",
              "    (() => {\n",
              "      let quickchartButtonEl =\n",
              "        document.querySelector('#df-e2815221-daaf-4366-bfc4-7a73c716ef46 button');\n",
              "      quickchartButtonEl.style.display =\n",
              "        google.colab.kernel.accessAllowed ? 'block' : 'none';\n",
              "    })();\n",
              "  </script>\n",
              "</div>\n",
              "\n",
              "    </div>\n",
              "  </div>\n"
            ]
          },
          "metadata": {},
          "execution_count": 80
        }
      ],
      "source": [
        "conn.execute('''SELECT\n",
        "    'Cough_symptoms' AS symptom,\n",
        "    COUNT(*) AS symptom_count\n",
        "FROM\n",
        "    DF\n",
        "WHERE\n",
        "    Corona ='positive' AND Cough_symptoms = 1\n",
        "\n",
        "UNION ALL\n",
        "\n",
        "SELECT\n",
        "    'Fever' AS symptom,\n",
        "    COUNT(*) AS symptom_count\n",
        "FROM\n",
        "    DF\n",
        "WHERE\n",
        "    Corona ='positive' AND Fever = 1\n",
        "\n",
        "UNION ALL\n",
        "\n",
        "SELECT\n",
        "    'Sore_throat' AS symptom,\n",
        "    COUNT(*) AS symptom_count\n",
        "FROM\n",
        "    DF\n",
        "WHERE\n",
        "    Corona ='positive' AND Sore_throat = 1\n",
        "\n",
        "UNION ALL\n",
        "\n",
        "SELECT\n",
        "    'Shortness_of_breath' AS symptom,\n",
        "    COUNT(*) AS symptom_count\n",
        "FROM\n",
        "    DF\n",
        "WHERE\n",
        "    Corona ='positive' AND Shortness_of_breath = 1\n",
        "\n",
        "UNION ALL\n",
        "\n",
        "SELECT\n",
        "    'Headache' AS symptom,\n",
        "    COUNT(*) AS symptom_count\n",
        "FROM\n",
        "    DF\n",
        "WHERE\n",
        "    Corona ='positive' AND Headache = 1\n",
        "\n",
        "ORDER BY\n",
        "    symptom_count DESC\n",
        "LIMIT 3;''').fetchdf()\n"
      ]
    },
    {
      "cell_type": "markdown",
      "metadata": {
        "id": "RA3aTBFIsGIB"
      },
      "source": [
        "**7.Which symptom was less common among COVID negative people?**"
      ]
    },
    {
      "cell_type": "code",
      "execution_count": 81,
      "metadata": {
        "colab": {
          "base_uri": "https://localhost:8080/",
          "height": 81
        },
        "id": "EDuonijsse-5",
        "outputId": "bd39e629-76f2-4ebf-c255-5612fe1a4062"
      },
      "outputs": [
        {
          "output_type": "execute_result",
          "data": {
            "text/plain": [
              "    symptom  symptom_count\n",
              "0  Headache            179"
            ],
            "text/html": [
              "\n",
              "  <div id=\"df-b0e2f141-6dc5-4743-b6ac-f529cc6a8c9d\" class=\"colab-df-container\">\n",
              "    <div>\n",
              "<style scoped>\n",
              "    .dataframe tbody tr th:only-of-type {\n",
              "        vertical-align: middle;\n",
              "    }\n",
              "\n",
              "    .dataframe tbody tr th {\n",
              "        vertical-align: top;\n",
              "    }\n",
              "\n",
              "    .dataframe thead th {\n",
              "        text-align: right;\n",
              "    }\n",
              "</style>\n",
              "<table border=\"1\" class=\"dataframe\">\n",
              "  <thead>\n",
              "    <tr style=\"text-align: right;\">\n",
              "      <th></th>\n",
              "      <th>symptom</th>\n",
              "      <th>symptom_count</th>\n",
              "    </tr>\n",
              "  </thead>\n",
              "  <tbody>\n",
              "    <tr>\n",
              "      <th>0</th>\n",
              "      <td>Headache</td>\n",
              "      <td>179</td>\n",
              "    </tr>\n",
              "  </tbody>\n",
              "</table>\n",
              "</div>\n",
              "    <div class=\"colab-df-buttons\">\n",
              "\n",
              "  <div class=\"colab-df-container\">\n",
              "    <button class=\"colab-df-convert\" onclick=\"convertToInteractive('df-b0e2f141-6dc5-4743-b6ac-f529cc6a8c9d')\"\n",
              "            title=\"Convert this dataframe to an interactive table.\"\n",
              "            style=\"display:none;\">\n",
              "\n",
              "  <svg xmlns=\"http://www.w3.org/2000/svg\" height=\"24px\" viewBox=\"0 -960 960 960\">\n",
              "    <path d=\"M120-120v-720h720v720H120Zm60-500h600v-160H180v160Zm220 220h160v-160H400v160Zm0 220h160v-160H400v160ZM180-400h160v-160H180v160Zm440 0h160v-160H620v160ZM180-180h160v-160H180v160Zm440 0h160v-160H620v160Z\"/>\n",
              "  </svg>\n",
              "    </button>\n",
              "\n",
              "  <style>\n",
              "    .colab-df-container {\n",
              "      display:flex;\n",
              "      gap: 12px;\n",
              "    }\n",
              "\n",
              "    .colab-df-convert {\n",
              "      background-color: #E8F0FE;\n",
              "      border: none;\n",
              "      border-radius: 50%;\n",
              "      cursor: pointer;\n",
              "      display: none;\n",
              "      fill: #1967D2;\n",
              "      height: 32px;\n",
              "      padding: 0 0 0 0;\n",
              "      width: 32px;\n",
              "    }\n",
              "\n",
              "    .colab-df-convert:hover {\n",
              "      background-color: #E2EBFA;\n",
              "      box-shadow: 0px 1px 2px rgba(60, 64, 67, 0.3), 0px 1px 3px 1px rgba(60, 64, 67, 0.15);\n",
              "      fill: #174EA6;\n",
              "    }\n",
              "\n",
              "    .colab-df-buttons div {\n",
              "      margin-bottom: 4px;\n",
              "    }\n",
              "\n",
              "    [theme=dark] .colab-df-convert {\n",
              "      background-color: #3B4455;\n",
              "      fill: #D2E3FC;\n",
              "    }\n",
              "\n",
              "    [theme=dark] .colab-df-convert:hover {\n",
              "      background-color: #434B5C;\n",
              "      box-shadow: 0px 1px 3px 1px rgba(0, 0, 0, 0.15);\n",
              "      filter: drop-shadow(0px 1px 2px rgba(0, 0, 0, 0.3));\n",
              "      fill: #FFFFFF;\n",
              "    }\n",
              "  </style>\n",
              "\n",
              "    <script>\n",
              "      const buttonEl =\n",
              "        document.querySelector('#df-b0e2f141-6dc5-4743-b6ac-f529cc6a8c9d button.colab-df-convert');\n",
              "      buttonEl.style.display =\n",
              "        google.colab.kernel.accessAllowed ? 'block' : 'none';\n",
              "\n",
              "      async function convertToInteractive(key) {\n",
              "        const element = document.querySelector('#df-b0e2f141-6dc5-4743-b6ac-f529cc6a8c9d');\n",
              "        const dataTable =\n",
              "          await google.colab.kernel.invokeFunction('convertToInteractive',\n",
              "                                                    [key], {});\n",
              "        if (!dataTable) return;\n",
              "\n",
              "        const docLinkHtml = 'Like what you see? Visit the ' +\n",
              "          '<a target=\"_blank\" href=https://colab.research.google.com/notebooks/data_table.ipynb>data table notebook</a>'\n",
              "          + ' to learn more about interactive tables.';\n",
              "        element.innerHTML = '';\n",
              "        dataTable['output_type'] = 'display_data';\n",
              "        await google.colab.output.renderOutput(dataTable, element);\n",
              "        const docLink = document.createElement('div');\n",
              "        docLink.innerHTML = docLinkHtml;\n",
              "        element.appendChild(docLink);\n",
              "      }\n",
              "    </script>\n",
              "  </div>\n",
              "\n",
              "\n",
              "    </div>\n",
              "  </div>\n"
            ]
          },
          "metadata": {},
          "execution_count": 81
        }
      ],
      "source": [
        "conn.execute('''SELECT\n",
        "    'Cough_symptoms' AS symptom,\n",
        "    COUNT(*) AS symptom_count\n",
        "FROM\n",
        "    DF\n",
        "WHERE\n",
        "    Corona ='negative' AND Cough_symptoms = 1\n",
        "\n",
        "UNION ALL\n",
        "\n",
        "SELECT\n",
        "    'Fever' AS symptom,\n",
        "    COUNT(*) AS symptom_count\n",
        "FROM\n",
        "    DF\n",
        "WHERE\n",
        "    Corona ='negative' AND Fever = 1\n",
        "\n",
        "UNION ALL\n",
        "\n",
        "SELECT\n",
        "    'Sore_throat' AS symptom,\n",
        "    COUNT(*) AS symptom_count\n",
        "FROM\n",
        "    DF\n",
        "WHERE\n",
        "    Corona ='negative' AND Sore_throat = 1\n",
        "\n",
        "UNION ALL\n",
        "\n",
        "SELECT\n",
        "    'Shortness_of_breath' AS symptom,\n",
        "    COUNT(*) AS symptom_count\n",
        "FROM\n",
        "    DF\n",
        "WHERE\n",
        "    Corona ='negative' AND Shortness_of_breath = 1\n",
        "\n",
        "UNION ALL\n",
        "\n",
        "SELECT\n",
        "    'Headache' AS symptom,\n",
        "    COUNT(*) AS symptom_count\n",
        "FROM\n",
        "    DF\n",
        "WHERE\n",
        "    Corona ='negative' AND Headache = 1\n",
        "\n",
        "ORDER BY\n",
        "    symptom_count asc\n",
        "LIMIT 1;''').fetchdf()\n"
      ]
    },
    {
      "cell_type": "markdown",
      "metadata": {
        "id": "EFnShe9hs7jP"
      },
      "source": [
        "**8.What are the most common symptoms among COVID positive males whose known contact was abroad?**"
      ]
    },
    {
      "cell_type": "code",
      "execution_count": 82,
      "metadata": {
        "colab": {
          "base_uri": "https://localhost:8080/",
          "height": 206
        },
        "id": "JIZWcfPys6oR",
        "outputId": "516f80b7-879d-44de-c982-5e890a5458d4"
      },
      "outputs": [
        {
          "output_type": "execute_result",
          "data": {
            "text/plain": [
              "               symptom  symptom_count\n",
              "0       Cough_symptoms           6584\n",
              "1                Fever           5559\n",
              "2          Sore_throat           1526\n",
              "3  Shortness_of_breath           1164\n",
              "4             Headache            878"
            ],
            "text/html": [
              "\n",
              "  <div id=\"df-98c4fc79-b79a-4801-bbbc-1428a0e1f052\" class=\"colab-df-container\">\n",
              "    <div>\n",
              "<style scoped>\n",
              "    .dataframe tbody tr th:only-of-type {\n",
              "        vertical-align: middle;\n",
              "    }\n",
              "\n",
              "    .dataframe tbody tr th {\n",
              "        vertical-align: top;\n",
              "    }\n",
              "\n",
              "    .dataframe thead th {\n",
              "        text-align: right;\n",
              "    }\n",
              "</style>\n",
              "<table border=\"1\" class=\"dataframe\">\n",
              "  <thead>\n",
              "    <tr style=\"text-align: right;\">\n",
              "      <th></th>\n",
              "      <th>symptom</th>\n",
              "      <th>symptom_count</th>\n",
              "    </tr>\n",
              "  </thead>\n",
              "  <tbody>\n",
              "    <tr>\n",
              "      <th>0</th>\n",
              "      <td>Cough_symptoms</td>\n",
              "      <td>6584</td>\n",
              "    </tr>\n",
              "    <tr>\n",
              "      <th>1</th>\n",
              "      <td>Fever</td>\n",
              "      <td>5559</td>\n",
              "    </tr>\n",
              "    <tr>\n",
              "      <th>2</th>\n",
              "      <td>Sore_throat</td>\n",
              "      <td>1526</td>\n",
              "    </tr>\n",
              "    <tr>\n",
              "      <th>3</th>\n",
              "      <td>Shortness_of_breath</td>\n",
              "      <td>1164</td>\n",
              "    </tr>\n",
              "    <tr>\n",
              "      <th>4</th>\n",
              "      <td>Headache</td>\n",
              "      <td>878</td>\n",
              "    </tr>\n",
              "  </tbody>\n",
              "</table>\n",
              "</div>\n",
              "    <div class=\"colab-df-buttons\">\n",
              "\n",
              "  <div class=\"colab-df-container\">\n",
              "    <button class=\"colab-df-convert\" onclick=\"convertToInteractive('df-98c4fc79-b79a-4801-bbbc-1428a0e1f052')\"\n",
              "            title=\"Convert this dataframe to an interactive table.\"\n",
              "            style=\"display:none;\">\n",
              "\n",
              "  <svg xmlns=\"http://www.w3.org/2000/svg\" height=\"24px\" viewBox=\"0 -960 960 960\">\n",
              "    <path d=\"M120-120v-720h720v720H120Zm60-500h600v-160H180v160Zm220 220h160v-160H400v160Zm0 220h160v-160H400v160ZM180-400h160v-160H180v160Zm440 0h160v-160H620v160ZM180-180h160v-160H180v160Zm440 0h160v-160H620v160Z\"/>\n",
              "  </svg>\n",
              "    </button>\n",
              "\n",
              "  <style>\n",
              "    .colab-df-container {\n",
              "      display:flex;\n",
              "      gap: 12px;\n",
              "    }\n",
              "\n",
              "    .colab-df-convert {\n",
              "      background-color: #E8F0FE;\n",
              "      border: none;\n",
              "      border-radius: 50%;\n",
              "      cursor: pointer;\n",
              "      display: none;\n",
              "      fill: #1967D2;\n",
              "      height: 32px;\n",
              "      padding: 0 0 0 0;\n",
              "      width: 32px;\n",
              "    }\n",
              "\n",
              "    .colab-df-convert:hover {\n",
              "      background-color: #E2EBFA;\n",
              "      box-shadow: 0px 1px 2px rgba(60, 64, 67, 0.3), 0px 1px 3px 1px rgba(60, 64, 67, 0.15);\n",
              "      fill: #174EA6;\n",
              "    }\n",
              "\n",
              "    .colab-df-buttons div {\n",
              "      margin-bottom: 4px;\n",
              "    }\n",
              "\n",
              "    [theme=dark] .colab-df-convert {\n",
              "      background-color: #3B4455;\n",
              "      fill: #D2E3FC;\n",
              "    }\n",
              "\n",
              "    [theme=dark] .colab-df-convert:hover {\n",
              "      background-color: #434B5C;\n",
              "      box-shadow: 0px 1px 3px 1px rgba(0, 0, 0, 0.15);\n",
              "      filter: drop-shadow(0px 1px 2px rgba(0, 0, 0, 0.3));\n",
              "      fill: #FFFFFF;\n",
              "    }\n",
              "  </style>\n",
              "\n",
              "    <script>\n",
              "      const buttonEl =\n",
              "        document.querySelector('#df-98c4fc79-b79a-4801-bbbc-1428a0e1f052 button.colab-df-convert');\n",
              "      buttonEl.style.display =\n",
              "        google.colab.kernel.accessAllowed ? 'block' : 'none';\n",
              "\n",
              "      async function convertToInteractive(key) {\n",
              "        const element = document.querySelector('#df-98c4fc79-b79a-4801-bbbc-1428a0e1f052');\n",
              "        const dataTable =\n",
              "          await google.colab.kernel.invokeFunction('convertToInteractive',\n",
              "                                                    [key], {});\n",
              "        if (!dataTable) return;\n",
              "\n",
              "        const docLinkHtml = 'Like what you see? Visit the ' +\n",
              "          '<a target=\"_blank\" href=https://colab.research.google.com/notebooks/data_table.ipynb>data table notebook</a>'\n",
              "          + ' to learn more about interactive tables.';\n",
              "        element.innerHTML = '';\n",
              "        dataTable['output_type'] = 'display_data';\n",
              "        await google.colab.output.renderOutput(dataTable, element);\n",
              "        const docLink = document.createElement('div');\n",
              "        docLink.innerHTML = docLinkHtml;\n",
              "        element.appendChild(docLink);\n",
              "      }\n",
              "    </script>\n",
              "  </div>\n",
              "\n",
              "\n",
              "<div id=\"df-3d946abf-73a4-4679-b9c7-49172e049b76\">\n",
              "  <button class=\"colab-df-quickchart\" onclick=\"quickchart('df-3d946abf-73a4-4679-b9c7-49172e049b76')\"\n",
              "            title=\"Suggest charts\"\n",
              "            style=\"display:none;\">\n",
              "\n",
              "<svg xmlns=\"http://www.w3.org/2000/svg\" height=\"24px\"viewBox=\"0 0 24 24\"\n",
              "     width=\"24px\">\n",
              "    <g>\n",
              "        <path d=\"M19 3H5c-1.1 0-2 .9-2 2v14c0 1.1.9 2 2 2h14c1.1 0 2-.9 2-2V5c0-1.1-.9-2-2-2zM9 17H7v-7h2v7zm4 0h-2V7h2v10zm4 0h-2v-4h2v4z\"/>\n",
              "    </g>\n",
              "</svg>\n",
              "  </button>\n",
              "\n",
              "<style>\n",
              "  .colab-df-quickchart {\n",
              "      --bg-color: #E8F0FE;\n",
              "      --fill-color: #1967D2;\n",
              "      --hover-bg-color: #E2EBFA;\n",
              "      --hover-fill-color: #174EA6;\n",
              "      --disabled-fill-color: #AAA;\n",
              "      --disabled-bg-color: #DDD;\n",
              "  }\n",
              "\n",
              "  [theme=dark] .colab-df-quickchart {\n",
              "      --bg-color: #3B4455;\n",
              "      --fill-color: #D2E3FC;\n",
              "      --hover-bg-color: #434B5C;\n",
              "      --hover-fill-color: #FFFFFF;\n",
              "      --disabled-bg-color: #3B4455;\n",
              "      --disabled-fill-color: #666;\n",
              "  }\n",
              "\n",
              "  .colab-df-quickchart {\n",
              "    background-color: var(--bg-color);\n",
              "    border: none;\n",
              "    border-radius: 50%;\n",
              "    cursor: pointer;\n",
              "    display: none;\n",
              "    fill: var(--fill-color);\n",
              "    height: 32px;\n",
              "    padding: 0;\n",
              "    width: 32px;\n",
              "  }\n",
              "\n",
              "  .colab-df-quickchart:hover {\n",
              "    background-color: var(--hover-bg-color);\n",
              "    box-shadow: 0 1px 2px rgba(60, 64, 67, 0.3), 0 1px 3px 1px rgba(60, 64, 67, 0.15);\n",
              "    fill: var(--button-hover-fill-color);\n",
              "  }\n",
              "\n",
              "  .colab-df-quickchart-complete:disabled,\n",
              "  .colab-df-quickchart-complete:disabled:hover {\n",
              "    background-color: var(--disabled-bg-color);\n",
              "    fill: var(--disabled-fill-color);\n",
              "    box-shadow: none;\n",
              "  }\n",
              "\n",
              "  .colab-df-spinner {\n",
              "    border: 2px solid var(--fill-color);\n",
              "    border-color: transparent;\n",
              "    border-bottom-color: var(--fill-color);\n",
              "    animation:\n",
              "      spin 1s steps(1) infinite;\n",
              "  }\n",
              "\n",
              "  @keyframes spin {\n",
              "    0% {\n",
              "      border-color: transparent;\n",
              "      border-bottom-color: var(--fill-color);\n",
              "      border-left-color: var(--fill-color);\n",
              "    }\n",
              "    20% {\n",
              "      border-color: transparent;\n",
              "      border-left-color: var(--fill-color);\n",
              "      border-top-color: var(--fill-color);\n",
              "    }\n",
              "    30% {\n",
              "      border-color: transparent;\n",
              "      border-left-color: var(--fill-color);\n",
              "      border-top-color: var(--fill-color);\n",
              "      border-right-color: var(--fill-color);\n",
              "    }\n",
              "    40% {\n",
              "      border-color: transparent;\n",
              "      border-right-color: var(--fill-color);\n",
              "      border-top-color: var(--fill-color);\n",
              "    }\n",
              "    60% {\n",
              "      border-color: transparent;\n",
              "      border-right-color: var(--fill-color);\n",
              "    }\n",
              "    80% {\n",
              "      border-color: transparent;\n",
              "      border-right-color: var(--fill-color);\n",
              "      border-bottom-color: var(--fill-color);\n",
              "    }\n",
              "    90% {\n",
              "      border-color: transparent;\n",
              "      border-bottom-color: var(--fill-color);\n",
              "    }\n",
              "  }\n",
              "</style>\n",
              "\n",
              "  <script>\n",
              "    async function quickchart(key) {\n",
              "      const quickchartButtonEl =\n",
              "        document.querySelector('#' + key + ' button');\n",
              "      quickchartButtonEl.disabled = true;  // To prevent multiple clicks.\n",
              "      quickchartButtonEl.classList.add('colab-df-spinner');\n",
              "      try {\n",
              "        const charts = await google.colab.kernel.invokeFunction(\n",
              "            'suggestCharts', [key], {});\n",
              "      } catch (error) {\n",
              "        console.error('Error during call to suggestCharts:', error);\n",
              "      }\n",
              "      quickchartButtonEl.classList.remove('colab-df-spinner');\n",
              "      quickchartButtonEl.classList.add('colab-df-quickchart-complete');\n",
              "    }\n",
              "    (() => {\n",
              "      let quickchartButtonEl =\n",
              "        document.querySelector('#df-3d946abf-73a4-4679-b9c7-49172e049b76 button');\n",
              "      quickchartButtonEl.style.display =\n",
              "        google.colab.kernel.accessAllowed ? 'block' : 'none';\n",
              "    })();\n",
              "  </script>\n",
              "</div>\n",
              "\n",
              "    </div>\n",
              "  </div>\n"
            ]
          },
          "metadata": {},
          "execution_count": 82
        }
      ],
      "source": [
        "conn.execute('''SELECT\n",
        "    'Cough_symptoms' AS symptom,\n",
        "    COUNT(*) AS symptom_count\n",
        "FROM\n",
        "    DF\n",
        "WHERE\n",
        "    Corona ='positive' AND Cough_symptoms = 1\n",
        "\n",
        "UNION ALL\n",
        "\n",
        "SELECT\n",
        "    'Fever' AS symptom,\n",
        "    COUNT(*) AS symptom_count\n",
        "FROM\n",
        "    DF\n",
        "WHERE\n",
        "    Corona ='positive' AND Fever = 1\n",
        "\n",
        "UNION ALL\n",
        "\n",
        "SELECT\n",
        "    'Sore_throat' AS symptom,\n",
        "    COUNT(*) AS symptom_count\n",
        "FROM\n",
        "    DF\n",
        "WHERE\n",
        "    Corona ='positive' AND Sore_throat = 1\n",
        "\n",
        "UNION ALL\n",
        "\n",
        "SELECT\n",
        "    'Shortness_of_breath' AS symptom,\n",
        "    COUNT(*) AS symptom_count\n",
        "FROM\n",
        "    DF\n",
        "WHERE\n",
        "    Corona ='positive' AND Shortness_of_breath = 1\n",
        "\n",
        "UNION ALL\n",
        "\n",
        "SELECT\n",
        "    'Headache' AS symptom,\n",
        "    COUNT(*) AS symptom_count\n",
        "FROM\n",
        "    DF\n",
        "WHERE\n",
        "\n",
        "    Corona ='positive'\n",
        "    AND Sex = 1\n",
        "    AND Known_contact = 'Abroad'\n",
        "GROUP BY\n",
        "    symptom\n",
        "ORDER BY\n",
        "    symptom_count DESC;\n",
        "''').fetchdf()\n"
      ]
    }
  ]
}